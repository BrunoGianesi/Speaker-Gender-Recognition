{
 "metadata": {
  "language_info": {
   "codemirror_mode": {
    "name": "ipython",
    "version": 3
   },
   "file_extension": ".py",
   "mimetype": "text/x-python",
   "name": "python",
   "nbconvert_exporter": "python",
   "pygments_lexer": "ipython3",
   "version": "3.9.1"
  },
  "orig_nbformat": 2,
  "kernelspec": {
   "name": "venv",
   "display_name": "venv",
   "language": "python"
  }
 },
 "nbformat": 4,
 "nbformat_minor": 2,
 "cells": [
  {
   "source": [
    "# This notebook takes the features from the CETUC_Features_data.csv and create plots so we can get a better visualization of the features"
   ],
   "cell_type": "markdown",
   "metadata": {}
  },
  {
   "cell_type": "code",
   "execution_count": null,
   "metadata": {},
   "outputs": [],
   "source": [
    "import pandas as pd\n",
    "import matplotlib.pyplot as plt\n",
    "import numpy as np"
   ]
  },
  {
   "source": [
    "## Import data from csv\n",
    "\n",
    "First, let's check out out dataframe"
   ],
   "cell_type": "markdown",
   "metadata": {}
  },
  {
   "cell_type": "code",
   "execution_count": null,
   "metadata": {},
   "outputs": [],
   "source": [
    "df = pd.read_csv('data/CETUC_Features_data.csv')\n",
    "df.head()"
   ]
  },
  {
   "source": [
    "## Plot features\n",
    "\n",
    "We will now plot each sample's feature againts it's index and see if we can get some insights "
   ],
   "cell_type": "markdown",
   "metadata": {}
  },
  {
   "cell_type": "code",
   "execution_count": null,
   "metadata": {},
   "outputs": [],
   "source": [
    "scatter_x = df.index\n",
    "scatter_y = df['nobs']\n",
    "group = df['Gender']\n",
    "cdict = {0: 'red', 2: 'blue'}\n",
    "\n",
    "# Here we shuffle the dataframe and get just a portion of the data, to save on processing power\n",
    "df_sample = df.sample(frac=1).reset_index(drop=True)\n",
    "df_sample = df_sample[:30000]"
   ]
  },
  {
   "source": [
    "### Nobs and Mean plots"
   ],
   "cell_type": "markdown",
   "metadata": {}
  },
  {
   "cell_type": "code",
   "execution_count": null,
   "metadata": {},
   "outputs": [],
   "source": [
    "fig1, (ax1, ax2) = plt.subplots(1,2,figsize=(15,5))\n",
    "\n",
    "colors = {0: 'red', 1: 'blue'}\n",
    "\n",
    "ax1.scatter(df_sample['nobs'], df_sample.index, c=df_sample['Gender'].apply(lambda x: colors[x]),s= 1)\n",
    "ax1.set(xlabel= \"Nobs\", ylabel= 'Index')\n",
    "ax2.scatter(df_sample['mean'], df_sample.index, c=df_sample['Gender'].apply(lambda x: colors[x]),s= 1)\n",
    "ax2.set(xlabel= \"Mean\", ylabel= 'Index')\n",
    "plt.show()"
   ]
  },
  {
   "source": [
    "### Skew and Kurtosis plot"
   ],
   "cell_type": "markdown",
   "metadata": {}
  },
  {
   "cell_type": "code",
   "execution_count": null,
   "metadata": {},
   "outputs": [],
   "source": [
    "fig2, (ax3, ax4) = plt.subplots(1,2,figsize=(15,5))\n",
    "\n",
    "colors = {0: 'red', 1: 'blue'}\n",
    "\n",
    "ax3.scatter(df_sample['skew'], df_sample.index, c=df_sample['Gender'].apply(lambda x: colors[x]),s= 1)\n",
    "ax3.set(xlabel= \"Skew\", ylabel= 'Index')\n",
    "ax4.scatter(df_sample['kurtosis'], df_sample.index, c=df_sample['Gender'].apply(lambda x: colors[x]),s= 1)\n",
    "ax4.set(xlabel= \"Kurtosis\", ylabel= 'Index')\n",
    "plt.show()"
   ]
  },
  {
   "source": [
    "### Median and Mode plots"
   ],
   "cell_type": "markdown",
   "metadata": {}
  },
  {
   "cell_type": "code",
   "execution_count": null,
   "metadata": {},
   "outputs": [],
   "source": [
    "fig3, (ax5, ax6) = plt.subplots(1,2,figsize=(15,5))\n",
    "\n",
    "colors = {0: 'red', 1: 'blue'}\n",
    "\n",
    "ax5.scatter(df_sample['median'], df_sample.index, c=df_sample['Gender'].apply(lambda x: colors[x]),s= 1)\n",
    "ax5.set(xlabel= \"Median\", ylabel= 'Index')\n",
    "ax6.scatter(df_sample['mode'], df_sample.index, c=df_sample['Gender'].apply(lambda x: colors[x]),s= 1)\n",
    "ax6.set(xlabel= \"Mode\", ylabel= 'Index')\n",
    "plt.show()"
   ]
  },
  {
   "source": [
    "### STD and Low plots"
   ],
   "cell_type": "markdown",
   "metadata": {}
  },
  {
   "cell_type": "code",
   "execution_count": null,
   "metadata": {},
   "outputs": [],
   "source": [
    "fig4, (ax7, ax8) = plt.subplots(1,2,figsize=(15,5))\n",
    "\n",
    "colors = {0: 'red', 1: 'blue'}\n",
    "\n",
    "ax7.scatter(df_sample['std'], df_sample.index, c=df_sample['Gender'].apply(lambda x: colors[x]),s= 1)\n",
    "ax7.set(xlabel= \"STD\", ylabel= 'Index')\n",
    "ax8.scatter(df_sample['low'], df_sample.index, c=df_sample['Gender'].apply(lambda x: colors[x]),s= 1)\n",
    "ax8.set(xlabel= \"LOW\", ylabel= 'Index')\n",
    "plt.show()"
   ]
  },
  {
   "source": [
    "### Peak and Q25 plots"
   ],
   "cell_type": "markdown",
   "metadata": {}
  },
  {
   "cell_type": "code",
   "execution_count": null,
   "metadata": {},
   "outputs": [],
   "source": [
    "fig5, (ax9, ax10) = plt.subplots(1,2,figsize=(15,5))\n",
    "\n",
    "colors = {0: 'red', 1: 'blue'}\n",
    "\n",
    "ax9.scatter(df_sample['peak'], df_sample.index, c=df_sample['Gender'].apply(lambda x: colors[x]),s= 1)\n",
    "ax9.set(xlabel= \"Peak\", ylabel= 'Index')\n",
    "ax10.scatter(df_sample['q25'], df_sample.index, c=df_sample['Gender'].apply(lambda x: colors[x]),s= 1)\n",
    "ax10.set(xlabel= \"Q25\", ylabel= 'Index')\n",
    "plt.show()"
   ]
  },
  {
   "source": [
    "### Q75 and IQR plots"
   ],
   "cell_type": "markdown",
   "metadata": {}
  },
  {
   "cell_type": "code",
   "execution_count": null,
   "metadata": {},
   "outputs": [],
   "source": [
    "fig6, (ax11, ax12) = plt.subplots(1,2,figsize=(15,5))\n",
    "\n",
    "colors = {0: 'red', 1: 'blue'}\n",
    "\n",
    "ax11.scatter(df_sample['q75'], df_sample.index, c=df_sample['Gender'].apply(lambda x: colors[x]),s= 1)\n",
    "ax11.set(xlabel= \"Q75\", ylabel= 'Index')\n",
    "ax12.scatter(df_sample['iqr'], df_sample.index, c=df_sample['Gender'].apply(lambda x: colors[x]),s= 1)\n",
    "ax12.set(xlabel= \"IQR\", ylabel= 'Index')\n",
    "plt.show()"
   ]
  }
 ]
}