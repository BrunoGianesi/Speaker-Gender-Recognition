{
 "cells": [
  {
   "cell_type": "markdown",
   "source": [
    "# Imports:"
   ],
   "metadata": {}
  },
  {
   "cell_type": "code",
   "execution_count": 1,
   "source": [
    "#!/usr/bin/python\n",
    "# -*- coding: utf-8 -*-\n",
    "\n",
    "import os\n",
    "import librosa\n",
    "import asyncio\n",
    "import numpy as np\n",
    "import pandas as pd\n",
    "import scipy.stats as stats\n",
    "import time\n",
    "import nest_asyncio\n",
    "from speechpy import feature"
   ],
   "outputs": [],
   "metadata": {}
  },
  {
   "cell_type": "markdown",
   "source": [
    "# Extract frequency features:"
   ],
   "metadata": {}
  },
  {
   "cell_type": "markdown",
   "source": [
    "## Get metadata:"
   ],
   "metadata": {}
  },
  {
   "cell_type": "code",
   "execution_count": 51,
   "source": [
    "current_path = os.getcwd()\n",
    "source = os.path.join(current_path, \"CommonVoice\")\n",
    "\n",
    "metadata = pd.read_csv(source + \"/train.csv\", delimiter='\t')\n",
    "data = metadata[['path','gender']]\n",
    "data_male = data.loc[data['gender'] == 'male']\n",
    "data_male = data_male.sample(frac=1).reset_index(drop=True)\n",
    "data_female = data.loc[data['gender'] == 'female']\n",
    "\n",
    "data = pd.concat([data_male,data_female])\n",
    "data= data.sample(frac=1).reset_index(drop=True)\n",
    "data['path'] = data['path'].str.replace('.mp3','.wav')\n",
    "\n",
    "data_dict = dict(zip(data.path, data.gender))\n",
    "data_dict['common_voice_pt_22499040.wav']"
   ],
   "outputs": [
    {
     "output_type": "stream",
     "name": "stderr",
     "text": [
      "<ipython-input-51-2f0ddbd1084b>:12: FutureWarning: The default value of regex will change from True to False in a future version.\n",
      "  data['path'] = data['path'].str.replace('.mp3','.wav')\n"
     ]
    },
    {
     "output_type": "execute_result",
     "data": {
      "text/plain": [
       "'male'"
      ]
     },
     "metadata": {},
     "execution_count": 51
    }
   ],
   "metadata": {}
  },
  {
   "cell_type": "markdown",
   "source": [
    "## Extract features:"
   ],
   "metadata": {}
  },
  {
   "cell_type": "code",
   "execution_count": 82,
   "source": [
    "async def get_frequencies(count, file):\n",
    "    keys = data_dict.keys()\n",
    "    if file.endswith('.wav') and file in list(keys):\n",
    "        file_path = os.path.join(current_path,\"CommonVoice\", \"Full\", file)\n",
    "\n",
    "        if data_dict[file] == 'female':\n",
    "            gender = 0\n",
    "            print(gender)\n",
    "        if data_dict[file] == 'male': \n",
    "            gender = 1\n",
    "            print(gender)\n",
    "  \n",
    "        audio_data, sample_rate = await librosa.load(file_path)\n",
    "        \n",
    "\n",
    "        step = int(sample_rate/5) #3200 sampling points every 1/5 sec\n",
    "        window_frequencies = []\n",
    "\n",
    "        for i in range(0,len(audio_data),step):\n",
    "            ft = np.fft.fft(audio_data[i:i+step]) #fft returns the list N complex numbers\n",
    "            freqs = librosa.fft_frequencies(sr=16000, n_fft=len(ft))\n",
    "            freqs = np.fft.fftfreq(len(ft)) #fftq tells you the frequencies associated with the coefficients\n",
    "            imax = np.argmax(np.abs(ft))\n",
    "            freq = freqs[imax]\n",
    "            freq_in_hz = abs(freq *sample_rate)\n",
    "            window_frequencies.append(freq_in_hz)\n",
    "    print(window_frequencies)\n",
    "    return window_frequencies, gender, file"
   ],
   "outputs": [],
   "metadata": {}
  },
  {
   "cell_type": "code",
   "execution_count": 83,
   "source": [
    "async def get_features(count, file):\n",
    "    async with sem:\n",
    "        \n",
    "        frequencies, gender, file_name = await get_frequencies(count, file)\n",
    "\n",
    "        nobs, minmax, mean, variance, skew, kurtosis =  stats.describe(frequencies)\n",
    "        median   = np.median(frequencies)\n",
    "        mode     = stats.mode(frequencies).mode[0]\n",
    "        std      = np.std(frequencies)\n",
    "        low,peak = minmax\n",
    "        q75,q25  = np.percentile(frequencies, [75 ,25])\n",
    "        iqr      = q75 - q25\n",
    "\n",
    "        features_list.append([file_name, nobs, mean, skew, kurtosis, median, mode, std, low, peak, q25, q75, iqr, gender])\n",
    "\n",
    "        \n",
    "\n",
    "        return nobs, mean, skew, kurtosis, median, mode, std, low, peak, q25, q75, iqr"
   ],
   "outputs": [],
   "metadata": {}
  },
  {
   "cell_type": "code",
   "execution_count": 84,
   "source": [
    "# #Calculo de tempo de disparo\n",
    "start_time = time.time()\n",
    "\n",
    "#inicio do Loop\n",
    "loop = asyncio.get_event_loop()\n",
    "\n",
    "#Controle de requisições por vez\n",
    "sem = asyncio.Semaphore(2000)\n",
    "\n",
    "#Array de tasks\n",
    "sents = []\n",
    "\n",
    "nest_asyncio.apply()\n",
    "\n",
    "#Coleta as recomendações para envio\n",
    "gender_list = []\n",
    "file_list = []\n",
    "features_list = []\n",
    "\n",
    "\n",
    "current_path = os.getcwd()\n",
    "file_path = os.path.join(current_path,\"CommonVoice\", \"Full\")\n",
    "audio_files = os.listdir(file_path)\n",
    "\n",
    "for k, file in enumerate(audio_files):\n",
    "    sent = asyncio.ensure_future(get_features(count=k+1, file=file))\n",
    "    #sent = asyncio.create_task(get_features(count=k+1, files=audio_files))\n",
    "    \n",
    "    sents.append(sent)\n",
    "    break\n",
    "done, _ = loop.run_until_complete(asyncio.wait(sents))"
   ],
   "outputs": [],
   "metadata": {}
  },
  {
   "cell_type": "code",
   "execution_count": 85,
   "source": [
    "sents"
   ],
   "outputs": [
    {
     "output_type": "execute_result",
     "data": {
      "text/plain": [
       "[<Task finished name='Task-55' coro=<get_features() done, defined at <ipython-input-83-0185601b6606>:1> exception=UnboundLocalError(\"local variable 'window_frequencies' referenced before assignment\")>]"
      ]
     },
     "metadata": {},
     "execution_count": 85
    }
   ],
   "metadata": {}
  },
  {
   "cell_type": "code",
   "execution_count": 10,
   "source": [
    "dataframe_features = pd.DataFrame(features_list, columns = ['FileName', 'nobs', 'mean', 'skew', 'kurtosis', 'median', 'mode', 'std', 'low', 'peak', 'q25', 'q75', 'iqr', 'Gender'])\n",
    "dataframe_features"
   ],
   "outputs": [
    {
     "output_type": "execute_result",
     "data": {
      "text/plain": [
       "Empty DataFrame\n",
       "Columns: [FileName, nobs, mean, skew, kurtosis, median, mode, std, low, peak, q25, q75, iqr, Gender]\n",
       "Index: []"
      ],
      "text/html": [
       "<div>\n",
       "<style scoped>\n",
       "    .dataframe tbody tr th:only-of-type {\n",
       "        vertical-align: middle;\n",
       "    }\n",
       "\n",
       "    .dataframe tbody tr th {\n",
       "        vertical-align: top;\n",
       "    }\n",
       "\n",
       "    .dataframe thead th {\n",
       "        text-align: right;\n",
       "    }\n",
       "</style>\n",
       "<table border=\"1\" class=\"dataframe\">\n",
       "  <thead>\n",
       "    <tr style=\"text-align: right;\">\n",
       "      <th></th>\n",
       "      <th>FileName</th>\n",
       "      <th>nobs</th>\n",
       "      <th>mean</th>\n",
       "      <th>skew</th>\n",
       "      <th>kurtosis</th>\n",
       "      <th>median</th>\n",
       "      <th>mode</th>\n",
       "      <th>std</th>\n",
       "      <th>low</th>\n",
       "      <th>peak</th>\n",
       "      <th>q25</th>\n",
       "      <th>q75</th>\n",
       "      <th>iqr</th>\n",
       "      <th>Gender</th>\n",
       "    </tr>\n",
       "  </thead>\n",
       "  <tbody>\n",
       "  </tbody>\n",
       "</table>\n",
       "</div>"
      ]
     },
     "metadata": {},
     "execution_count": 10
    }
   ],
   "metadata": {}
  },
  {
   "cell_type": "code",
   "execution_count": null,
   "source": [
    "dataframe_features.to_csv('data/CommonVoice_Features_data.csv', index=False)"
   ],
   "outputs": [],
   "metadata": {}
  },
  {
   "cell_type": "code",
   "execution_count": null,
   "source": [],
   "outputs": [],
   "metadata": {}
  },
  {
   "cell_type": "code",
   "execution_count": null,
   "source": [],
   "outputs": [],
   "metadata": {}
  }
 ],
 "metadata": {
  "kernelspec": {
   "name": "python3",
   "display_name": "Python 3.8.10 64-bit ('venv': venv)"
  },
  "language_info": {
   "codemirror_mode": {
    "name": "ipython",
    "version": 3
   },
   "file_extension": ".py",
   "mimetype": "text/x-python",
   "name": "python",
   "nbconvert_exporter": "python",
   "pygments_lexer": "ipython3",
   "version": "3.8.10"
  },
  "metadata": {
   "interpreter": {
    "hash": "5416e886b2da67312ca4f5cf753d3133e2603bbf2f07750dd1ae6cf6c6d20287"
   }
  },
  "orig_nbformat": 2,
  "interpreter": {
   "hash": "5416e886b2da67312ca4f5cf753d3133e2603bbf2f07750dd1ae6cf6c6d20287"
  }
 },
 "nbformat": 4,
 "nbformat_minor": 2
}