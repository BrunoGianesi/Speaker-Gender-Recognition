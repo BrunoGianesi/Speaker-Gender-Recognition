{
 "cells": [
  {
   "cell_type": "markdown",
   "source": [
    "# Imports"
   ],
   "metadata": {}
  },
  {
   "cell_type": "code",
   "execution_count": 29,
   "source": [
    "import pickle\r\n",
    "import pandas as pd\r\n",
    "from sklearn.metrics import confusion_matrix\r\n",
    "import os"
   ],
   "outputs": [],
   "metadata": {}
  },
  {
   "cell_type": "markdown",
   "source": [
    "# Test Models on CommonVoice"
   ],
   "metadata": {}
  },
  {
   "cell_type": "markdown",
   "source": [
    "## Load test data"
   ],
   "metadata": {}
  },
  {
   "cell_type": "code",
   "execution_count": 48,
   "source": [
    "features = 'F0'\r\n",
    "project_root =  os.path.dirname(os.path.dirname(os.getcwd()))\r\n",
    "test_MLS = pd.read_csv(f'{project_root}/data/CommonVoice-En/{features}_data.csv')\r\n",
    "\r\n",
    "# test_MLS_male = test_MLS[test_MLS.Gender == 1]\r\n",
    "# test_MLS_female = test_MLS[test_MLS.Gender == 0]\r\n",
    "# test_MLS = pd.concat([test_MLS_male, test_MLS_female])\r\n",
    "\r\n",
    "print(f'Feminine voices in the training data: {len(test_MLS.Gender)- sum(test_MLS.Gender)}')\r\n",
    "print(f'Masculine voices in the training data: {sum(test_MLS.Gender)}')\r\n",
    "print(f'Feminine voices in the test data: {len(test_MLS.Gender)- sum(test_MLS.Gender)}')\r\n",
    "print(f'Masculine voices in the test data: {sum(test_MLS.Gender)}')"
   ],
   "outputs": [
    {
     "output_type": "stream",
     "name": "stdout",
     "text": [
      "Feminine voices in the training data: 408\n",
      "Masculine voices in the training data: 391\n",
      "Feminine voices in the test data: 408\n",
      "Masculine voices in the test data: 391\n"
     ]
    }
   ],
   "metadata": {}
  },
  {
   "cell_type": "code",
   "execution_count": 49,
   "source": [
    "if features == 'Features':\r\n",
    "    X_test = test_MLS[['nobs', 'mean', 'skew', 'kurtosis', 'median', 'mode', 'std', 'low', 'peak', 'q25', 'q75', 'iqr']].copy()\r\n",
    "    Y_test = test_MLS[['Gender']].copy()#.values.ravel()\r\n",
    "elif features == 'MFCCs':\r\n",
    "    X_test = test_MLS[['MFCC_1', 'MFCC_2', 'MFCC_3', 'MFCC_4', 'MFCC_5', 'MFCC_6', 'MFCC_7', 'MFCC_8', 'MFCC_9', 'MFCC_10',\r\n",
    "                        'MFCC_11', 'MFCC_12', 'MFCC_13', 'MFCC_14', 'MFCC_15', 'MFCC_16', 'MFCC_17', 'MFCC_18', 'MFCC_19', 'MFCC_20']].copy()\r\n",
    "    Y_test = test_MLS[['Gender']].copy().values.ravel()\r\n",
    "elif features == 'Features_MFCCs':\r\n",
    "    X_test = test_MLS[['nobs', 'mean', 'skew', 'kurtosis', 'median', 'mode', 'std', 'low', 'peak', 'q25', 'q75', 'iqr', \r\n",
    "                        'MFCC_1', 'MFCC_2', 'MFCC_3', 'MFCC_4', 'MFCC_5', 'MFCC_6', 'MFCC_7', 'MFCC_8', 'MFCC_9', 'MFCC_10',\r\n",
    "                        'MFCC_11', 'MFCC_12', 'MFCC_13', 'MFCC_14', 'MFCC_15', 'MFCC_16', 'MFCC_17', 'MFCC_18', 'MFCC_19', 'MFCC_20']].copy()\r\n",
    "    Y_test = test_MLS[['Gender']].copy().values.ravel()\r\n",
    "elif features == 'F0':\r\n",
    "    X_test = test_MLS[['nobs_pitch', 'mean_pitch', 'skew_pitch', 'kurtosis_pitch', 'median_pitch', 'mode_pitch', 'std_pitch', 'low_pitch', 'peak_pitch', 'q25_pitch', 'q75_pitch', 'iqr_pitch']].copy()\r\n",
    "    Y_test = test_MLS[['Gender']].copy().values.ravel()\r\n",
    "elif features == 'F0_MFCCs':\r\n",
    "    X_test = test_MLS[['nobs_pitch', 'mean_pitch', 'skew_pitch', 'kurtosis_pitch', 'median_pitch', 'mode_pitch', 'std_pitch', 'low_pitch', 'peak_pitch', 'q25_pitch', 'q75_pitch', 'iqr_pitch', \r\n",
    "                        'MFCC_1', 'MFCC_2', 'MFCC_3', 'MFCC_4', 'MFCC_5', 'MFCC_6', 'MFCC_7', 'MFCC_8', 'MFCC_9', 'MFCC_10',\r\n",
    "                        'MFCC_11', 'MFCC_12', 'MFCC_13', 'MFCC_14', 'MFCC_15', 'MFCC_16', 'MFCC_17', 'MFCC_18', 'MFCC_19', 'MFCC_20']].copy()\r\n",
    "    Y_test = test_MLS[['Gender']].copy().values.ravel()\r\n",
    "elif features == 'Features_F0_MFCCs':\r\n",
    "    X_test = test_MLS[['nobs', 'mean', 'skew', 'kurtosis', 'median', 'mode', 'std', 'low', 'peak', 'q25', 'q75', 'iqr',\r\n",
    "        'nobs_pitch', 'mean_pitch', 'skew_pitch', 'kurtosis_pitch', 'median_pitch', 'mode_pitch', 'std_pitch', 'low_pitch', 'peak_pitch', 'q25_pitch', 'q75_pitch', 'iqr_pitch', \r\n",
    "                        'MFCC_1', 'MFCC_2', 'MFCC_3', 'MFCC_4', 'MFCC_5', 'MFCC_6', 'MFCC_7', 'MFCC_8', 'MFCC_9', 'MFCC_10',\r\n",
    "                        'MFCC_11', 'MFCC_12', 'MFCC_13', 'MFCC_14', 'MFCC_15', 'MFCC_16', 'MFCC_17', 'MFCC_18', 'MFCC_19', 'MFCC_20']].copy()\r\n",
    "    Y_test = test_MLS[['Gender']].copy().values.ravel()"
   ],
   "outputs": [],
   "metadata": {}
  },
  {
   "cell_type": "code",
   "execution_count": 50,
   "source": [
    "# scaler = StandardScaler()\r\n",
    "scaler = pickle.load(open(f'{project_root}/models/CETUC/{features}/scaler.pkl', 'rb'))\r\n",
    "X_test = pd.DataFrame(scaler.transform(X_test), columns=X_test.columns)\r\n"
   ],
   "outputs": [
    {
     "output_type": "stream",
     "name": "stderr",
     "text": [
      "d:\\dev\\Speaker-Gender-Recognition\\venv\\lib\\site-packages\\sklearn\\base.py:310: UserWarning: Trying to unpickle estimator StandardScaler from version 0.24.2 when using version 0.24.1. This might lead to breaking code or invalid results. Use at your own risk.\n",
      "  warnings.warn(\n"
     ]
    }
   ],
   "metadata": {}
  },
  {
   "cell_type": "markdown",
   "source": [
    "## Load Models"
   ],
   "metadata": {}
  },
  {
   "cell_type": "code",
   "execution_count": 51,
   "source": [
    "dataset = 'CETUC'\r\n",
    "\r\n",
    "filename = f'{project_root}/models/{dataset}/{features}/DecisionTree.sav'\r\n",
    "tree = pickle.load(open(filename, 'rb'))\r\n",
    "print(\"\\nDecision Tree\")\r\n",
    "print(\"Accuracy on test set: {:.3f}\".format(tree.score(X_test, Y_test)))\r\n",
    "print(f\"Confusion Matrix:\\n {confusion_matrix(Y_test, tree.predict(X_test), labels=[1, 0])}\")\r\n",
    "\r\n",
    "filename = f'{project_root}/models/{dataset}/{features}/RandomForest.sav'\r\n",
    "forest = pickle.load(open(filename, 'rb'))\r\n",
    "print(\"\\nRandom Forests\")\r\n",
    "print(\"Accuracy on test set: {:.3f}\".format(forest.score(X_test, Y_test)))\r\n",
    "print(f\"Confusion Matrix:\\n {confusion_matrix(Y_test, forest.predict(X_test), labels=[1, 0])}\")\r\n",
    "\r\n",
    "filename = f'{project_root}/models/{dataset}/{features}/GradientBoosting.sav'\r\n",
    "gbrt = pickle.load(open(filename, 'rb'))\r\n",
    "print(\"\\nGradient Boosting\")\r\n",
    "print(\"Accuracy on test set: {:.3f}\".format(gbrt.score(X_test, Y_test)))\r\n",
    "print(f\"Confusion Matrix:\\n {confusion_matrix(Y_test, gbrt.predict(X_test), labels=[1, 0])}\")"
   ],
   "outputs": [
    {
     "output_type": "stream",
     "name": "stdout",
     "text": [
      "\n",
      "Decision Tree\n",
      "Accuracy on test set: 0.870\n",
      "Confusion Matrix:\n",
      " [[364  27]\n",
      " [ 77 331]]\n",
      "\n",
      "Random Forests\n",
      "Accuracy on test set: 0.882\n",
      "Confusion Matrix:\n",
      " [[373  18]\n",
      " [ 76 332]]\n",
      "\n",
      "Gradient Boosting\n",
      "Accuracy on test set: 0.886\n",
      "Confusion Matrix:\n",
      " [[373  18]\n",
      " [ 73 335]]\n"
     ]
    },
    {
     "output_type": "stream",
     "name": "stderr",
     "text": [
      "d:\\dev\\Speaker-Gender-Recognition\\venv\\lib\\site-packages\\sklearn\\base.py:310: UserWarning: Trying to unpickle estimator DecisionTreeClassifier from version 0.24.2 when using version 0.24.1. This might lead to breaking code or invalid results. Use at your own risk.\n",
      "  warnings.warn(\n",
      "d:\\dev\\Speaker-Gender-Recognition\\venv\\lib\\site-packages\\sklearn\\base.py:310: UserWarning: Trying to unpickle estimator DecisionTreeClassifier from version 0.24.2 when using version 0.24.1. This might lead to breaking code or invalid results. Use at your own risk.\n",
      "  warnings.warn(\n",
      "d:\\dev\\Speaker-Gender-Recognition\\venv\\lib\\site-packages\\sklearn\\base.py:310: UserWarning: Trying to unpickle estimator RandomForestClassifier from version 0.24.2 when using version 0.24.1. This might lead to breaking code or invalid results. Use at your own risk.\n",
      "  warnings.warn(\n",
      "d:\\dev\\Speaker-Gender-Recognition\\venv\\lib\\site-packages\\sklearn\\base.py:310: UserWarning: Trying to unpickle estimator DummyClassifier from version 0.24.2 when using version 0.24.1. This might lead to breaking code or invalid results. Use at your own risk.\n",
      "  warnings.warn(\n",
      "d:\\dev\\Speaker-Gender-Recognition\\venv\\lib\\site-packages\\sklearn\\base.py:310: UserWarning: Trying to unpickle estimator DecisionTreeRegressor from version 0.24.2 when using version 0.24.1. This might lead to breaking code or invalid results. Use at your own risk.\n",
      "  warnings.warn(\n",
      "d:\\dev\\Speaker-Gender-Recognition\\venv\\lib\\site-packages\\sklearn\\base.py:310: UserWarning: Trying to unpickle estimator GradientBoostingClassifier from version 0.24.2 when using version 0.24.1. This might lead to breaking code or invalid results. Use at your own risk.\n",
      "  warnings.warn(\n"
     ]
    }
   ],
   "metadata": {}
  },
  {
   "cell_type": "code",
   "execution_count": 52,
   "source": [
    "filename = f'{project_root}/models/{dataset}/{features}/LogisticRegression.sav'\r\n",
    "lgr = pickle.load(open(filename, 'rb'))\r\n",
    "print(\"\\nLogisticRegression\")\r\n",
    "print(\"Accuracy on test set: {:.3f}\".format(lgr.score(X_test, Y_test)))\r\n",
    "print(f\"Confusion Matrix:\\n {confusion_matrix(Y_test, lgr.predict(X_test), labels=[1, 0])}\")\r\n",
    "\r\n",
    "filename = f'{project_root}/models/{dataset}/{features}/SVM.sav'\r\n",
    "svm = pickle.load(open(filename, 'rb'))\r\n",
    "print(\"\\nSupport Vector Machine\")\r\n",
    "print(\"Accuracy on test set: {:.3f}\".format(svm.score(X_test, Y_test)))\r\n",
    "print(f\"Confusion Matrix:\\n {confusion_matrix(Y_test, svm.predict(X_test), labels=[1, 0])}\")\r\n",
    "\r\n",
    "filename = f'{project_root}/models/{dataset}/{features}/MLP.sav'\r\n",
    "mlp = pickle.load(open(filename, 'rb'))\r\n",
    "print(\"\\nMultilayer Perceptron\")\r\n",
    "print(\"Accuracy on test set: {:.3f}\".format(mlp.score(X_test, Y_test)))\r\n",
    "print(f\"Confusion Matrix:\\n {confusion_matrix(Y_test, mlp.predict(X_test), labels=[1, 0])}\")"
   ],
   "outputs": [
    {
     "output_type": "stream",
     "name": "stderr",
     "text": [
      "d:\\dev\\Speaker-Gender-Recognition\\venv\\lib\\site-packages\\sklearn\\base.py:310: UserWarning: Trying to unpickle estimator LogisticRegression from version 0.24.2 when using version 0.24.1. This might lead to breaking code or invalid results. Use at your own risk.\n",
      "  warnings.warn(\n",
      "d:\\dev\\Speaker-Gender-Recognition\\venv\\lib\\site-packages\\sklearn\\base.py:310: UserWarning: Trying to unpickle estimator SVC from version 0.24.2 when using version 0.24.1. This might lead to breaking code or invalid results. Use at your own risk.\n",
      "  warnings.warn(\n"
     ]
    },
    {
     "output_type": "stream",
     "name": "stdout",
     "text": [
      "\n",
      "LogisticRegression\n",
      "Accuracy on test set: 0.856\n",
      "Confusion Matrix:\n",
      " [[379  12]\n",
      " [103 305]]\n",
      "\n",
      "Support Vector Machine\n",
      "Accuracy on test set: 0.895\n",
      "Confusion Matrix:\n",
      " [[373  18]\n",
      " [ 66 342]]\n",
      "\n",
      "Multilayer Perceptron\n",
      "Accuracy on test set: 0.899\n",
      "Confusion Matrix:\n",
      " [[375  16]\n",
      " [ 65 343]]\n"
     ]
    },
    {
     "output_type": "stream",
     "name": "stderr",
     "text": [
      "d:\\dev\\Speaker-Gender-Recognition\\venv\\lib\\site-packages\\sklearn\\base.py:310: UserWarning: Trying to unpickle estimator LabelBinarizer from version 0.24.2 when using version 0.24.1. This might lead to breaking code or invalid results. Use at your own risk.\n",
      "  warnings.warn(\n",
      "d:\\dev\\Speaker-Gender-Recognition\\venv\\lib\\site-packages\\sklearn\\base.py:310: UserWarning: Trying to unpickle estimator MLPClassifier from version 0.24.2 when using version 0.24.1. This might lead to breaking code or invalid results. Use at your own risk.\n",
      "  warnings.warn(\n"
     ]
    }
   ],
   "metadata": {}
  },
  {
   "cell_type": "code",
   "execution_count": null,
   "source": [],
   "outputs": [],
   "metadata": {}
  }
 ],
 "metadata": {
  "kernelspec": {
   "name": "python3",
   "display_name": "Python 3.9.1 64-bit ('venv': venv)"
  },
  "language_info": {
   "name": "python",
   "version": "3.9.1",
   "mimetype": "text/x-python",
   "codemirror_mode": {
    "name": "ipython",
    "version": 3
   },
   "pygments_lexer": "ipython3",
   "nbconvert_exporter": "python",
   "file_extension": ".py"
  },
  "metadata": {
   "interpreter": {
    "hash": "236b1f587e00dfc797b67f0f09e861988e72f179bfc773f14c0ed9918c1370fd"
   }
  },
  "orig_nbformat": 2,
  "interpreter": {
   "hash": "5486e5cd054d1e412d6aef716f8c2fbe82dbf0bdc56586f31f4b3a964d871afa"
  }
 },
 "nbformat": 4,
 "nbformat_minor": 2
}