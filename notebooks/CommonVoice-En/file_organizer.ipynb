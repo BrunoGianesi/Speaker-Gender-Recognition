{
 "metadata": {
  "language_info": {
   "codemirror_mode": {
    "name": "ipython",
    "version": 3
   },
   "file_extension": ".py",
   "mimetype": "text/x-python",
   "name": "python",
   "nbconvert_exporter": "python",
   "pygments_lexer": "ipython3",
   "version": "3.9.1"
  },
  "orig_nbformat": 4,
  "kernelspec": {
   "name": "python3",
   "display_name": "Python 3.9.1 64-bit ('venv': venv)"
  },
  "interpreter": {
   "hash": "5486e5cd054d1e412d6aef716f8c2fbe82dbf0bdc56586f31f4b3a964d871afa"
  }
 },
 "nbformat": 4,
 "nbformat_minor": 2,
 "cells": [
  {
   "cell_type": "code",
   "execution_count": 1,
   "metadata": {},
   "outputs": [],
   "source": [
    "import os\n",
    "import pandas as pd\n",
    "import numpy as np\n",
    "import shutil\n",
    "from pydub import AudioSegment\n",
    "import asyncio\n",
    "import time\n",
    "import nest_asyncio"
   ]
  },
  {
   "cell_type": "code",
   "execution_count": 2,
   "metadata": {},
   "outputs": [],
   "source": [
    "project_root =  os.path.dirname(os.path.dirname(os.getcwd()))\n",
    "CVFolder = os.path.join(project_root, \"CommonVoice-En\")"
   ]
  },
  {
   "source": [
    "## Build the dataset"
   ],
   "cell_type": "markdown",
   "metadata": {}
  },
  {
   "cell_type": "code",
   "execution_count": 3,
   "metadata": {},
   "outputs": [],
   "source": [
    "test = pd.read_csv(os.path.join(CVFolder, \"test.tsv\"), delimiter=\"\t\")\n",
    "test = test[(test.gender == 'male') | (test.gender == 'female')]\n",
    "\n",
    "train = pd.read_csv(os.path.join(CVFolder, \"train.tsv\"), delimiter=\"\t\")\n",
    "train = train[(train.gender == 'male') | (train.gender == 'female')]\n",
    "\n",
    "validated = pd.read_csv(os.path.join(CVFolder, \"validated.tsv\"), delimiter=\"\t\")\n",
    "validated = validated[(validated.gender == 'male') | (validated.gender == 'female')]\n",
    "\n",
    "final = pd.concat([test, train,validated])\n",
    "\n",
    "fem_final = final[(final.gender == 'female')]\n",
    "fem_final = fem_final[:1000]\n",
    "male_final = final[(final.gender == 'male')]\n",
    "male_final = male_final[:1000]\n",
    "final = pd.concat([fem_final, male_final])"
   ]
  },
  {
   "cell_type": "code",
   "execution_count": 4,
   "metadata": {},
   "outputs": [
    {
     "output_type": "error",
     "ename": "SyntaxError",
     "evalue": "unmatched ')' (<ipython-input-4-9cb14ab02fcc>, line 12)",
     "traceback": [
      "\u001b[1;36m  File \u001b[1;32m\"<ipython-input-4-9cb14ab02fcc>\"\u001b[1;36m, line \u001b[1;32m12\u001b[0m\n\u001b[1;33m    )\u001b[0m\n\u001b[1;37m    ^\u001b[0m\n\u001b[1;31mSyntaxError\u001b[0m\u001b[1;31m:\u001b[0m unmatched ')'\n"
     ]
    }
   ],
   "source": [
    "# source = os.path.join(project_root, 'CommonVoice-En', 'clips')\n",
    "# files = os.listdir(source)\n",
    "# # files_without_mp3 = \n",
    "# destination = os.path.join(project_root, \"CommonVoice-En\", \"Full\")\n",
    "# are_you_sure = True\n",
    "# count = 0\n",
    "# if are_you_sure:\n",
    "#     for file in final['pathth[:10]:\n",
    "#         count =+ 1a#         # i(f fi + '.mp3')le in fil:\n",
    "#             if (file + '.wav') not in os.listdir(destination):\"#                 # sound = AudioSegment.from_mpos.path.join(source, (file + '.mp3'))le#                 # sound.export(os.path.join(destination(, fi + '.wav')le), format=\"wav\n",
    "#                 print(f\"\\r{count}/{len(final)}\", end='')\n",
    ")\n"
   ]
  },
  {
   "cell_type": "code",
   "execution_count": null,
   "metadata": {},
   "outputs": [],
   "source": [
    "async def convert_audio(count, file):\n",
    "    if (file + '.mp3') in files:\n",
    "        if (file + '.wav') not in os.listdir(destination):\n",
    "            sound = AudioSegment.from_mp3(os.path.join(source, (file + '.mp3')))\n",
    "            sound.export(os.path.join(destination, (file + '.wav')), format=\"wav\")\n",
    "            print(f\"\\r{count}/{len(final)}\", end='')\n",
    "    return"
   ]
  },
  {
   "cell_type": "code",
   "execution_count": 6,
   "metadata": {},
   "outputs": [
    {
     "output_type": "stream",
     "name": "stdout",
     "text": [
      "2000/2000"
     ]
    }
   ],
   "source": [
    "# #Calculo de tempo de disparo\n",
    "start_time = time.time()\n",
    "\n",
    "#inicio do Loop\n",
    "loop = asyncio.get_event_loop()\n",
    "\n",
    "#Controle de requisições por vez\n",
    "sem = asyncio.Semaphore(6000)\n",
    "\n",
    "#Array de tasks\n",
    "sents = []\n",
    "\n",
    "nest_asyncio.apply()\n",
    "\n",
    "source = os.path.join(project_root, 'CommonVoice-En', 'clips')\n",
    "files = os.listdir(source)\n",
    "destination = os.path.join(project_root, \"CommonVoice-En\", \"Full\")\n",
    "are_you_sure = True\n",
    "count = 0\n",
    "if are_you_sure:\n",
    "    for k, file in enumerate(final['path']):\n",
    "        sent = asyncio.ensure_future(convert_audio(count=k+1, file=file))\n",
    "        #sent = asyncio.create_task(get_features(count=k+1, files=audio_files))\n",
    "        \n",
    "        sents.append(sent)\n",
    "    \n",
    "done, _ = loop.run_until_complete(asyncio.wait(sents))"
   ]
  },
  {
   "cell_type": "code",
   "execution_count": null,
   "metadata": {},
   "outputs": [],
   "source": []
  },
  {
   "cell_type": "code",
   "execution_count": null,
   "metadata": {},
   "outputs": [],
   "source": []
  }
 ]
}