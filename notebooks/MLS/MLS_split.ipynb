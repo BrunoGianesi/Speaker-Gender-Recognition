{
 "cells": [
  {
   "cell_type": "code",
   "execution_count": 2,
   "metadata": {},
   "outputs": [],
   "source": [
    "from pydub import AudioSegment \n",
    "from pydub.utils import make_chunks\n",
    "import os"
   ]
  },
  {
   "cell_type": "code",
   "execution_count": null,
   "metadata": {},
   "outputs": [],
   "source": [
    "def process_audio(file_name):\n",
    "    myaudio = AudioSegment.from_file(\"./MLS/Full/\" + file_name, \"wav\") \n",
    "    chunk_length_ms = 3000 # pydub calculates in millisec \n",
    "    chunks = make_chunks(myaudio,chunk_length_ms) #Make chunks of one sec \n",
    "    for i, chunk in enumerate(chunks): \n",
    "        chunk_name = './MLS/Full_split/' + file_name + \"_{0}.wav\".format(i) \n",
    "        print (\"exporting\", chunk_name) \n",
    "        chunk.export(chunk_name, format=\"wav\") \n",
    "\n",
    "current_path = os.getcwd()\n",
    "folder = os.path.join(current_path, \"MLS\", \"Full\")\n",
    "all_file_names = os.listdir(folder)\n",
    "try:\n",
    "    os.makedirs('MLS/Full_split') # creating a folder named chunked\n",
    "except:\n",
    "    pass\n",
    "for each_file in all_file_names:\n",
    "    if ('.wav' in each_file):\n",
    "        process_audio(each_file)"
   ]
  },
  {
   "cell_type": "code",
   "execution_count": null,
   "metadata": {},
   "outputs": [],
   "source": [
    "all_file_names"
   ]
  }
 ],
 "metadata": {
  "interpreter": {
   "hash": "916dbcbb3f70747c44a77c7bcd40155683ae19c65e1c03b4aa3499c5328201f1"
  },
  "kernelspec": {
   "display_name": "Python 3.8.10 64-bit",
   "name": "python3"
  },
  "language_info": {
   "name": "python",
   "version": ""
  },
  "metadata": {
   "interpreter": {
    "hash": "5416e886b2da67312ca4f5cf753d3133e2603bbf2f07750dd1ae6cf6c6d20287"
   }
  },
  "orig_nbformat": 2
 },
 "nbformat": 4,
 "nbformat_minor": 2
}