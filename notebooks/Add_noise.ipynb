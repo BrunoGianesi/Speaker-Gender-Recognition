{
 "cells": [
  {
   "cell_type": "markdown",
   "metadata": {},
   "source": [
    "# Notebook used to add noise to other datasets\n"
   ]
  },
  {
   "cell_type": "markdown",
   "metadata": {},
   "source": [
    "## Imports"
   ]
  },
  {
   "cell_type": "code",
   "execution_count": 57,
   "metadata": {},
   "outputs": [],
   "source": [
    "from audiomentations import Compose, AddBackgroundNoise\n",
    "import pandas as pd\n",
    "import os\n",
    "import librosa\n",
    "from scipy.io.wavfile import write"
   ]
  },
  {
   "cell_type": "markdown",
   "metadata": {},
   "source": [
    "## Set paths"
   ]
  },
  {
   "cell_type": "code",
   "execution_count": 58,
   "metadata": {},
   "outputs": [],
   "source": [
    "# Set paths\n",
    "project_root = os.path.dirname(os.getcwd())\n",
    "dataset = 'MLS'\n",
    "dataset_path = os.path.join(project_root, dataset, 'Full')\n",
    "noise_path = os.path.join(project_root, 'noise', 'free-sound')\n",
    "\n",
    "# Get list of files\n",
    "dataset_files = os.listdir(dataset_path)\n",
    "noise_files = os.listdir(noise_path)"
   ]
  },
  {
   "cell_type": "markdown",
   "metadata": {},
   "source": [
    "## Create dataframes"
   ]
  },
  {
   "cell_type": "code",
   "execution_count": 62,
   "metadata": {},
   "outputs": [],
   "source": [
    "dataset_df = pd.DataFrame(dataset_files, columns=['FileName'])\n",
    "dataset_df = dataset_df[dataset_df['FileName'].str.contains(\".wav\")]\n",
    "noise_df = pd.DataFrame(noise_files, columns=['NoiseFile'])\n",
    "noise_df = noise_df.append(noise_df, ignore_index=True)[:len(dataset_df)]\n",
    "df = pd.concat([dataset_df, noise_df], ignore_index=True, axis=1)\n",
    "df = df.rename(columns={0 : 'FileName', 1 : 'NoiseFile'})"
   ]
  },
  {
   "cell_type": "markdown",
   "metadata": {},
   "source": [
    "## Add noise"
   ]
  },
  {
   "cell_type": "code",
   "execution_count": 85,
   "metadata": {},
   "outputs": [
    {
     "name": "stdout",
     "output_type": "stream",
     "text": [
      "870/871"
     ]
    }
   ],
   "source": [
    "sr = 22050\n",
    "\n",
    "for i, row in df.iterrows():\n",
    "    augmenter = Compose([AddBackgroundNoise(noise_path)])\n",
    "    sample, sr = librosa.load(os.path.join(dataset_path, row['FileName']), sr=sr)\n",
    "    audio_with_noise = augmenter(samples=sample, sample_rate=16000)\n",
    "    write(os.path.join(project_root, 'MLS_noise', row['FileName']), sr, audio_with_noise)\n",
    "    print(f\"\\r{i}/{len(df)}\", end='')"
   ]
  }
 ],
 "metadata": {
  "interpreter": {
   "hash": "5486e5cd054d1e412d6aef716f8c2fbe82dbf0bdc56586f31f4b3a964d871afa"
  },
  "kernelspec": {
   "display_name": "Python 3.9.1 64-bit ('venv': venv)",
   "name": "python3"
  },
  "language_info": {
   "codemirror_mode": {
    "name": "ipython",
    "version": 3
   },
   "file_extension": ".py",
   "mimetype": "text/x-python",
   "name": "python",
   "nbconvert_exporter": "python",
   "pygments_lexer": "ipython3",
   "version": "3.9.1"
  },
  "orig_nbformat": 4
 },
 "nbformat": 4,
 "nbformat_minor": 2
}
