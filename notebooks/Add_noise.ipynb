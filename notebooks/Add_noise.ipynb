{
 "cells": [
  {
   "cell_type": "markdown",
   "source": [
    "# Notebook used to add noise to other datasets\r\n"
   ],
   "metadata": {}
  },
  {
   "cell_type": "markdown",
   "source": [
    "## Imports"
   ],
   "metadata": {}
  },
  {
   "cell_type": "code",
   "execution_count": 57,
   "source": [
    "from audiomentations import Compose, AddBackgroundNoise\r\n",
    "import pandas as pd\r\n",
    "import os\r\n",
    "import librosa\r\n",
    "from scipy.io.wavfile import write"
   ],
   "outputs": [],
   "metadata": {}
  },
  {
   "cell_type": "markdown",
   "source": [
    "## Set paths"
   ],
   "metadata": {}
  },
  {
   "cell_type": "code",
   "execution_count": 58,
   "source": [
    "# Set paths\r\n",
    "project_root = os.path.dirname(os.getcwd())\r\n",
    "dataset = 'MLS'\r\n",
    "dataset_path = os.path.join(project_root, dataset, 'Full')\r\n",
    "noise_path = os.path.join(project_root, 'noise', 'free-sound')\r\n",
    "\r\n",
    "# Get list of files\r\n",
    "dataset_files = os.listdir(dataset_path)\r\n",
    "noise_files = os.listdir(noise_path)"
   ],
   "outputs": [],
   "metadata": {}
  },
  {
   "cell_type": "markdown",
   "source": [
    "## Create dataframes"
   ],
   "metadata": {}
  },
  {
   "cell_type": "code",
   "execution_count": 62,
   "source": [
    "dataset_df = pd.DataFrame(dataset_files, columns=['FileName'])\r\n",
    "dataset_df = dataset_df[dataset_df['FileName'].str.contains(\".wav\")]\r\n",
    "noise_df = pd.DataFrame(noise_files, columns=['NoiseFile'])\r\n",
    "noise_df = noise_df.append(noise_df, ignore_index=True)[:len(dataset_df)]\r\n",
    "df = pd.concat([dataset_df, noise_df], ignore_index=True, axis=1)\r\n",
    "df = df.rename(columns={0 : 'FileName', 1 : 'NoiseFile'})"
   ],
   "outputs": [],
   "metadata": {}
  },
  {
   "cell_type": "markdown",
   "source": [
    "## Add noise"
   ],
   "metadata": {}
  },
  {
   "cell_type": "code",
   "execution_count": 85,
   "source": [
    "sr = 22050\r\n",
    "\r\n",
    "for i, row in df.iterrows():\r\n",
    "    augmenter = Compose([AddBackgroundNoise(noise_path)])\r\n",
    "    sample, sr = librosa.load(os.path.join(dataset_path, row['FileName']), sr=sr)\r\n",
    "    audio_with_noise = augmenter(samples=sample, sample_rate=16000)\r\n",
    "    write(os.path.join(project_root, 'MLS_noise', row['FileName']), sr, audio_with_noise)\r\n",
    "    print(f\"\\r{i}/{len(df)}\", end='')"
   ],
   "outputs": [
    {
     "output_type": "stream",
     "name": "stdout",
     "text": [
      "870/871"
     ]
    }
   ],
   "metadata": {}
  }
 ],
 "metadata": {
  "orig_nbformat": 4,
  "language_info": {
   "name": "python",
   "version": "3.9.1",
   "mimetype": "text/x-python",
   "codemirror_mode": {
    "name": "ipython",
    "version": 3
   },
   "pygments_lexer": "ipython3",
   "nbconvert_exporter": "python",
   "file_extension": ".py"
  },
  "kernelspec": {
   "name": "python3",
   "display_name": "Python 3.9.1 64-bit ('venv': venv)"
  },
  "interpreter": {
   "hash": "5486e5cd054d1e412d6aef716f8c2fbe82dbf0bdc56586f31f4b3a964d871afa"
  }
 },
 "nbformat": 4,
 "nbformat_minor": 2
}