{
 "cells": [
  {
   "cell_type": "markdown",
   "metadata": {},
   "source": [
    "# Imports"
   ]
  },
  {
   "cell_type": "code",
   "execution_count": 1,
   "metadata": {},
   "outputs": [],
   "source": [
    "import os\n",
    "\n",
    "import librosa\n",
    "import matplotlib.pyplot as plt\n",
    "import numpy as np\n",
    "import json\n",
    "import pandas as pd\n",
    "from scipy.io import wavfile\n",
    "import scipy.stats as stats\n",
    "import re"
   ]
  },
  {
   "cell_type": "markdown",
   "metadata": {},
   "source": [
    "# Extract MFCCs"
   ]
  },
  {
   "cell_type": "code",
   "execution_count": 13,
   "metadata": {},
   "outputs": [],
   "source": [
    "def extract_MFCCs(files):\n",
    "    data_list = []\n",
    "    print(\"Extracting features...\")\n",
    "    for i, file in enumerate(files):\n",
    "        if file.endswith('.wav'):\n",
    "            file_path = os.path.join(current_path,\"MLS\", \"Full_split\", file)\n",
    "            audio_data, sample_rate = librosa.load(file_path)\n",
    "            mfccs = librosa.feature.mfcc(y=audio_data, sr=sample_rate)\n",
    "            mfccs_mean = list(np.mean(mfccs.T, axis= 0))\n",
    "        \n",
    "            file_path = os.path.join(current_path,\"MLS\", \"Full_split\", file)\n",
    "            splited_file = file.split('_')\n",
    "            if data_dict[int(splited_file[0])] == 'F':\n",
    "                gender = 0\n",
    "            if data_dict[int(splited_file[0])] == 'M': \n",
    "                gender = 1\n",
    "        \n",
    "        sample_features = [str(file), mfccs_mean, gender]\n",
    "        data_list.append(sample_features)\n",
    "        \n",
    "        print(f\"\\r{i/len(files)*100:.3f}% complete\",end='')\n",
    "    # print(f\"{i/len(files)*100} percent complete\")\n",
    "    print(\"\\nMFCCs features extracted successfully\")\n",
    "    return data_list"
   ]
  },
  {
   "cell_type": "code",
   "execution_count": 15,
   "metadata": {},
   "outputs": [
    {
     "name": "stdout",
     "output_type": "stream",
     "text": [
      "Extracting features...\n",
      "10.706% complete"
     ]
    },
    {
     "name": "stderr",
     "output_type": "stream",
     "text": [
      "/home/brunohonorio/tcc/Speaker-Gender-Recognition/venv/lib/python3.8/site-packages/librosa/core/spectrum.py:222: UserWarning: n_fft=2048 is too small for input signal of length=1544\n",
      "  warnings.warn(\n"
     ]
    },
    {
     "name": "stdout",
     "output_type": "stream",
     "text": [
      "27.295% complete"
     ]
    },
    {
     "name": "stderr",
     "output_type": "stream",
     "text": [
      "/home/brunohonorio/tcc/Speaker-Gender-Recognition/venv/lib/python3.8/site-packages/librosa/core/spectrum.py:222: UserWarning: n_fft=2048 is too small for input signal of length=882\n",
      "  warnings.warn(\n"
     ]
    },
    {
     "name": "stdout",
     "output_type": "stream",
     "text": [
      "27.498% complete"
     ]
    },
    {
     "name": "stderr",
     "output_type": "stream",
     "text": [
      "/home/brunohonorio/tcc/Speaker-Gender-Recognition/venv/lib/python3.8/site-packages/librosa/core/spectrum.py:222: UserWarning: n_fft=2048 is too small for input signal of length=1323\n",
      "  warnings.warn(\n"
     ]
    },
    {
     "name": "stdout",
     "output_type": "stream",
     "text": [
      "31.630% complete"
     ]
    },
    {
     "name": "stderr",
     "output_type": "stream",
     "text": [
      "/home/brunohonorio/tcc/Speaker-Gender-Recognition/venv/lib/python3.8/site-packages/librosa/core/spectrum.py:222: UserWarning: n_fft=2048 is too small for input signal of length=441\n",
      "  warnings.warn(\n"
     ]
    },
    {
     "name": "stdout",
     "output_type": "stream",
     "text": [
      "35.131% complete"
     ]
    },
    {
     "name": "stderr",
     "output_type": "stream",
     "text": [
      "/home/brunohonorio/tcc/Speaker-Gender-Recognition/venv/lib/python3.8/site-packages/librosa/core/spectrum.py:222: UserWarning: n_fft=2048 is too small for input signal of length=1985\n",
      "  warnings.warn(\n"
     ]
    },
    {
     "name": "stdout",
     "output_type": "stream",
     "text": [
      "37.248% complete"
     ]
    },
    {
     "name": "stderr",
     "output_type": "stream",
     "text": [
      "/home/brunohonorio/tcc/Speaker-Gender-Recognition/venv/lib/python3.8/site-packages/librosa/core/spectrum.py:222: UserWarning: n_fft=2048 is too small for input signal of length=221\n",
      "  warnings.warn(\n"
     ]
    },
    {
     "name": "stdout",
     "output_type": "stream",
     "text": [
      "43.232% complete"
     ]
    },
    {
     "name": "stderr",
     "output_type": "stream",
     "text": [
      "/home/brunohonorio/tcc/Speaker-Gender-Recognition/venv/lib/python3.8/site-packages/librosa/core/spectrum.py:222: UserWarning: n_fft=2048 is too small for input signal of length=1103\n",
      "  warnings.warn(\n"
     ]
    },
    {
     "name": "stdout",
     "output_type": "stream",
     "text": [
      "53.063% complete"
     ]
    },
    {
     "name": "stderr",
     "output_type": "stream",
     "text": [
      "/home/brunohonorio/tcc/Speaker-Gender-Recognition/venv/lib/python3.8/site-packages/librosa/core/spectrum.py:222: UserWarning: n_fft=2048 is too small for input signal of length=1764\n",
      "  warnings.warn(\n"
     ]
    },
    {
     "name": "stdout",
     "output_type": "stream",
     "text": [
      "99.980% complete\n",
      "MFCCs features extracted successfully\n"
     ]
    }
   ],
   "source": [
    "current_path = os.getcwd()\n",
    "file_path = os.path.join(current_path,\"MLS\", \"Full_split\")\n",
    "audio_files = os.listdir(file_path)\n",
    "data_list = extract_MFCCs(audio_files)\n",
    "df = pd.DataFrame(data_list, columns = ['FileName', 'MFCCs', 'Gender'])\n",
    "df.to_csv('data/MSL_split_MFCCs_data.csv', index=False)"
   ]
  },
  {
   "cell_type": "code",
   "execution_count": 16,
   "metadata": {},
   "outputs": [],
   "source": [
    "def get_features(frequencies):\n",
    "\n",
    "  nobs, minmax, mean, variance, skew, kurtosis =  stats.describe(frequencies)\n",
    "  median   = np.median(frequencies)\n",
    "  mode     = stats.mode(frequencies).mode[0]\n",
    "  std      = np.std(frequencies)\n",
    "  low,peak = minmax\n",
    "  q75,q25  = np.percentile(frequencies, [75 ,25])\n",
    "  iqr      = q75 - q25\n",
    "  return nobs, mean, skew, kurtosis, median, mode, std, low, peak, q25, q75, iqr"
   ]
  },
  {
   "cell_type": "code",
   "execution_count": 18,
   "metadata": {},
   "outputs": [
    {
     "data": {
      "text/html": [
       "<div>\n",
       "<style scoped>\n",
       "    .dataframe tbody tr th:only-of-type {\n",
       "        vertical-align: middle;\n",
       "    }\n",
       "\n",
       "    .dataframe tbody tr th {\n",
       "        vertical-align: top;\n",
       "    }\n",
       "\n",
       "    .dataframe thead th {\n",
       "        text-align: right;\n",
       "    }\n",
       "</style>\n",
       "<table border=\"1\" class=\"dataframe\">\n",
       "  <thead>\n",
       "    <tr style=\"text-align: right;\">\n",
       "      <th></th>\n",
       "      <th>FileName</th>\n",
       "      <th>MFCCs</th>\n",
       "      <th>Gender</th>\n",
       "    </tr>\n",
       "  </thead>\n",
       "  <tbody>\n",
       "    <tr>\n",
       "      <th>0</th>\n",
       "      <td>12626_10229_000011.wav_4.wav</td>\n",
       "      <td>[-352.51138, 139.03687, 23.040815, 41.163513, ...</td>\n",
       "      <td>1</td>\n",
       "    </tr>\n",
       "    <tr>\n",
       "      <th>1</th>\n",
       "      <td>7925_6390_000089.wav_4.wav</td>\n",
       "      <td>[-446.45157, 68.63579, -36.33435, 39.582474, -...</td>\n",
       "      <td>0</td>\n",
       "    </tr>\n",
       "    <tr>\n",
       "      <th>2</th>\n",
       "      <td>12114_10229_000087.wav_0.wav</td>\n",
       "      <td>[-419.787, 117.51201, 9.714027, 18.61376, -12....</td>\n",
       "      <td>0</td>\n",
       "    </tr>\n",
       "    <tr>\n",
       "      <th>3</th>\n",
       "      <td>13063_13511_000043.wav_5.wav</td>\n",
       "      <td>[-517.1197, 100.94612, 16.065489, 33.44698, -1...</td>\n",
       "      <td>1</td>\n",
       "    </tr>\n",
       "    <tr>\n",
       "      <th>4</th>\n",
       "      <td>13063_13511_000032.wav_4.wav</td>\n",
       "      <td>[-408.4836, 132.35562, 31.253569, 23.219936, -...</td>\n",
       "      <td>1</td>\n",
       "    </tr>\n",
       "  </tbody>\n",
       "</table>\n",
       "</div>"
      ],
      "text/plain": [
       "                       FileName  \\\n",
       "0  12626_10229_000011.wav_4.wav   \n",
       "1    7925_6390_000089.wav_4.wav   \n",
       "2  12114_10229_000087.wav_0.wav   \n",
       "3  13063_13511_000043.wav_5.wav   \n",
       "4  13063_13511_000032.wav_4.wav   \n",
       "\n",
       "                                               MFCCs  Gender  \n",
       "0  [-352.51138, 139.03687, 23.040815, 41.163513, ...       1  \n",
       "1  [-446.45157, 68.63579, -36.33435, 39.582474, -...       0  \n",
       "2  [-419.787, 117.51201, 9.714027, 18.61376, -12....       0  \n",
       "3  [-517.1197, 100.94612, 16.065489, 33.44698, -1...       1  \n",
       "4  [-408.4836, 132.35562, 31.253569, 23.219936, -...       1  "
      ]
     },
     "execution_count": 18,
     "metadata": {},
     "output_type": "execute_result"
    }
   ],
   "source": [
    "df = pd.read_csv('data/MSL_split_MFCCs_data.csv')\n",
    "df.head()"
   ]
  },
  {
   "cell_type": "code",
   "execution_count": 19,
   "metadata": {},
   "outputs": [
    {
     "name": "stdout",
     "output_type": "stream",
     "text": [
      "99.980% complete"
     ]
    }
   ],
   "source": [
    "import json\n",
    "features_list = []\n",
    "for i in range(len(df)):\n",
    "    nobs, mean, skew, kurtosis, median, mode, std, low, peak, q25, q75, iqr = get_features(json.loads(df['MFCCs'][i]))\n",
    "    data = [df['FileName'][i], nobs, mean, skew, kurtosis, median, mode, std, low, peak, q25, q75, iqr, df['Gender'][i]]\n",
    "    features_list.append(data)\n",
    "    print(f\"\\r{i/len(df)*100:.3f}% complete\",end='')\n",
    "df_final = pd.DataFrame(features_list, columns = ['FileName', 'nobs', 'mean', 'skew', 'kurtosis', 'median', 'mode', 'std', 'low', 'peak', 'q25', 'q75', 'iqr', 'Gender'])\n",
    "df_final.to_csv('data/MLS_split_MFCCs_statistics_data.csv', index=False)\n"
   ]
  },
  {
   "cell_type": "markdown",
   "metadata": {},
   "source": [
    "# Extract frequency features"
   ]
  },
  {
   "cell_type": "markdown",
   "metadata": {},
   "source": [
    "## Get metadata"
   ]
  },
  {
   "cell_type": "code",
   "execution_count": 10,
   "metadata": {},
   "outputs": [],
   "source": [
    "current_path = os.getcwd()\n",
    "source = os.path.join(current_path, \"MLS\", \"Full_split\")\n",
    "\n",
    "metadata = pd.read_csv(source + \"/metainfo.csv\")\n",
    "data = metadata[['SPEAKER','GENDER']]\n",
    "data_dict = dict(zip(data.SPEAKER, data.GENDER))\n"
   ]
  },
  {
   "cell_type": "markdown",
   "metadata": {},
   "source": [
    "## Example:"
   ]
  },
  {
   "cell_type": "code",
   "execution_count": 3,
   "metadata": {},
   "outputs": [
    {
     "data": {
      "image/png": "[encoded data removed]",
      "text/plain": [
       "<Figure size 432x288 with 1 Axes>"
      ]
     },
     "metadata": {
      "needs_background": "light"
     },
     "output_type": "display_data"
    }
   ],
   "source": [
    "current_path = os.getcwd()\n",
    "file_path = os.path.join(current_path,\"MLS\", \"Full_split\", \"3050_2941_000000.wav_4.wav\")\n",
    "audio_data, sample_rate = librosa.load(file_path)\n",
    "step = int(3200)\n",
    "window_frequencies = []\n",
    "top_freq = []\n",
    "\n",
    "ft = np.fft.fft(audio_data)\n",
    "magnitude = np.abs(ft)\n",
    "frequency = np.linspace(0, sample_rate, len(magnitude))\n",
    "\n",
    "plt.figure()\n",
    "plt.plot(frequency[:int(len(frequency)/2)], magnitude[:int(len(frequency)/2)])\n",
    "plt.xlabel(\"Frequency\")\n",
    "plt.ylabel(\"Magnitude\")\n",
    "plt.show()\n",
    "\n"
   ]
  },
  {
   "cell_type": "markdown",
   "metadata": {},
   "source": [
    "## Extract features:"
   ]
  },
  {
   "cell_type": "code",
   "execution_count": 4,
   "metadata": {},
   "outputs": [],
   "source": [
    "def get_frequencies(files):\n",
    "    frequencies_list = []\n",
    "    gender_list = []\n",
    "    FileName_list = []\n",
    "    print(\"Extracting frequencies...\")\n",
    "    for k, file in enumerate(files):\n",
    "        if file.endswith('.wav'):\n",
    "            file_path = os.path.join(current_path,\"MLS\", \"Full_split\", file)\n",
    "            splited_file = file.split('_')\n",
    "            if data_dict[int(splited_file[0])] == 'F':\n",
    "                gender = 0\n",
    "            if data_dict[int(splited_file[0])] == 'M': \n",
    "                gender = 1\n",
    "            audio_data, sample_rate = librosa.load(file_path)\n",
    "\n",
    "            step = int(3200) #3200 sampling points every 1/5 sec\n",
    "            window_frequencies = []\n",
    "\n",
    "            for i in range(0,len(audio_data),step):\n",
    "                ft = np.fft.fft(audio_data[i:i+step]) #fft returns the list N complex numbers\n",
    "                freqs = np.fft.fftfreq(len(ft)) #fftq tells you the frequencies associated with the coefficients\n",
    "                imax = np.argmax(np.abs(ft))\n",
    "                freq = freqs[imax]\n",
    "                freq_in_hz = abs(freq *sample_rate)\n",
    "                window_frequencies.append(freq_in_hz)\n",
    "            FileName_list.append(file)\n",
    "            gender_list.append(gender)\n",
    "            frequencies_list.append(window_frequencies)\n",
    "            print(f\"\\r{k/len(files)*100:.3f}% complete\",end='')\n",
    "    return frequencies_list, gender_list, FileName_list"
   ]
  },
  {
   "cell_type": "code",
   "execution_count": 5,
   "metadata": {},
   "outputs": [],
   "source": [
    "def get_features(frequencies):\n",
    "\n",
    "  nobs, minmax, mean, variance, skew, kurtosis =  stats.describe(frequencies)\n",
    "  median   = np.median(frequencies)\n",
    "  mode     = stats.mode(frequencies).mode[0]\n",
    "  std      = np.std(frequencies)\n",
    "  low,peak = minmax\n",
    "  q75,q25  = np.percentile(frequencies, [75 ,25])\n",
    "  iqr      = q75 - q25\n",
    "  return nobs, mean, skew, kurtosis, median, mode, std, low, peak, q25, q75, iqr"
   ]
  },
  {
   "cell_type": "code",
   "execution_count": 6,
   "metadata": {},
   "outputs": [
    {
     "name": "stdout",
     "output_type": "stream",
     "text": [
      "Extracting frequencies...\n",
      "99.980% complete"
     ]
    },
    {
     "name": "stderr",
     "output_type": "stream",
     "text": [
      "/home/brunohonorio/tcc/Speaker-Gender-Recognition/venv/lib/python3.8/site-packages/numpy/core/fromnumeric.py:3621: RuntimeWarning: Degrees of freedom <= 0 for slice\n",
      "  return _methods._var(a, axis=axis, dtype=dtype, out=out, ddof=ddof,\n",
      "/home/brunohonorio/tcc/Speaker-Gender-Recognition/venv/lib/python3.8/site-packages/numpy/core/_methods.py:226: RuntimeWarning: invalid value encountered in double_scalars\n",
      "  ret = ret.dtype.type(ret / rcount)\n"
     ]
    }
   ],
   "source": [
    "current_path = os.getcwd()\n",
    "file_path = os.path.join(current_path,\"MLS\", \"Full_split\")\n",
    "audio_files = os.listdir(file_path)\n",
    "frequencies, gender_list, FileName_list = get_frequencies(audio_files)\n",
    "features_list = []\n",
    "for i, frequency in enumerate(frequencies):\n",
    "    nobs, mean, skew, kurtosis, median, mode, std, low, peak, q25, q75, iqr = get_features(frequency)\n",
    "    features_list.append([FileName_list[i], nobs, mean, skew, kurtosis, median, mode, std, low, peak, q25, q75, iqr, gender_list[i]])\n",
    "df = pd.DataFrame(features_list, columns = ['FileName', 'nobs', 'mean', 'skew', 'kurtosis', 'median', 'mode', 'std', 'low', 'peak', 'q25', 'q75', 'iqr', 'Gender'])\n",
    "df.to_csv('data/MLS_Features_split_data.csv', index=False)"
   ]
  },
  {
   "cell_type": "code",
   "execution_count": null,
   "metadata": {},
   "outputs": [],
   "source": []
  },
  {
   "cell_type": "code",
   "execution_count": null,
   "metadata": {},
   "outputs": [],
   "source": []
  },
  {
   "cell_type": "code",
   "execution_count": null,
   "metadata": {},
   "outputs": [],
   "source": []
  },
  {
   "cell_type": "code",
   "execution_count": null,
   "metadata": {},
   "outputs": [],
   "source": []
  },
  {
   "cell_type": "code",
   "execution_count": null,
   "metadata": {},
   "outputs": [],
   "source": []
  },
  {
   "cell_type": "code",
   "execution_count": null,
   "metadata": {},
   "outputs": [],
   "source": []
  }
 ],
 "metadata": {
  "interpreter": {
   "hash": "5416e886b2da67312ca4f5cf753d3133e2603bbf2f07750dd1ae6cf6c6d20287"
  },
  "kernelspec": {
   "display_name": "Python 3.8.10 64-bit ('venv': venv)",
   "name": "python3"
  },
  "language_info": {
   "codemirror_mode": {
    "name": "ipython",
    "version": 3
   },
   "file_extension": ".py",
   "mimetype": "text/x-python",
   "name": "python",
   "nbconvert_exporter": "python",
   "pygments_lexer": "ipython3",
   "version": "3.8.10"
  },
  "metadata": {
   "interpreter": {
    "hash": "5416e886b2da67312ca4f5cf753d3133e2603bbf2f07750dd1ae6cf6c6d20287"
   }
  },
  "orig_nbformat": 2
 },
 "nbformat": 4,
 "nbformat_minor": 2
}