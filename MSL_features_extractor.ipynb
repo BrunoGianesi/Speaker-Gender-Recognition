{
 "cells": [
  {
   "cell_type": "markdown",
   "source": [
    "# Imports"
   ],
   "metadata": {}
  },
  {
   "cell_type": "code",
   "execution_count": 2,
   "source": [
    "import os\n",
    "\n",
    "import librosa\n",
    "import matplotlib.pyplot as plt\n",
    "import numpy as np\n",
    "import json\n",
    "import pandas as pd\n",
    "from scipy.io import wavfile\n",
    "import scipy.stats as stats\n",
    "import re\n",
    "import aiofiles\n",
    "import asyncio\n",
    "import time\n",
    "import nest_asyncio\n",
    "import parselmouth"
   ],
   "outputs": [],
   "metadata": {}
  },
  {
   "cell_type": "markdown",
   "source": [
    "# Extract MFCCs"
   ],
   "metadata": {}
  },
  {
   "cell_type": "code",
   "execution_count": null,
   "source": [
    "def extract_MFCCs(files):\n",
    "    data_list = []\n",
    "    print(\"Extracting features...\")\n",
    "    for i, file in enumerate(files):\n",
    "        if file.endswith('.wav'):\n",
    "            file_path = os.path.join(current_path,\"MLS\", \"Full_split\", file)\n",
    "            audio_data, sample_rate = librosa.load(file_path)\n",
    "            mfccs = librosa.feature.mfcc(y=audio_data, sr=sample_rate)\n",
    "            mfccs_mean = list(np.mean(mfccs.T, axis= 0))\n",
    "        \n",
    "            file_path = os.path.join(current_path,\"MLS\", \"Full_split\", file)\n",
    "            splited_file = file.split('_')\n",
    "            if data_dict[int(splited_file[0])] == 'F':\n",
    "                gender = 0\n",
    "            if data_dict[int(splited_file[0])] == 'M': \n",
    "                gender = 1\n",
    "        \n",
    "        sample_features = [str(file), mfccs_mean, gender]\n",
    "        data_list.append(sample_features)\n",
    "        \n",
    "        print(f\"\\r{i/len(files)*100:.3f}% complete\",end='')\n",
    "    # print(f\"{i/len(files)*100} percent complete\")\n",
    "    print(\"\\nMFCCs features extracted successfully\")\n",
    "    return data_list"
   ],
   "outputs": [],
   "metadata": {}
  },
  {
   "cell_type": "code",
   "execution_count": null,
   "source": [
    "current_path = os.getcwd()\n",
    "file_path = os.path.join(current_path,\"MLS\", \"Full_split\")\n",
    "audio_files = os.listdir(file_path)\n",
    "data_list = extract_MFCCs(audio_files)\n",
    "df = pd.DataFrame(data_list, columns = ['FileName', 'MFCCs', 'Gender'])\n",
    "df.to_csv('data/MSL_split_MFCCs_data.csv', index=False)"
   ],
   "outputs": [],
   "metadata": {}
  },
  {
   "cell_type": "code",
   "execution_count": null,
   "source": [
    "def get_features(frequencies):\n",
    "\n",
    "  nobs, minmax, mean, variance, skew, kurtosis =  stats.describe(frequencies)\n",
    "  median   = np.median(frequencies)\n",
    "  mode     = stats.mode(frequencies).mode[0]\n",
    "  std      = np.std(frequencies)\n",
    "  low,peak = minmax\n",
    "  q75,q25  = np.percentile(frequencies, [75 ,25])\n",
    "  iqr      = q75 - q25\n",
    "  return nobs, mean, skew, kurtosis, median, mode, std, low, peak, q25, q75, iqr"
   ],
   "outputs": [],
   "metadata": {}
  },
  {
   "cell_type": "code",
   "execution_count": null,
   "source": [
    "df = pd.read_csv('data/MSL_split_MFCCs_data.csv')\n",
    "df.head()"
   ],
   "outputs": [],
   "metadata": {}
  },
  {
   "cell_type": "code",
   "execution_count": null,
   "source": [
    "import json\n",
    "features_list = []\n",
    "for i in range(len(df)):\n",
    "    nobs, mean, skew, kurtosis, median, mode, std, low, peak, q25, q75, iqr = get_features(json.loads(df['MFCCs'][i]))\n",
    "    data = [df['FileName'][i], nobs, mean, skew, kurtosis, median, mode, std, low, peak, q25, q75, iqr, df['Gender'][i]]\n",
    "    features_list.append(data)\n",
    "    print(f\"\\r{i/len(df)*100:.3f}% complete\",end='')\n",
    "df_final = pd.DataFrame(features_list, columns = ['FileName', 'nobs', 'mean', 'skew', 'kurtosis', 'median', 'mode', 'std', 'low', 'peak', 'q25', 'q75', 'iqr', 'Gender'])\n",
    "df_final.to_csv('data/MLS_split_MFCCs_statistics_data.csv', index=False)\n"
   ],
   "outputs": [],
   "metadata": {}
  },
  {
   "cell_type": "markdown",
   "source": [
    "# Extract frequency features"
   ],
   "metadata": {}
  },
  {
   "cell_type": "markdown",
   "source": [
    "## Get metadata"
   ],
   "metadata": {}
  },
  {
   "cell_type": "code",
   "execution_count": null,
   "source": [
    "current_path = os.getcwd()\n",
    "source = os.path.join(current_path, \"MLS\", \"Full_split\")\n",
    "\n",
    "metadata = pd.read_csv(source + \"/metainfo.csv\")\n",
    "data = metadata[['SPEAKER','GENDER']]\n",
    "data_dict = dict(zip(data.SPEAKER, data.GENDER))\n",
    "data_dict\n",
    "filtered_dict = {k:v for k,v in data_dict.items() if 'F' in v}\n",
    "one_speaker = data.loc[data['SPEAKER'] == 12249]\n",
    "metadata"
   ],
   "outputs": [],
   "metadata": {}
  },
  {
   "cell_type": "markdown",
   "source": [
    "## Example:"
   ],
   "metadata": {}
  },
  {
   "cell_type": "code",
   "execution_count": null,
   "source": [
    "current_path = os.getcwd()\n",
    "file_path = os.path.join(current_path,\"MLS\", \"Full_split\", \"3050_2941_000000.wav_4.wav\")\n",
    "audio_data, sample_rate = librosa.load(file_path)\n",
    "step = int(3200)\n",
    "window_frequencies = []\n",
    "top_freq = []\n",
    "\n",
    "ft = np.fft.fft(audio_data)\n",
    "magnitude = np.abs(ft)\n",
    "frequency = np.linspace(0, sample_rate, len(magnitude))\n",
    "\n",
    "plt.figure()\n",
    "plt.plot(frequency[:int(len(frequency)/2)], magnitude[:int(len(frequency)/2)])\n",
    "plt.xlabel(\"Frequency\")\n",
    "plt.ylabel(\"Magnitude\")\n",
    "plt.show()\n",
    "\n"
   ],
   "outputs": [],
   "metadata": {}
  },
  {
   "cell_type": "markdown",
   "source": [
    "## Extract features:"
   ],
   "metadata": {}
  },
  {
   "cell_type": "code",
   "execution_count": null,
   "source": [
    "def get_frequencies(files):\n",
    "    frequencies_list = []\n",
    "    gender_list = []\n",
    "    FileName_list = []\n",
    "    print(\"Extracting frequencies...\")\n",
    "    for k, file in enumerate(files):\n",
    "        if file.endswith('.wav'):\n",
    "            file_path = os.path.join(current_path,\"MLS\", \"Full_split\", file)\n",
    "            splited_file = file.split('_')\n",
    "            if data_dict[int(splited_file[0])] == 'F':\n",
    "                gender = 0\n",
    "            if data_dict[int(splited_file[0])] == 'M': \n",
    "                gender = 1\n",
    "            audio_data, sample_rate = librosa.load(file_path)\n",
    "\n",
    "            step = int(3200) #3200 sampling points every 1/5 sec\n",
    "            window_frequencies = []\n",
    "\n",
    "            for i in range(0,len(audio_data),step):\n",
    "                ft = np.fft.fft(audio_data[i:i+step]) #fft returns the list N complex numbers\n",
    "                freqs = np.fft.fftfreq(len(ft)) #fftq tells you the frequencies associated with the coefficients\n",
    "                imax = np.argmax(np.abs(ft))\n",
    "                freq = freqs[imax]\n",
    "                freq_in_hz = abs(freq *sample_rate)\n",
    "                window_frequencies.append(freq_in_hz)\n",
    "            FileName_list.append(file)\n",
    "            gender_list.append(gender)\n",
    "            frequencies_list.append(window_frequencies)\n",
    "            print(f\"\\r{k/len(files)*100:.3f}% complete\",end='')\n",
    "    return frequencies_list, gender_list, FileName_list"
   ],
   "outputs": [],
   "metadata": {}
  },
  {
   "cell_type": "code",
   "execution_count": null,
   "source": [
    "def get_features(frequencies):\n",
    "\n",
    "  nobs, minmax, mean, variance, skew, kurtosis =  stats.describe(frequencies)\n",
    "  median   = np.median(frequencies)\n",
    "  mode     = stats.mode(frequencies).mode[0]\n",
    "  std      = np.std(frequencies)\n",
    "  low,peak = minmax\n",
    "  q75,q25  = np.percentile(frequencies, [75 ,25])\n",
    "  iqr      = q75 - q25\n",
    "  return nobs, mean, skew, kurtosis, median, mode, std, low, peak, q25, q75, iqr"
   ],
   "outputs": [],
   "metadata": {}
  },
  {
   "cell_type": "code",
   "execution_count": null,
   "source": [
    "current_path = os.getcwd()\n",
    "file_path = os.path.join(current_path,\"MLS\", \"Full_split\")\n",
    "audio_files = os.listdir(file_path)\n",
    "frequencies, gender_list, FileName_list = get_frequencies(audio_files)\n",
    "features_list = []\n",
    "for i, frequency in enumerate(frequencies):\n",
    "    nobs, mean, skew, kurtosis, median, mode, std, low, peak, q25, q75, iqr = get_features(frequency)\n",
    "    features_list.append([FileName_list[i], nobs, mean, skew, kurtosis, median, mode, std, low, peak, q25, q75, iqr, gender_list[i]])\n",
    "df = pd.DataFrame(features_list, columns = ['FileName', 'nobs', 'mean', 'skew', 'kurtosis', 'median', 'mode', 'std', 'low', 'peak', 'q25', 'q75', 'iqr', 'Gender'])\n",
    "df.to_csv('data/MLS_Features_split_data.csv', index=False)"
   ],
   "outputs": [],
   "metadata": {}
  },
  {
   "cell_type": "markdown",
   "source": [
    "# Extract MFCCs"
   ],
   "metadata": {}
  },
  {
   "cell_type": "markdown",
   "source": [
    "## Get Metadata"
   ],
   "metadata": {}
  },
  {
   "cell_type": "code",
   "execution_count": 2,
   "source": [
    "current_path = os.getcwd()\n",
    "source = os.path.join(current_path, \"MLS\", \"Full_split\")\n",
    "\n",
    "metadata = pd.read_csv(source + \"/metainfo.csv\")\n",
    "data = metadata[['SPEAKER','GENDER']]\n",
    "data_dict = dict(zip(data.SPEAKER, data.GENDER))"
   ],
   "outputs": [],
   "metadata": {}
  },
  {
   "cell_type": "markdown",
   "source": [
    "## Extract MFCCs"
   ],
   "metadata": {}
  },
  {
   "cell_type": "code",
   "execution_count": 3,
   "source": [
    "async def extract_MFCCs(count, file):\n",
    "    async with sem:\n",
    "        file_path = os.path.join(current_path,\"MLS\", \"Full_split\", file)\n",
    "        \n",
    "        audio_data, sample_rate =librosa.load(file_path)\n",
    "        \n",
    "        mfccs = librosa.feature.mfcc(y=audio_data, sr=sample_rate)\n",
    "        \n",
    "        mfccs_mean = list(np.mean(mfccs.T, axis= 0))\n",
    "        \n",
    "        file_path = os.path.join(current_path,\"MLS\", \"Full_split\", file)\n",
    "        \n",
    "        splited_file = file.split('_')\n",
    "        if data_dict[int(splited_file[0])] == 'F':\n",
    "            gender = 0\n",
    "        \n",
    "        if data_dict[int(splited_file[0])] == 'M': \n",
    "            gender = 1\n",
    "        \n",
    "        \n",
    "        sample_features = mfccs_mean\n",
    "        sample_features.insert(0,str(file))\n",
    "        sample_features.append(gender)\n",
    "        \n",
    "        string = ','.join(str(item) for item in sample_features)\n",
    "        print(f\"\\r{count}/{len(audio_files)}\",end='')\n",
    "        async with aiofiles.open('MLS_split_MFCCs_test.csv', mode='a') as f:\n",
    "            await f.write(f'\\n{string}')\n",
    "        #features_list.append(sample_features)\n",
    "    \n",
    "        return "
   ],
   "outputs": [],
   "metadata": {}
  },
  {
   "cell_type": "code",
   "execution_count": 4,
   "source": [
    "# #Calculo de tempo de disparo\n",
    "start_time = time.time()\n",
    "\n",
    "#inicio do Loop\n",
    "loop = asyncio.get_event_loop()\n",
    "\n",
    "#Controle de requisições por vez\n",
    "sem = asyncio.Semaphore(600)\n",
    "\n",
    "#Array de tasks\n",
    "sents = []\n",
    "\n",
    "nest_asyncio.apply()\n",
    "\n",
    "#Coleta as recomendações para envio\n",
    "gender_list = []\n",
    "file_list = []\n",
    "features_list = []\n",
    "\n",
    "\n",
    "current_path = os.getcwd()\n",
    "file_path = os.path.join(current_path,\"MLS\", \"Full_split\")\n",
    "audio_files = os.listdir(file_path)\n",
    "\n",
    "for k, file in enumerate(audio_files):\n",
    "    if file.endswith('.wav'):\n",
    "        sent = asyncio.ensure_future(extract_MFCCs(count=k+1, file=file))\n",
    "        sents.append(sent)\n",
    "    else:\n",
    "        pass\n",
    " \n",
    "done, _ = loop.run_until_complete(asyncio.wait(sents))"
   ],
   "outputs": [
    {
     "output_type": "stream",
     "name": "stdout",
     "text": [
      "213/4913"
     ]
    }
   ],
   "metadata": {}
  },
  {
   "cell_type": "markdown",
   "source": [
    "# Extract f0"
   ],
   "metadata": {}
  },
  {
   "cell_type": "markdown",
   "source": [
    "## Get Metadata"
   ],
   "metadata": {}
  },
  {
   "cell_type": "code",
   "execution_count": 3,
   "source": [
    "current_path = os.getcwd()\n",
    "source = os.path.join(current_path, \"MLS\", \"Full_split\")\n",
    "\n",
    "metadata = pd.read_csv(source + \"/metainfo.csv\")\n",
    "data = metadata[['SPEAKER','GENDER']]\n",
    "data_dict = dict(zip(data.SPEAKER, data.GENDER))"
   ],
   "outputs": [],
   "metadata": {}
  },
  {
   "cell_type": "markdown",
   "source": [
    "## Extract Features"
   ],
   "metadata": {}
  },
  {
   "cell_type": "code",
   "execution_count": 4,
   "source": [
    "async def extract_F0(count, file):\n",
    "    async with sem:\n",
    "        file_path = os.path.join(current_path,\"MLS\", \"Full_split\", file)\n",
    "        \n",
    "        audio_data = parselmouth.Sound(file_path)\n",
    "        pitch = audio_data.to_pitch()\n",
    "        pitch_values = pitch.selected_array['frequency']\n",
    "        \n",
    "\n",
    "        nobs_pitch, minmax_pitch, mean_pitch, variance_pitch, skew_pitch, kurtosis_pitch =  stats.describe(pitch_values)\n",
    "        median_pitch   = np.median(pitch_values)\n",
    "        mode_pitch     = stats.mode(pitch_values).mode[0]\n",
    "        std_pitch      = np.std(pitch_values)\n",
    "        low_pitch,peak_pitch = minmax_pitch\n",
    "        q75_pitch,q25_pitch  = np.percentile(pitch_values, [75 ,25])\n",
    "        iqr_pitch      = q75_pitch - q25_pitch\n",
    "        \n",
    "        file_path = os.path.join(current_path,\"MLS\", \"Full_split\", file)\n",
    "        \n",
    "        splited_file = file.split('_')\n",
    "        if data_dict[int(splited_file[0])] == 'F':\n",
    "            gender = 0\n",
    "        \n",
    "        if data_dict[int(splited_file[0])] == 'M': \n",
    "            gender = 1\n",
    "        \n",
    "        \n",
    "        sample_features = [nobs_pitch, mean_pitch, skew_pitch, kurtosis_pitch, median_pitch, mode_pitch, std_pitch, low_pitch, peak_pitch, q25_pitch, q75_pitch, iqr_pitch]\n",
    "        sample_features.insert(0,str(file))\n",
    "        sample_features.append(gender)\n",
    "        \n",
    "        string = ','.join(str(item) for item in sample_features)\n",
    "        print(f\"\\r{count}/{len(audio_files)}\",end='')\n",
    "        async with aiofiles.open('MLS_split_F0_test.csv', mode='a') as f:\n",
    "            await f.write(f'\\n{string}')\n",
    "        #features_list.append(sample_features)\n",
    "    \n",
    "        return "
   ],
   "outputs": [],
   "metadata": {}
  },
  {
   "cell_type": "code",
   "execution_count": 5,
   "source": [
    "# #Calculo de tempo de disparo\n",
    "start_time = time.time()\n",
    "\n",
    "#inicio do Loop\n",
    "loop = asyncio.get_event_loop()\n",
    "\n",
    "#Controle de requisições por vez\n",
    "sem = asyncio.Semaphore(600)\n",
    "\n",
    "#Array de tasks\n",
    "sents = []\n",
    "\n",
    "nest_asyncio.apply()\n",
    "\n",
    "#Coleta as recomendações para envio\n",
    "gender_list = []\n",
    "file_list = []\n",
    "features_list = []\n",
    "\n",
    "\n",
    "current_path = os.getcwd()\n",
    "file_path = os.path.join(current_path,\"MLS\", \"Full_split\")\n",
    "audio_files = os.listdir(file_path)\n",
    "\n",
    "for k, file in enumerate(audio_files):\n",
    "    if file.endswith('.wav'):\n",
    "        sent = asyncio.ensure_future(extract_F0(count=k+1, file=file))\n",
    "        sents.append(sent)\n",
    "    else:\n",
    "        pass\n",
    " \n",
    "done, _ = loop.run_until_complete(asyncio.wait(sents))"
   ],
   "outputs": [
    {
     "output_type": "stream",
     "name": "stdout",
     "text": [
      "1357/4913"
     ]
    },
    {
     "output_type": "stream",
     "name": "stderr",
     "text": [
      "/home/brunohonorio/tcc/Speaker-Gender-Recognition/venv/lib/python3.8/site-packages/numpy/core/fromnumeric.py:3621: RuntimeWarning: Degrees of freedom <= 0 for slice\n",
      "  return _methods._var(a, axis=axis, dtype=dtype, out=out, ddof=ddof,\n",
      "/home/brunohonorio/tcc/Speaker-Gender-Recognition/venv/lib/python3.8/site-packages/numpy/core/_methods.py:226: RuntimeWarning: invalid value encountered in double_scalars\n",
      "  ret = ret.dtype.type(ret / rcount)\n"
     ]
    },
    {
     "output_type": "stream",
     "name": "stdout",
     "text": [
      "4913/4913"
     ]
    }
   ],
   "metadata": {}
  },
  {
   "cell_type": "code",
   "execution_count": null,
   "source": [],
   "outputs": [],
   "metadata": {}
  }
 ],
 "metadata": {
  "interpreter": {
   "hash": "5416e886b2da67312ca4f5cf753d3133e2603bbf2f07750dd1ae6cf6c6d20287"
  },
  "kernelspec": {
   "name": "python3",
   "display_name": "Python 3.8.10 64-bit ('venv': venv)"
  },
  "language_info": {
   "codemirror_mode": {
    "name": "ipython",
    "version": 3
   },
   "file_extension": ".py",
   "mimetype": "text/x-python",
   "name": "python",
   "nbconvert_exporter": "python",
   "pygments_lexer": "ipython3",
   "version": "3.8.10"
  },
  "metadata": {
   "interpreter": {
    "hash": "5416e886b2da67312ca4f5cf753d3133e2603bbf2f07750dd1ae6cf6c6d20287"
   }
  },
  "orig_nbformat": 2
 },
 "nbformat": 4,
 "nbformat_minor": 2
}