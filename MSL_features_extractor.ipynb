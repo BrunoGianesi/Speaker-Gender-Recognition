{
 "cells": [
  {
   "cell_type": "markdown",
   "metadata": {},
   "source": [
    "# Imports"
   ]
  },
  {
   "cell_type": "code",
   "execution_count": 2,
   "metadata": {},
   "outputs": [],
   "source": [
    "import os\n",
    "\n",
    "import librosa\n",
    "import matplotlib.pyplot as plt\n",
    "import numpy as np\n",
    "import json\n",
    "import pandas as pd\n",
    "from scipy.io import wavfile\n",
    "import scipy.stats as stats\n",
    "import re"
   ]
  },
  {
   "cell_type": "markdown",
   "metadata": {},
   "source": [
    "# Extract frequency features"
   ]
  },
  {
   "cell_type": "markdown",
   "metadata": {},
   "source": [
    "## Get metadata"
   ]
  },
  {
   "cell_type": "code",
   "execution_count": 47,
   "metadata": {},
   "outputs": [],
   "source": [
    "current_path = os.getcwd()\n",
    "source = os.path.join(current_path, \"MLS\", \"Full\")\n",
    "\n",
    "metadata = pd.read_csv(source + \"/metainfo.csv\")\n",
    "data = metadata[['SPEAKER','GENDER']]\n",
    "data_dict = dict(zip(data.SPEAKER, data.GENDER))\n"
   ]
  },
  {
   "cell_type": "markdown",
   "metadata": {},
   "source": [
    "## Example:"
   ]
  },
  {
   "cell_type": "code",
   "execution_count": 48,
   "metadata": {},
   "outputs": [
    {
     "data": {
      "image/png": "[encoded data removed]",
      "text/plain": "<Figure size 432x288 with 1 Axes>"
     },
     "metadata": {
      "needs_background": "light"
     },
     "output_type": "display_data"
    }
   ],
   "source": [
    "current_path = os.getcwd()\n",
    "file_path = os.path.join(current_path,\"MLS\", \"Full\", \"3050_2941_000000.wav\")\n",
    "audio_data, sample_rate = librosa.load(file_path)\n",
    "step = int(sample_rate/5)\n",
    "window_frequencies = []\n",
    "top_freq = []\n",
    "\n",
    "ft = np.fft.fft(audio_data)\n",
    "magnitude = np.abs(ft)\n",
    "frequency = np.linspace(0, sample_rate, len(magnitude))\n",
    "\n",
    "plt.figure()\n",
    "plt.plot(frequency[:int(len(frequency)/2)], magnitude[:int(len(frequency)/2)])\n",
    "plt.xlabel(\"Frequency\")\n",
    "plt.ylabel(\"Magnitude\")\n",
    "plt.show()\n",
    "\n"
   ]
  },
  {
   "cell_type": "markdown",
   "metadata": {},
   "source": [
    "## Extract features:"
   ]
  },
  {
   "cell_type": "code",
   "execution_count": 49,
   "metadata": {},
   "outputs": [],
   "source": [
    "def get_frequencies(files):\n",
    "    frequencies_list = []\n",
    "    gender_list = []\n",
    "    FileName_list = []\n",
    "    print(\"Extracting frequencies...\")\n",
    "    for k, file in enumerate(files):\n",
    "        if file.endswith('.wav'):\n",
    "            file_path = os.path.join(current_path,\"MLS\", \"Full\", file)\n",
    "            splited_file = file.split('_')\n",
    "            if data_dict[int(splited_file[0])] == 'F':\n",
    "                gender = 0\n",
    "            if data_dict[int(splited_file[0])] == 'M': \n",
    "                gender = 1\n",
    "            audio_data, sample_rate = librosa.load(file_path)\n",
    "\n",
    "            step = int(sample_rate/15) #3200 sampling points every 1/5 sec\n",
    "            window_frequencies = []\n",
    "\n",
    "            for i in range(0,len(audio_data),step):\n",
    "                ft = np.fft.fft(audio_data[i:i+step]) #fft returns the list N complex numbers\n",
    "                freqs = np.fft.fftfreq(len(ft)) #fftq tells you the frequencies associated with the coefficients\n",
    "                imax = np.argmax(np.abs(ft))\n",
    "                freq = freqs[imax]\n",
    "                freq_in_hz = abs(freq *sample_rate)\n",
    "                window_frequencies.append(freq_in_hz)\n",
    "            FileName_list.append(file)\n",
    "            gender_list.append(gender)\n",
    "            frequencies_list.append(window_frequencies)\n",
    "            print(f\"\\r{k/len(files)*100:.3f}% complete\",end='')\n",
    "    return frequencies_list, gender_list, FileName_list"
   ]
  },
  {
   "cell_type": "code",
   "execution_count": 50,
   "metadata": {},
   "outputs": [],
   "source": [
    "def get_features(frequencies):\n",
    "\n",
    "  nobs, minmax, mean, variance, skew, kurtosis =  stats.describe(frequencies)\n",
    "  median   = np.median(frequencies)\n",
    "  mode     = stats.mode(frequencies).mode[0]\n",
    "  std      = np.std(frequencies)\n",
    "  low,peak = minmax\n",
    "  q75,q25  = np.percentile(frequencies, [75 ,25])\n",
    "  iqr      = q75 - q25\n",
    "  return nobs, mean, skew, kurtosis, median, mode, std, low, peak, q25, q75, iqr"
   ]
  },
  {
   "cell_type": "code",
   "execution_count": 51,
   "metadata": {},
   "outputs": [
    {
     "name": "stdout",
     "output_type": "stream",
     "text": [
      "Extracting frequencies...\n",
      "99.885% complete"
     ]
    }
   ],
   "source": [
    "current_path = os.getcwd()\n",
    "file_path = os.path.join(current_path,\"MLS\", \"Full\")\n",
    "audio_files = os.listdir(file_path)\n",
    "frequencies, gender_list, FileName_list = get_frequencies(audio_files)\n",
    "features_list = []\n",
    "for i, frequency in enumerate(frequencies):\n",
    "    nobs, mean, skew, kurtosis, median, mode, std, low, peak, q25, q75, iqr = get_features(frequency)\n",
    "    features_list.append([FileName_list[i], nobs, mean, skew, kurtosis, median, mode, std, low, peak, q25, q75, iqr, gender_list[i]])\n",
    "df = pd.DataFrame(features_list, columns = ['FileName', 'nobs', 'mean', 'skew', 'kurtosis', 'median', 'mode', 'std', 'low', 'peak', 'q25', 'q75', 'iqr', 'Gender'])\n",
    "df.to_csv('data/MLS_Features_data.csv', index=False)"
   ]
  },
  {
   "cell_type": "code",
   "execution_count": null,
   "metadata": {},
   "outputs": [],
   "source": []
  },
  {
   "cell_type": "code",
   "execution_count": null,
   "metadata": {},
   "outputs": [],
   "source": []
  },
  {
   "cell_type": "code",
   "execution_count": null,
   "metadata": {},
   "outputs": [],
   "source": []
  },
  {
   "cell_type": "code",
   "execution_count": null,
   "metadata": {},
   "outputs": [],
   "source": []
  },
  {
   "cell_type": "code",
   "execution_count": null,
   "metadata": {},
   "outputs": [],
   "source": []
  },
  {
   "cell_type": "code",
   "execution_count": null,
   "metadata": {},
   "outputs": [],
   "source": []
  }
 ],
 "metadata": {
  "kernelspec": {
   "display_name": "Python 3.8.5  ('venv': venv)",
   "name": "pythonjvsc74a57bd05416e886b2da67312ca4f5cf753d3133e2603bbf2f07750dd1ae6cf6c6d20287"
  },
  "language_info": {
   "name": "python",
   "version": ""
  },
  "metadata": {
   "interpreter": {
    "hash": "5416e886b2da67312ca4f5cf753d3133e2603bbf2f07750dd1ae6cf6c6d20287"
   }
  },
  "orig_nbformat": 2
 },
 "nbformat": 4,
 "nbformat_minor": 2
}