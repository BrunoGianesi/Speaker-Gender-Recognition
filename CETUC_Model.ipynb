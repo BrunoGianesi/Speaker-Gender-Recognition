{
 "cells": [
  {
   "cell_type": "code",
   "execution_count": 1,
   "metadata": {},
   "outputs": [],
   "source": [
    "import pandas as pd\n",
    "import numpy as np\n",
    "import matplotlib.pyplot as plt\n",
    "from sklearn.model_selection import train_test_split\n",
    "from sklearn.preprocessing import StandardScaler\n",
    "from sklearn.preprocessing import MinMaxScaler\n",
    "from sklearn.tree import DecisionTreeClassifier\n",
    "from sklearn.ensemble import RandomForestClassifier\n",
    "from sklearn.ensemble import GradientBoostingClassifier\n",
    "from sklearn.svm import SVC\n",
    "from sklearn.neural_network import MLPClassifier\n",
    "import pickle"
   ]
  },
  {
   "cell_type": "markdown",
   "metadata": {},
   "source": [
    "## Download the dataset"
   ]
  },
  {
   "cell_type": "code",
   "execution_count": 2,
   "metadata": {},
   "outputs": [
    {
     "data": {
      "text/html": "<div>\n<style scoped>\n    .dataframe tbody tr th:only-of-type {\n        vertical-align: middle;\n    }\n\n    .dataframe tbody tr th {\n        vertical-align: top;\n    }\n\n    .dataframe thead th {\n        text-align: right;\n    }\n</style>\n<table border=\"1\" class=\"dataframe\">\n  <thead>\n    <tr style=\"text-align: right;\">\n      <th></th>\n      <th>FileName</th>\n      <th>nobs</th>\n      <th>mean</th>\n      <th>skew</th>\n      <th>kurtosis</th>\n      <th>median</th>\n      <th>mode</th>\n      <th>std</th>\n      <th>low</th>\n      <th>peak</th>\n      <th>q25</th>\n      <th>q75</th>\n      <th>iqr</th>\n      <th>Gender</th>\n    </tr>\n  </thead>\n  <tbody>\n    <tr>\n      <th>0</th>\n      <td>F003-0616.wav</td>\n      <td>24</td>\n      <td>179.803615</td>\n      <td>-0.453240</td>\n      <td>-1.540080</td>\n      <td>205.0</td>\n      <td>115.0</td>\n      <td>48.534356</td>\n      <td>110.286762</td>\n      <td>240.0</td>\n      <td>115.0</td>\n      <td>220.00</td>\n      <td>105.00</td>\n      <td>0</td>\n    </tr>\n    <tr>\n      <th>1</th>\n      <td>F000-0823.wav</td>\n      <td>19</td>\n      <td>341.033840</td>\n      <td>-0.369161</td>\n      <td>0.038563</td>\n      <td>385.0</td>\n      <td>450.0</td>\n      <td>164.185352</td>\n      <td>30.000000</td>\n      <td>695.0</td>\n      <td>252.5</td>\n      <td>447.50</td>\n      <td>195.00</td>\n      <td>0</td>\n    </tr>\n    <tr>\n      <th>2</th>\n      <td>M009-0399.wav</td>\n      <td>29</td>\n      <td>164.397878</td>\n      <td>0.870209</td>\n      <td>-0.357094</td>\n      <td>120.0</td>\n      <td>15.0</td>\n      <td>155.589382</td>\n      <td>7.538462</td>\n      <td>530.0</td>\n      <td>15.0</td>\n      <td>225.00</td>\n      <td>210.00</td>\n      <td>1</td>\n    </tr>\n    <tr>\n      <th>3</th>\n      <td>F033-0492.wav</td>\n      <td>25</td>\n      <td>199.400000</td>\n      <td>0.323917</td>\n      <td>-1.207102</td>\n      <td>180.0</td>\n      <td>0.0</td>\n      <td>188.384288</td>\n      <td>0.000000</td>\n      <td>575.0</td>\n      <td>0.0</td>\n      <td>370.00</td>\n      <td>370.00</td>\n      <td>0</td>\n    </tr>\n    <tr>\n      <th>4</th>\n      <td>M029-0430.wav</td>\n      <td>24</td>\n      <td>196.576417</td>\n      <td>0.800030</td>\n      <td>-0.598433</td>\n      <td>180.0</td>\n      <td>145.0</td>\n      <td>56.701576</td>\n      <td>140.000000</td>\n      <td>320.0</td>\n      <td>145.0</td>\n      <td>238.75</td>\n      <td>93.75</td>\n      <td>1</td>\n    </tr>\n  </tbody>\n</table>\n</div>",
      "text/plain": "        FileName  nobs        mean      skew  kurtosis  median   mode  \\\n0  F003-0616.wav    24  179.803615 -0.453240 -1.540080   205.0  115.0   \n1  F000-0823.wav    19  341.033840 -0.369161  0.038563   385.0  450.0   \n2  M009-0399.wav    29  164.397878  0.870209 -0.357094   120.0   15.0   \n3  F033-0492.wav    25  199.400000  0.323917 -1.207102   180.0    0.0   \n4  M029-0430.wav    24  196.576417  0.800030 -0.598433   180.0  145.0   \n\n          std         low   peak    q25     q75     iqr  Gender  \n0   48.534356  110.286762  240.0  115.0  220.00  105.00       0  \n1  164.185352   30.000000  695.0  252.5  447.50  195.00       0  \n2  155.589382    7.538462  530.0   15.0  225.00  210.00       1  \n3  188.384288    0.000000  575.0    0.0  370.00  370.00       0  \n4   56.701576  140.000000  320.0  145.0  238.75   93.75       1  "
     },
     "execution_count": 2,
     "metadata": {},
     "output_type": "execute_result"
    }
   ],
   "source": [
    "df = pd.read_csv('data/CETUC_Features_data.csv')\n",
    "df.head()"
   ]
  },
  {
   "cell_type": "markdown",
   "metadata": {},
   "source": [
    "## Split the dataset into training and test data\n",
    "Let's use 20% of the database for testing.\n",
    "\n",
    "We also need to make sure the classes(Genders) are equally distributed between the classes."
   ]
  },
  {
   "cell_type": "code",
   "execution_count": 3,
   "metadata": {},
   "outputs": [
    {
     "name": "stdout",
     "output_type": "stream",
     "text": [
      "Feminine voices in the training data: 33131\n",
      "Masculine voices in the training data: 32517\n",
      "Feminine voices in the test data: 17866\n",
      "Masculine voices in the test data: 17484\n"
     ]
    }
   ],
   "source": [
    "mydata_train, mydata_test = train_test_split(df, random_state=0, test_size=0.35)\n",
    "\n",
    "print(f'Feminine voices in the training data: {len(mydata_train.Gender)- sum(mydata_train.Gender)}')\n",
    "print(f'Masculine voices in the training data: {sum(mydata_train.Gender)}')\n",
    "print(f'Feminine voices in the test data: {len(mydata_test.Gender)- sum(mydata_test.Gender)}')\n",
    "print(f'Masculine voices in the test data: {sum(mydata_test.Gender)}')\n"
   ]
  },
  {
   "cell_type": "code",
   "execution_count": null,
   "metadata": {},
   "outputs": [],
   "source": []
  },
  {
   "cell_type": "code",
   "execution_count": 4,
   "metadata": {},
   "outputs": [
    {
     "data": {
      "text/html": "<div>\n<style scoped>\n    .dataframe tbody tr th:only-of-type {\n        vertical-align: middle;\n    }\n\n    .dataframe tbody tr th {\n        vertical-align: top;\n    }\n\n    .dataframe thead th {\n        text-align: right;\n    }\n</style>\n<table border=\"1\" class=\"dataframe\">\n  <thead>\n    <tr style=\"text-align: right;\">\n      <th></th>\n      <th>FileName</th>\n      <th>nobs</th>\n      <th>mean</th>\n      <th>skew</th>\n      <th>kurtosis</th>\n      <th>median</th>\n      <th>mode</th>\n      <th>std</th>\n      <th>low</th>\n      <th>peak</th>\n      <th>q25</th>\n      <th>q75</th>\n      <th>iqr</th>\n      <th>Gender</th>\n    </tr>\n  </thead>\n  <tbody>\n    <tr>\n      <th>80896</th>\n      <td>F014-0104.wav</td>\n      <td>26</td>\n      <td>201.602564</td>\n      <td>0.579508</td>\n      <td>0.303338</td>\n      <td>222.5</td>\n      <td>15.0</td>\n      <td>145.426341</td>\n      <td>15.0</td>\n      <td>580.0</td>\n      <td>52.5</td>\n      <td>236.25</td>\n      <td>183.75</td>\n      <td>0</td>\n    </tr>\n    <tr>\n      <th>7018</th>\n      <td>M015-0710.wav</td>\n      <td>17</td>\n      <td>308.529412</td>\n      <td>0.015176</td>\n      <td>-0.843063</td>\n      <td>325.0</td>\n      <td>0.0</td>\n      <td>198.522222</td>\n      <td>0.0</td>\n      <td>625.0</td>\n      <td>185.0</td>\n      <td>400.00</td>\n      <td>215.00</td>\n      <td>1</td>\n    </tr>\n    <tr>\n      <th>33057</th>\n      <td>M002-0209.wav</td>\n      <td>38</td>\n      <td>106.578947</td>\n      <td>1.284194</td>\n      <td>1.146617</td>\n      <td>0.0</td>\n      <td>0.0</td>\n      <td>139.397695</td>\n      <td>0.0</td>\n      <td>545.0</td>\n      <td>0.0</td>\n      <td>190.00</td>\n      <td>190.00</td>\n      <td>1</td>\n    </tr>\n    <tr>\n      <th>85984</th>\n      <td>F047-0880.wav</td>\n      <td>20</td>\n      <td>331.750000</td>\n      <td>0.300773</td>\n      <td>-0.510601</td>\n      <td>277.5</td>\n      <td>0.0</td>\n      <td>245.933299</td>\n      <td>0.0</td>\n      <td>895.0</td>\n      <td>187.5</td>\n      <td>467.50</td>\n      <td>280.00</td>\n      <td>0</td>\n    </tr>\n    <tr>\n      <th>47112</th>\n      <td>F025-0368.wav</td>\n      <td>34</td>\n      <td>324.259156</td>\n      <td>1.463234</td>\n      <td>2.233437</td>\n      <td>235.0</td>\n      <td>115.0</td>\n      <td>225.132761</td>\n      <td>55.0</td>\n      <td>1110.0</td>\n      <td>185.0</td>\n      <td>503.75</td>\n      <td>318.75</td>\n      <td>0</td>\n    </tr>\n  </tbody>\n</table>\n</div>",
      "text/plain": "            FileName  nobs        mean      skew  kurtosis  median   mode  \\\n80896  F014-0104.wav    26  201.602564  0.579508  0.303338   222.5   15.0   \n7018   M015-0710.wav    17  308.529412  0.015176 -0.843063   325.0    0.0   \n33057  M002-0209.wav    38  106.578947  1.284194  1.146617     0.0    0.0   \n85984  F047-0880.wav    20  331.750000  0.300773 -0.510601   277.5    0.0   \n47112  F025-0368.wav    34  324.259156  1.463234  2.233437   235.0  115.0   \n\n              std   low    peak    q25     q75     iqr  Gender  \n80896  145.426341  15.0   580.0   52.5  236.25  183.75       0  \n7018   198.522222   0.0   625.0  185.0  400.00  215.00       1  \n33057  139.397695   0.0   545.0    0.0  190.00  190.00       1  \n85984  245.933299   0.0   895.0  187.5  467.50  280.00       0  \n47112  225.132761  55.0  1110.0  185.0  503.75  318.75       0  "
     },
     "execution_count": 4,
     "metadata": {},
     "output_type": "execute_result"
    }
   ],
   "source": [
    "mydata_train.head()"
   ]
  },
  {
   "cell_type": "code",
   "execution_count": 5,
   "metadata": {},
   "outputs": [],
   "source": [
    "data_x_train = mydata_train[['nobs', 'mean', 'skew', 'kurtosis', 'median', 'mode', 'std', 'low', 'peak', 'q25', 'q75', 'iqr']].copy()\n",
    "y_train = mydata_train[['Gender']].copy().values.ravel()\n",
    "data_x_test = mydata_test[['nobs', 'mean', 'skew', 'kurtosis', 'median', 'mode', 'std', 'low', 'peak', 'q25', 'q75', 'iqr']].copy()\n",
    "y_test = mydata_test[['Gender']].copy().values.ravel()"
   ]
  },
  {
   "cell_type": "code",
   "execution_count": 6,
   "metadata": {},
   "outputs": [],
   "source": [
    "scaler = StandardScaler()\n",
    "X_train = pd.DataFrame(scaler.fit_transform(data_x_train), columns=data_x_train.columns)\n",
    "X_test = pd.DataFrame(scaler.fit_transform(data_x_test), columns=data_x_test.columns)"
   ]
  },
  {
   "cell_type": "code",
   "execution_count": 7,
   "metadata": {},
   "outputs": [
    {
     "name": "stdout",
     "output_type": "stream",
     "text": [
      "\n",
      "Decision Tree\n",
      "Accuracy on training set: 1.000\n",
      "Accuracy on test set: 0.836\n",
      "\n",
      "Random Forests\n",
      "Accuracy on training set: 0.984\n",
      "Accuracy on test set: 0.870\n",
      "\n",
      "Gradient Boosting\n",
      "Accuracy on training set: 0.862\n",
      "Accuracy on test set: 0.859\n",
      "\n",
      "Support Vector Machine\n",
      "Accuracy on training set: 0.846\n",
      "Accuracy on test set: 0.846\n",
      "\n",
      "Multilayer Perceptron\n",
      "Accuracy on training set: 0.875\n",
      "Accuracy on test set: 0.869\n"
     ]
    }
   ],
   "source": [
    "#Train decision tree model\n",
    "tree = DecisionTreeClassifier(random_state=0).fit(X_train, y_train)\n",
    "filename = 'models/DecisionTree.sav'\n",
    "pickle.dump(tree, open(filename, 'wb'))\n",
    "print(\"\\nDecision Tree\")\n",
    "print(\"Accuracy on training set: {:.3f}\".format(tree.score(X_train, y_train)))\n",
    "print(\"Accuracy on test set: {:.3f}\".format(tree.score(X_test, y_test)))\n",
    "\n",
    "#Train random forest model\n",
    "forest = RandomForestClassifier(n_estimators=5, random_state=0).fit(X_train, y_train)\n",
    "filename = 'models/RandomForest.sav'\n",
    "pickle.dump(forest, open(filename, 'wb'))\n",
    "print(\"\\nRandom Forests\")\n",
    "print(\"Accuracy on training set: {:.3f}\".format(forest.score(X_train, y_train)))\n",
    "print(\"Accuracy on test set: {:.3f}\".format(forest.score(X_test, y_test)))\n",
    "\n",
    "#Train gradient boosting model\n",
    "gbrt = GradientBoostingClassifier(random_state=0).fit(X_train, y_train)\n",
    "filename = 'models/GradientBoosting.sav'\n",
    "pickle.dump(gbrt, open(filename, 'wb'))\n",
    "print(\"\\nGradient Boosting\")\n",
    "print(\"Accuracy on training set: {:.3f}\".format(gbrt.score(X_train, y_train)))\n",
    "print(\"Accuracy on test set: {:.3f}\".format(gbrt.score(X_test, y_test)))\n",
    "\n",
    "#Train support vector machine model\n",
    "svm = SVC().fit(X_train, y_train)\n",
    "filename = 'models/SVM.sav'\n",
    "pickle.dump(svm, open(filename, 'wb'))\n",
    "print(\"\\nSupport Vector Machine\")\n",
    "print(\"Accuracy on training set: {:.3f}\".format(svm.score(X_train, y_train)))\n",
    "print(\"Accuracy on test set: {:.3f}\".format(svm.score(X_test, y_test)))\n",
    "\n",
    "#Train neural network model\n",
    "mlp = MLPClassifier(random_state=0).fit(X_train, y_train)\n",
    "filename = 'models/MLP.sav'\n",
    "pickle.dump(mlp, open(filename, 'wb'))\n",
    "print(\"\\nMultilayer Perceptron\")\n",
    "print(\"Accuracy on training set: {:.3f}\".format(mlp.score(X_train, y_train)))\n",
    "print(\"Accuracy on test set: {:.3f}\".format(mlp.score(X_test, y_test)))"
   ]
  },
  {
   "cell_type": "code",
   "execution_count": null,
   "metadata": {},
   "outputs": [],
   "source": []
  },
  {
   "cell_type": "code",
   "execution_count": null,
   "metadata": {},
   "outputs": [],
   "source": [
    "def plot_feature_importances_mydata(model, c):\n",
    "    n_features = len(X_train.columns)\n",
    "    plt.figure(1,figsize=(18,10))\n",
    "    plt.bar(range(n_features), model.feature_importances_, align='center', color=c)\n",
    "    plt.xticks(np.arange(n_features), X_train.columns)\n",
    "    plt.ylabel(\"Variable importance\")\n",
    "    plt.xlabel(\"Independent Variable\")\n",
    "    plt.title(model.__class__.__name__)\n",
    "    plt.show()"
   ]
  },
  {
   "cell_type": "code",
   "execution_count": null,
   "metadata": {},
   "outputs": [],
   "source": [
    "plot_feature_importances_mydata(tree,'blue')"
   ]
  },
  {
   "cell_type": "code",
   "execution_count": null,
   "metadata": {},
   "outputs": [],
   "source": []
  },
  {
   "cell_type": "code",
   "execution_count": null,
   "metadata": {},
   "outputs": [
    {
     "name": "stdout",
     "output_type": "stream",
     "text": [
      "Epoch 39/100\n",
      "Epoch 40/100\n",
      "Epoch 41/100\n",
      "Epoch 42/100\n",
      "Epoch 43/100\n",
      "Epoch 44/100\n",
      "Epoch 45/100\n",
      "Epoch 46/100\n",
      "Epoch 47/100\n",
      "Epoch 48/100\n",
      "Epoch 49/100\n",
      "Epoch 50/100\n",
      "Epoch 51/100\n",
      "Epoch 52/100\n",
      "Epoch 53/100\n",
      "Epoch 54/100\n",
      "Epoch 55/100\n",
      "Epoch 56/100\n",
      "Epoch 57/100\n",
      "Epoch 58/100\n",
      "Epoch 59/100\n",
      "Epoch 60/100\n",
      "Epoch 61/100\n",
      "Epoch 62/100\n",
      "Epoch 63/100\n",
      "Epoch 64/100\n",
      "Epoch 65/100\n",
      "Epoch 66/100\n",
      "Epoch 67/100\n",
      "Epoch 68/100\n",
      "Epoch 69/100\n",
      "Epoch 70/100\n",
      "Epoch 71/100\n",
      "Epoch 72/100\n",
      "Epoch 73/100\n",
      "Epoch 74/100\n",
      "Epoch 75/100\n",
      "Epoch 76/100\n",
      "Epoch 77/100\n",
      "Epoch 78/100\n",
      "Epoch 79/100\n",
      "Epoch 80/100\n",
      "Epoch 81/100\n",
      "Epoch 82/100\n",
      "Epoch 83/100\n",
      "Epoch 84/100\n",
      "Epoch 85/100\n",
      "Epoch 86/100\n",
      "Epoch 87/100\n",
      "Epoch 88/100\n",
      "Epoch 89/100\n",
      "Epoch 90/100\n",
      "Epoch 91/100\n",
      "Epoch 92/100\n",
      "Epoch 93/100\n",
      "Epoch 94/100\n",
      "Epoch 95/100\n",
      "Epoch 96/100\n",
      "Epoch 97/100\n",
      "Epoch 98/100\n",
      "Epoch 99/100\n",
      "Epoch 100/100\n",
      "\n",
      "Test accuracy: 0.8659405708312988\n"
     ]
    }
   ],
   "source": [
    "import tensorflow as tf\n",
    "from tensorflow import keras\n",
    "\n",
    "NeuralNetwork = tf.keras.Sequential([\n",
    "    tf.keras.layers.Dense(8, activation='relu', input_shape=(12,)),\n",
    "    tf.keras.layers.Dense(128, activation='relu'),\n",
    "    tf.keras.layers.Dense(10, activation='softmax')\n",
    "])\n",
    "\n",
    "NeuralNetwork.compile(optimizer='adam',\n",
    "              loss='sparse_categorical_crossentropy',\n",
    "              metrics=['accuracy'])\n",
    "history = NeuralNetwork.fit(X_train, y_train,validation_split=0.2, epochs=100, verbose=4)\n",
    "\n",
    "test_loss, test_acc = NeuralNetwork.evaluate(X_test,  y_test, verbose=0)\n",
    "\n",
    "\n",
    "print('\\nTest accuracy:', test_acc)"
   ]
  },
  {
   "cell_type": "code",
   "execution_count": null,
   "metadata": {},
   "outputs": [
    {
     "name": "stderr",
     "output_type": "stream",
     "text": [
      "/home/brunohonorio/tcc/Speaker-Gender-Recognition/venv/lib/python3.8/site-packages/sklearn/neural_network/_multilayer_perceptron.py:614: ConvergenceWarning: Stochastic Optimizer: Maximum iterations (200) reached and the optimization hasn't converged yet.\n",
      "  warnings.warn(\n"
     ]
    },
    {
     "data": {
      "image/png": "[encoded data removed]",
      "text/plain": "<Figure size 1296x720 with 1 Axes>"
     },
     "metadata": {
      "needs_background": "light"
     },
     "output_type": "display_data"
    },
    {
     "name": "stdout",
     "output_type": "stream",
     "text": [
      "Epoch 1/100\n"
     ]
    },
    {
     "name": "stdout",
     "output_type": "stream",
     "text": [
      "Epoch 2/100\n"
     ]
    },
    {
     "name": "stdout",
     "output_type": "stream",
     "text": [
      "Epoch 3/100\n"
     ]
    },
    {
     "name": "stdout",
     "output_type": "stream",
     "text": [
      "Epoch 4/100\n"
     ]
    },
    {
     "name": "stdout",
     "output_type": "stream",
     "text": [
      "Epoch 5/100\n"
     ]
    },
    {
     "name": "stdout",
     "output_type": "stream",
     "text": [
      "Epoch 6/100\n"
     ]
    },
    {
     "name": "stdout",
     "output_type": "stream",
     "text": [
      "Epoch 7/100\n"
     ]
    },
    {
     "name": "stdout",
     "output_type": "stream",
     "text": [
      "Epoch 8/100\n"
     ]
    },
    {
     "name": "stdout",
     "output_type": "stream",
     "text": [
      "Epoch 9/100\n"
     ]
    },
    {
     "name": "stdout",
     "output_type": "stream",
     "text": [
      "Epoch 10/100\n"
     ]
    },
    {
     "name": "stdout",
     "output_type": "stream",
     "text": [
      "Epoch 11/100\n"
     ]
    },
    {
     "name": "stdout",
     "output_type": "stream",
     "text": [
      "Epoch 12/100\n"
     ]
    },
    {
     "name": "stdout",
     "output_type": "stream",
     "text": [
      "Epoch 13/100\n"
     ]
    },
    {
     "name": "stdout",
     "output_type": "stream",
     "text": [
      "Epoch 14/100\n"
     ]
    },
    {
     "name": "stdout",
     "output_type": "stream",
     "text": [
      "Epoch 15/100\n"
     ]
    },
    {
     "name": "stdout",
     "output_type": "stream",
     "text": [
      "Epoch 16/100\n"
     ]
    },
    {
     "name": "stdout",
     "output_type": "stream",
     "text": [
      "Epoch 17/100\n"
     ]
    },
    {
     "name": "stdout",
     "output_type": "stream",
     "text": [
      "Epoch 18/100\n"
     ]
    },
    {
     "name": "stdout",
     "output_type": "stream",
     "text": [
      "Epoch 19/100\n"
     ]
    },
    {
     "name": "stdout",
     "output_type": "stream",
     "text": [
      "Epoch 20/100\n"
     ]
    },
    {
     "name": "stdout",
     "output_type": "stream",
     "text": [
      "Epoch 21/100\n"
     ]
    },
    {
     "name": "stdout",
     "output_type": "stream",
     "text": [
      "Epoch 22/100\n"
     ]
    },
    {
     "name": "stdout",
     "output_type": "stream",
     "text": [
      "Epoch 23/100\n"
     ]
    },
    {
     "name": "stdout",
     "output_type": "stream",
     "text": [
      "Epoch 24/100\n"
     ]
    },
    {
     "name": "stdout",
     "output_type": "stream",
     "text": [
      "Epoch 25/100\n"
     ]
    },
    {
     "name": "stdout",
     "output_type": "stream",
     "text": [
      "Epoch 26/100\n"
     ]
    },
    {
     "data": {
      "image/png": "[encoded data removed]",
      "text/plain": "<Figure size 432x288 with 1 Axes>"
     },
     "metadata": {
      "needs_background": "light"
     },
     "output_type": "display_data"
    }
   ],
   "source": [
    "plt.plot(history.history['accuracy'])\n",
    "plt.plot(history.history['val_accuracy'])\n",
    "plt.title('model accuracy')\n",
    "plt.ylabel('accuracy')\n",
    "plt.xlabel('epoch')\n",
    "plt.legend(['train', 'val'], loc='upper left')\n",
    "plt.show()"
   ]
  },
  {
   "cell_type": "code",
   "execution_count": null,
   "metadata": {},
   "outputs": [
    {
     "name": "stdout",
     "output_type": "stream",
     "text": [
      "Epoch 27/100\n"
     ]
    },
    {
     "name": "stdout",
     "output_type": "stream",
     "text": [
      "Epoch 28/100\n"
     ]
    },
    {
     "name": "stdout",
     "output_type": "stream",
     "text": [
      "Epoch 29/100\n"
     ]
    },
    {
     "name": "stdout",
     "output_type": "stream",
     "text": [
      "Epoch 30/100\n"
     ]
    },
    {
     "name": "stdout",
     "output_type": "stream",
     "text": [
      "Epoch 31/100\n"
     ]
    },
    {
     "name": "stdout",
     "output_type": "stream",
     "text": [
      "Epoch 32/100\n"
     ]
    },
    {
     "name": "stdout",
     "output_type": "stream",
     "text": [
      "Epoch 33/100\n"
     ]
    },
    {
     "name": "stdout",
     "output_type": "stream",
     "text": [
      "Epoch 34/100\n"
     ]
    },
    {
     "name": "stdout",
     "output_type": "stream",
     "text": [
      "Epoch 35/100\n"
     ]
    },
    {
     "name": "stdout",
     "output_type": "stream",
     "text": [
      "Epoch 36/100\n"
     ]
    },
    {
     "name": "stdout",
     "output_type": "stream",
     "text": [
      "Epoch 37/100\n"
     ]
    },
    {
     "name": "stdout",
     "output_type": "stream",
     "text": [
      "Epoch 38/100\n"
     ]
    },
    {
     "data": {
      "image/png": "[encoded data removed]",
      "text/plain": "<Figure size 432x288 with 1 Axes>"
     },
     "metadata": {
      "needs_background": "light"
     },
     "output_type": "display_data"
    }
   ],
   "source": [
    "plt.plot(history.history['loss'])\n",
    "plt.plot(history.history['val_loss'])\n",
    "plt.title('model loss')\n",
    "plt.ylabel('loss')\n",
    "plt.xlabel('epoch')\n",
    "plt.legend(['train', 'test'], loc='upper left')\n",
    "plt.show()"
   ]
  }
 ],
 "metadata": {
  "kernelspec": {
   "display_name": "Python 3.8.5  ('venv': venv)",
   "name": "pythonjvsc74a57bd05416e886b2da67312ca4f5cf753d3133e2603bbf2f07750dd1ae6cf6c6d20287"
  },
  "language_info": {
   "codemirror_mode": {
    "name": "ipython",
    "version": 3
   },
   "file_extension": ".py",
   "mimetype": "text/x-python",
   "name": "python",
   "nbconvert_exporter": "python",
   "pygments_lexer": "ipython3",
   "version": "3.8.5"
  },
  "metadata": {
   "interpreter": {
    "hash": "5416e886b2da67312ca4f5cf753d3133e2603bbf2f07750dd1ae6cf6c6d20287"
   }
  },
  "orig_nbformat": 2
 },
 "nbformat": 4,
 "nbformat_minor": 2
}