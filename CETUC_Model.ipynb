{
 "cells": [
  {
   "cell_type": "code",
   "execution_count": 1,
   "metadata": {},
   "outputs": [],
   "source": [
    "import pandas as pd\n",
    "import numpy as np\n",
    "import matplotlib.pyplot as plt\n",
    "from sklearn.model_selection import train_test_split\n",
    "from sklearn.preprocessing import StandardScaler\n",
    "from sklearn.preprocessing import MinMaxScaler\n",
    "from sklearn.tree import DecisionTreeClassifier\n",
    "from sklearn.ensemble import RandomForestClassifier\n",
    "from sklearn.ensemble import GradientBoostingClassifier\n",
    "from sklearn.svm import SVC\n",
    "from sklearn.neural_network import MLPClassifier\n",
    "import pickle"
   ]
  },
  {
   "cell_type": "markdown",
   "metadata": {},
   "source": [
    "## Download the dataset"
   ]
  },
  {
   "cell_type": "code",
   "execution_count": 3,
   "metadata": {},
   "outputs": [
    {
     "data": {
      "text/html": [
       "<div>\n",
       "<style scoped>\n",
       "    .dataframe tbody tr th:only-of-type {\n",
       "        vertical-align: middle;\n",
       "    }\n",
       "\n",
       "    .dataframe tbody tr th {\n",
       "        vertical-align: top;\n",
       "    }\n",
       "\n",
       "    .dataframe thead th {\n",
       "        text-align: right;\n",
       "    }\n",
       "</style>\n",
       "<table border=\"1\" class=\"dataframe\">\n",
       "  <thead>\n",
       "    <tr style=\"text-align: right;\">\n",
       "      <th></th>\n",
       "      <th>FileName</th>\n",
       "      <th>nobs</th>\n",
       "      <th>mean</th>\n",
       "      <th>skew</th>\n",
       "      <th>kurtosis</th>\n",
       "      <th>median</th>\n",
       "      <th>mode</th>\n",
       "      <th>std</th>\n",
       "      <th>low</th>\n",
       "      <th>peak</th>\n",
       "      <th>q25</th>\n",
       "      <th>q75</th>\n",
       "      <th>iqr</th>\n",
       "      <th>Gender</th>\n",
       "    </tr>\n",
       "  </thead>\n",
       "  <tbody>\n",
       "    <tr>\n",
       "      <th>0</th>\n",
       "      <td>F003-0616.wav</td>\n",
       "      <td>20</td>\n",
       "      <td>-15.893751</td>\n",
       "      <td>-3.552869</td>\n",
       "      <td>12.575004</td>\n",
       "      <td>-1.203206</td>\n",
       "      <td>-451.64330</td>\n",
       "      <td>103.981691</td>\n",
       "      <td>-451.64330</td>\n",
       "      <td>120.34800</td>\n",
       "      <td>-6.534963</td>\n",
       "      <td>1.894023</td>\n",
       "      <td>8.428986</td>\n",
       "      <td>0</td>\n",
       "    </tr>\n",
       "    <tr>\n",
       "      <th>1</th>\n",
       "      <td>F000-0823.wav</td>\n",
       "      <td>20</td>\n",
       "      <td>-8.012054</td>\n",
       "      <td>-3.419959</td>\n",
       "      <td>12.092958</td>\n",
       "      <td>1.351676</td>\n",
       "      <td>-309.70892</td>\n",
       "      <td>72.645701</td>\n",
       "      <td>-309.70892</td>\n",
       "      <td>96.34725</td>\n",
       "      <td>-4.513690</td>\n",
       "      <td>6.544717</td>\n",
       "      <td>11.058407</td>\n",
       "      <td>0</td>\n",
       "    </tr>\n",
       "    <tr>\n",
       "      <th>2</th>\n",
       "      <td>M009-0399.wav</td>\n",
       "      <td>20</td>\n",
       "      <td>-8.518133</td>\n",
       "      <td>-3.117450</td>\n",
       "      <td>11.107469</td>\n",
       "      <td>1.917417</td>\n",
       "      <td>-351.83615</td>\n",
       "      <td>84.385457</td>\n",
       "      <td>-351.83615</td>\n",
       "      <td>133.79265</td>\n",
       "      <td>-3.422822</td>\n",
       "      <td>6.282625</td>\n",
       "      <td>9.705447</td>\n",
       "      <td>1</td>\n",
       "    </tr>\n",
       "    <tr>\n",
       "      <th>3</th>\n",
       "      <td>F033-0492.wav</td>\n",
       "      <td>20</td>\n",
       "      <td>-7.847460</td>\n",
       "      <td>-3.159365</td>\n",
       "      <td>11.103348</td>\n",
       "      <td>0.192251</td>\n",
       "      <td>-320.95276</td>\n",
       "      <td>76.850452</td>\n",
       "      <td>-320.95276</td>\n",
       "      <td>113.08917</td>\n",
       "      <td>-4.198808</td>\n",
       "      <td>4.235184</td>\n",
       "      <td>8.433991</td>\n",
       "      <td>0</td>\n",
       "    </tr>\n",
       "    <tr>\n",
       "      <th>4</th>\n",
       "      <td>M029-0430.wav</td>\n",
       "      <td>20</td>\n",
       "      <td>-13.904964</td>\n",
       "      <td>-3.268536</td>\n",
       "      <td>11.486076</td>\n",
       "      <td>-5.024880</td>\n",
       "      <td>-369.07828</td>\n",
       "      <td>86.499121</td>\n",
       "      <td>-369.07828</td>\n",
       "      <td>117.03207</td>\n",
       "      <td>-8.628703</td>\n",
       "      <td>-0.711506</td>\n",
       "      <td>7.917197</td>\n",
       "      <td>1</td>\n",
       "    </tr>\n",
       "  </tbody>\n",
       "</table>\n",
       "</div>"
      ],
      "text/plain": [
       "        FileName  nobs       mean      skew   kurtosis    median       mode  \\\n",
       "0  F003-0616.wav    20 -15.893751 -3.552869  12.575004 -1.203206 -451.64330   \n",
       "1  F000-0823.wav    20  -8.012054 -3.419959  12.092958  1.351676 -309.70892   \n",
       "2  M009-0399.wav    20  -8.518133 -3.117450  11.107469  1.917417 -351.83615   \n",
       "3  F033-0492.wav    20  -7.847460 -3.159365  11.103348  0.192251 -320.95276   \n",
       "4  M029-0430.wav    20 -13.904964 -3.268536  11.486076 -5.024880 -369.07828   \n",
       "\n",
       "          std        low       peak       q25       q75        iqr  Gender  \n",
       "0  103.981691 -451.64330  120.34800 -6.534963  1.894023   8.428986       0  \n",
       "1   72.645701 -309.70892   96.34725 -4.513690  6.544717  11.058407       0  \n",
       "2   84.385457 -351.83615  133.79265 -3.422822  6.282625   9.705447       1  \n",
       "3   76.850452 -320.95276  113.08917 -4.198808  4.235184   8.433991       0  \n",
       "4   86.499121 -369.07828  117.03207 -8.628703 -0.711506   7.917197       1  "
      ]
     },
     "execution_count": 3,
     "metadata": {},
     "output_type": "execute_result"
    }
   ],
   "source": [
    "# df = pd.read_csv('data/CETUC_Features_data.csv')\n",
    "df = pd.read_csv('data/CETUC_MFCCs_statistics_data.csv')\n",
    "df.head()"
   ]
  },
  {
   "cell_type": "markdown",
   "metadata": {},
   "source": [
    "## Split the dataset into training and test data\n",
    "Let's use 20% of the database for testing.\n",
    "\n",
    "We also need to make sure the classes(Genders) are equally distributed between the classes."
   ]
  },
  {
   "cell_type": "code",
   "execution_count": 4,
   "metadata": {},
   "outputs": [
    {
     "name": "stdout",
     "output_type": "stream",
     "text": [
      "Feminine voices in the training data: 33131\n",
      "Masculine voices in the training data: 32517\n",
      "Feminine voices in the test data: 17866\n",
      "Masculine voices in the test data: 17484\n"
     ]
    }
   ],
   "source": [
    "mydata_train, mydata_test = train_test_split(df, random_state=0, test_size=0.35)\n",
    "\n",
    "print(f'Feminine voices in the training data: {len(mydata_train.Gender)- sum(mydata_train.Gender)}')\n",
    "print(f'Masculine voices in the training data: {sum(mydata_train.Gender)}')\n",
    "print(f'Feminine voices in the test data: {len(mydata_test.Gender)- sum(mydata_test.Gender)}')\n",
    "print(f'Masculine voices in the test data: {sum(mydata_test.Gender)}')\n"
   ]
  },
  {
   "cell_type": "code",
   "execution_count": null,
   "metadata": {},
   "outputs": [],
   "source": []
  },
  {
   "cell_type": "code",
   "execution_count": 5,
   "metadata": {},
   "outputs": [
    {
     "data": {
      "text/html": [
       "<div>\n",
       "<style scoped>\n",
       "    .dataframe tbody tr th:only-of-type {\n",
       "        vertical-align: middle;\n",
       "    }\n",
       "\n",
       "    .dataframe tbody tr th {\n",
       "        vertical-align: top;\n",
       "    }\n",
       "\n",
       "    .dataframe thead th {\n",
       "        text-align: right;\n",
       "    }\n",
       "</style>\n",
       "<table border=\"1\" class=\"dataframe\">\n",
       "  <thead>\n",
       "    <tr style=\"text-align: right;\">\n",
       "      <th></th>\n",
       "      <th>FileName</th>\n",
       "      <th>nobs</th>\n",
       "      <th>mean</th>\n",
       "      <th>skew</th>\n",
       "      <th>kurtosis</th>\n",
       "      <th>median</th>\n",
       "      <th>mode</th>\n",
       "      <th>std</th>\n",
       "      <th>low</th>\n",
       "      <th>peak</th>\n",
       "      <th>q25</th>\n",
       "      <th>q75</th>\n",
       "      <th>iqr</th>\n",
       "      <th>Gender</th>\n",
       "    </tr>\n",
       "  </thead>\n",
       "  <tbody>\n",
       "    <tr>\n",
       "      <th>80896</th>\n",
       "      <td>F014-0104.wav</td>\n",
       "      <td>20</td>\n",
       "      <td>-19.891745</td>\n",
       "      <td>-3.845443</td>\n",
       "      <td>13.717475</td>\n",
       "      <td>2.435540</td>\n",
       "      <td>-523.22626</td>\n",
       "      <td>117.787346</td>\n",
       "      <td>-523.22626</td>\n",
       "      <td>89.802086</td>\n",
       "      <td>-6.011421</td>\n",
       "      <td>3.201870</td>\n",
       "      <td>9.213291</td>\n",
       "      <td>0</td>\n",
       "    </tr>\n",
       "    <tr>\n",
       "      <th>7018</th>\n",
       "      <td>M015-0710.wav</td>\n",
       "      <td>20</td>\n",
       "      <td>-8.779715</td>\n",
       "      <td>-2.871716</td>\n",
       "      <td>10.309560</td>\n",
       "      <td>-0.380358</td>\n",
       "      <td>-341.20200</td>\n",
       "      <td>83.189287</td>\n",
       "      <td>-341.20200</td>\n",
       "      <td>142.825640</td>\n",
       "      <td>-4.839353</td>\n",
       "      <td>2.472269</td>\n",
       "      <td>7.311621</td>\n",
       "      <td>1</td>\n",
       "    </tr>\n",
       "    <tr>\n",
       "      <th>33057</th>\n",
       "      <td>M002-0209.wav</td>\n",
       "      <td>20</td>\n",
       "      <td>-14.927643</td>\n",
       "      <td>-3.800690</td>\n",
       "      <td>13.530245</td>\n",
       "      <td>2.265035</td>\n",
       "      <td>-496.65884</td>\n",
       "      <td>113.072005</td>\n",
       "      <td>-496.65884</td>\n",
       "      <td>97.896164</td>\n",
       "      <td>-2.762990</td>\n",
       "      <td>9.879353</td>\n",
       "      <td>12.642342</td>\n",
       "      <td>1</td>\n",
       "    </tr>\n",
       "    <tr>\n",
       "      <th>85984</th>\n",
       "      <td>F047-0880.wav</td>\n",
       "      <td>20</td>\n",
       "      <td>-17.284472</td>\n",
       "      <td>-3.495783</td>\n",
       "      <td>12.295575</td>\n",
       "      <td>-2.532055</td>\n",
       "      <td>-471.17170</td>\n",
       "      <td>108.813878</td>\n",
       "      <td>-471.17170</td>\n",
       "      <td>124.794975</td>\n",
       "      <td>-5.881423</td>\n",
       "      <td>2.978202</td>\n",
       "      <td>8.859625</td>\n",
       "      <td>0</td>\n",
       "    </tr>\n",
       "    <tr>\n",
       "      <th>47112</th>\n",
       "      <td>F025-0368.wav</td>\n",
       "      <td>20</td>\n",
       "      <td>-22.683759</td>\n",
       "      <td>-3.727086</td>\n",
       "      <td>13.272169</td>\n",
       "      <td>-3.418833</td>\n",
       "      <td>-499.61014</td>\n",
       "      <td>112.452064</td>\n",
       "      <td>-499.61014</td>\n",
       "      <td>108.539150</td>\n",
       "      <td>-7.479618</td>\n",
       "      <td>0.770009</td>\n",
       "      <td>8.249626</td>\n",
       "      <td>0</td>\n",
       "    </tr>\n",
       "  </tbody>\n",
       "</table>\n",
       "</div>"
      ],
      "text/plain": [
       "            FileName  nobs       mean      skew   kurtosis    median  \\\n",
       "80896  F014-0104.wav    20 -19.891745 -3.845443  13.717475  2.435540   \n",
       "7018   M015-0710.wav    20  -8.779715 -2.871716  10.309560 -0.380358   \n",
       "33057  M002-0209.wav    20 -14.927643 -3.800690  13.530245  2.265035   \n",
       "85984  F047-0880.wav    20 -17.284472 -3.495783  12.295575 -2.532055   \n",
       "47112  F025-0368.wav    20 -22.683759 -3.727086  13.272169 -3.418833   \n",
       "\n",
       "            mode         std        low        peak       q25       q75  \\\n",
       "80896 -523.22626  117.787346 -523.22626   89.802086 -6.011421  3.201870   \n",
       "7018  -341.20200   83.189287 -341.20200  142.825640 -4.839353  2.472269   \n",
       "33057 -496.65884  113.072005 -496.65884   97.896164 -2.762990  9.879353   \n",
       "85984 -471.17170  108.813878 -471.17170  124.794975 -5.881423  2.978202   \n",
       "47112 -499.61014  112.452064 -499.61014  108.539150 -7.479618  0.770009   \n",
       "\n",
       "             iqr  Gender  \n",
       "80896   9.213291       0  \n",
       "7018    7.311621       1  \n",
       "33057  12.642342       1  \n",
       "85984   8.859625       0  \n",
       "47112   8.249626       0  "
      ]
     },
     "execution_count": 5,
     "metadata": {},
     "output_type": "execute_result"
    }
   ],
   "source": [
    "mydata_train.head()"
   ]
  },
  {
   "cell_type": "code",
   "execution_count": 6,
   "metadata": {},
   "outputs": [],
   "source": [
    "data_x_train = mydata_train[['nobs', 'mean', 'skew', 'kurtosis', 'median', 'mode', 'std', 'low', 'peak', 'q25', 'q75', 'iqr']].copy()\n",
    "y_train = mydata_train[['Gender']].copy().values.ravel()\n",
    "data_x_test = mydata_test[['nobs', 'mean', 'skew', 'kurtosis', 'median', 'mode', 'std', 'low', 'peak', 'q25', 'q75', 'iqr']].copy()\n",
    "y_test = mydata_test[['Gender']].copy().values.ravel()"
   ]
  },
  {
   "cell_type": "code",
   "execution_count": 7,
   "metadata": {},
   "outputs": [],
   "source": [
    "scaler = StandardScaler()\n",
    "X_train = pd.DataFrame(scaler.fit_transform(data_x_train), columns=data_x_train.columns)\n",
    "X_test = pd.DataFrame(scaler.fit_transform(data_x_test), columns=data_x_test.columns)"
   ]
  },
  {
   "cell_type": "code",
   "execution_count": 8,
   "metadata": {},
   "outputs": [
    {
     "name": "stdout",
     "output_type": "stream",
     "text": [
      "\n",
      "Decision Tree\n",
      "Accuracy on training set: 1.000\n",
      "Accuracy on test set: 0.792\n",
      "\n",
      "Random Forests\n",
      "Accuracy on training set: 0.979\n",
      "Accuracy on test set: 0.825\n",
      "\n",
      "Gradient Boosting\n",
      "Accuracy on training set: 0.801\n",
      "Accuracy on test set: 0.796\n",
      "\n",
      "Support Vector Machine\n",
      "Accuracy on training set: 0.827\n",
      "Accuracy on test set: 0.823\n"
     ]
    },
    {
     "name": "stderr",
     "output_type": "stream",
     "text": [
      "/home/brunohonorio/tcc/Speaker-Gender-Recognition/venv/lib/python3.8/site-packages/sklearn/neural_network/_multilayer_perceptron.py:614: ConvergenceWarning: Stochastic Optimizer: Maximum iterations (200) reached and the optimization hasn't converged yet.\n",
      "  warnings.warn(\n"
     ]
    },
    {
     "name": "stdout",
     "output_type": "stream",
     "text": [
      "\n",
      "Multilayer Perceptron\n",
      "Accuracy on training set: 0.850\n",
      "Accuracy on test set: 0.844\n"
     ]
    }
   ],
   "source": [
    "#Train decision tree model\n",
    "tree = DecisionTreeClassifier(random_state=0).fit(X_train, y_train)\n",
    "filename = 'models/DecisionTree.sav'\n",
    "pickle.dump(tree, open(filename, 'wb'))\n",
    "print(\"\\nDecision Tree\")\n",
    "print(\"Accuracy on training set: {:.3f}\".format(tree.score(X_train, y_train)))\n",
    "print(\"Accuracy on test set: {:.3f}\".format(tree.score(X_test, y_test)))\n",
    "\n",
    "#Train random forest model\n",
    "forest = RandomForestClassifier(n_estimators=5, random_state=0).fit(X_train, y_train)\n",
    "filename = 'models/RandomForest.sav'\n",
    "pickle.dump(forest, open(filename, 'wb'))\n",
    "print(\"\\nRandom Forests\")\n",
    "print(\"Accuracy on training set: {:.3f}\".format(forest.score(X_train, y_train)))\n",
    "print(\"Accuracy on test set: {:.3f}\".format(forest.score(X_test, y_test)))\n",
    "\n",
    "#Train gradient boosting model\n",
    "gbrt = GradientBoostingClassifier(random_state=0).fit(X_train, y_train)\n",
    "filename = 'models/GradientBoosting.sav'\n",
    "pickle.dump(gbrt, open(filename, 'wb'))\n",
    "print(\"\\nGradient Boosting\")\n",
    "print(\"Accuracy on training set: {:.3f}\".format(gbrt.score(X_train, y_train)))\n",
    "print(\"Accuracy on test set: {:.3f}\".format(gbrt.score(X_test, y_test)))\n",
    "\n",
    "#Train support vector machine model\n",
    "svm = SVC().fit(X_train, y_train)\n",
    "filename = 'models/SVM.sav'\n",
    "pickle.dump(svm, open(filename, 'wb'))\n",
    "print(\"\\nSupport Vector Machine\")\n",
    "print(\"Accuracy on training set: {:.3f}\".format(svm.score(X_train, y_train)))\n",
    "print(\"Accuracy on test set: {:.3f}\".format(svm.score(X_test, y_test)))\n",
    "\n",
    "#Train neural network model\n",
    "mlp = MLPClassifier(random_state=0).fit(X_train, y_train)\n",
    "filename = 'models/MLP.sav'\n",
    "pickle.dump(mlp, open(filename, 'wb'))\n",
    "print(\"\\nMultilayer Perceptron\")\n",
    "print(\"Accuracy on training set: {:.3f}\".format(mlp.score(X_train, y_train)))\n",
    "print(\"Accuracy on test set: {:.3f}\".format(mlp.score(X_test, y_test)))"
   ]
  },
  {
   "cell_type": "code",
   "execution_count": null,
   "metadata": {},
   "outputs": [],
   "source": []
  },
  {
   "cell_type": "code",
   "execution_count": 9,
   "metadata": {},
   "outputs": [],
   "source": [
    "def plot_feature_importances_mydata(model, c):\n",
    "    n_features = len(X_train.columns)\n",
    "    plt.figure(1,figsize=(18,10))\n",
    "    plt.bar(range(n_features), model.feature_importances_, align='center', color=c)\n",
    "    plt.xticks(np.arange(n_features), X_train.columns)\n",
    "    plt.ylabel(\"Variable importance\")\n",
    "    plt.xlabel(\"Independent Variable\")\n",
    "    plt.title(model.__class__.__name__)\n",
    "    plt.show()"
   ]
  },
  {
   "cell_type": "code",
   "execution_count": 11,
   "metadata": {},
   "outputs": [
    {
     "data": {
      "image/png": "[encoded data removed]",
      "text/plain": [
       "<Figure size 1296x720 with 1 Axes>"
      ]
     },
     "metadata": {
      "needs_background": "light"
     },
     "output_type": "display_data"
    }
   ],
   "source": [
    "plot_feature_importances_mydata(gbrt,'blue')"
   ]
  },
  {
   "cell_type": "code",
   "execution_count": null,
   "metadata": {},
   "outputs": [],
   "source": []
  },
  {
   "cell_type": "code",
   "execution_count": null,
   "metadata": {},
   "outputs": [],
   "source": [
    "import tensorflow as tf\n",
    "from tensorflow import keras\n",
    "\n",
    "NeuralNetwork = tf.keras.Sequential([\n",
    "    tf.keras.layers.Dense(8, activation='relu', input_shape=(12,)),\n",
    "    tf.keras.layers.Dense(128, activation='relu'),\n",
    "    tf.keras.layers.Dense(10, activation='softmax')\n",
    "])\n",
    "\n",
    "NeuralNetwork.compile(optimizer='adam',\n",
    "              loss='sparse_categorical_crossentropy',\n",
    "              metrics=['accuracy'])\n",
    "history = NeuralNetwork.fit(X_train, y_train,validation_split=0.2, epochs=100, verbose=4)\n",
    "\n",
    "test_loss, test_acc = NeuralNetwork.evaluate(X_test,  y_test, verbose=0)\n",
    "\n",
    "\n",
    "print('\\nTest accuracy:', test_acc)"
   ]
  },
  {
   "cell_type": "code",
   "execution_count": null,
   "metadata": {},
   "outputs": [
    {
     "name": "stderr",
     "output_type": "stream",
     "text": [
      "/home/brunohonorio/tcc/Speaker-Gender-Recognition/venv/lib/python3.8/site-packages/sklearn/neural_network/_multilayer_perceptron.py:614: ConvergenceWarning: Stochastic Optimizer: Maximum iterations (200) reached and the optimization hasn't converged yet.\n",
      "  warnings.warn(\n"
     ]
    },
    {
     "data": {
      "image/png": "[encoded data removed]",
      "text/plain": [
       "<Figure size 1296x720 with 1 Axes>"
      ]
     },
     "metadata": {
      "needs_background": "light"
     },
     "output_type": "display_data"
    },
    {
     "name": "stdout",
     "output_type": "stream",
     "text": [
      "Epoch 1/100\n"
     ]
    },
    {
     "name": "stdout",
     "output_type": "stream",
     "text": [
      "Epoch 2/100\n"
     ]
    },
    {
     "name": "stdout",
     "output_type": "stream",
     "text": [
      "Epoch 3/100\n"
     ]
    },
    {
     "name": "stdout",
     "output_type": "stream",
     "text": [
      "Epoch 4/100\n"
     ]
    },
    {
     "name": "stdout",
     "output_type": "stream",
     "text": [
      "Epoch 5/100\n"
     ]
    },
    {
     "name": "stdout",
     "output_type": "stream",
     "text": [
      "Epoch 6/100\n"
     ]
    },
    {
     "name": "stdout",
     "output_type": "stream",
     "text": [
      "Epoch 7/100\n"
     ]
    },
    {
     "name": "stdout",
     "output_type": "stream",
     "text": [
      "Epoch 8/100\n"
     ]
    },
    {
     "name": "stdout",
     "output_type": "stream",
     "text": [
      "Epoch 9/100\n"
     ]
    },
    {
     "name": "stdout",
     "output_type": "stream",
     "text": [
      "Epoch 10/100\n"
     ]
    },
    {
     "name": "stdout",
     "output_type": "stream",
     "text": [
      "Epoch 11/100\n"
     ]
    },
    {
     "name": "stdout",
     "output_type": "stream",
     "text": [
      "Epoch 12/100\n"
     ]
    },
    {
     "name": "stdout",
     "output_type": "stream",
     "text": [
      "Epoch 13/100\n"
     ]
    },
    {
     "name": "stdout",
     "output_type": "stream",
     "text": [
      "Epoch 14/100\n"
     ]
    },
    {
     "name": "stdout",
     "output_type": "stream",
     "text": [
      "Epoch 15/100\n"
     ]
    },
    {
     "name": "stdout",
     "output_type": "stream",
     "text": [
      "Epoch 16/100\n"
     ]
    },
    {
     "name": "stdout",
     "output_type": "stream",
     "text": [
      "Epoch 17/100\n"
     ]
    },
    {
     "name": "stdout",
     "output_type": "stream",
     "text": [
      "Epoch 18/100\n"
     ]
    },
    {
     "name": "stdout",
     "output_type": "stream",
     "text": [
      "Epoch 19/100\n"
     ]
    },
    {
     "name": "stdout",
     "output_type": "stream",
     "text": [
      "Epoch 20/100\n"
     ]
    },
    {
     "name": "stdout",
     "output_type": "stream",
     "text": [
      "Epoch 21/100\n"
     ]
    },
    {
     "name": "stdout",
     "output_type": "stream",
     "text": [
      "Epoch 22/100\n"
     ]
    },
    {
     "name": "stdout",
     "output_type": "stream",
     "text": [
      "Epoch 23/100\n"
     ]
    },
    {
     "name": "stdout",
     "output_type": "stream",
     "text": [
      "Epoch 24/100\n"
     ]
    },
    {
     "name": "stdout",
     "output_type": "stream",
     "text": [
      "Epoch 25/100\n"
     ]
    },
    {
     "name": "stdout",
     "output_type": "stream",
     "text": [
      "Epoch 26/100\n"
     ]
    },
    {
     "data": {
      "image/png": "[encoded data removed]",
      "text/plain": [
       "<Figure size 432x288 with 1 Axes>"
      ]
     },
     "metadata": {
      "needs_background": "light"
     },
     "output_type": "display_data"
    }
   ],
   "source": [
    "plt.plot(history.history['accuracy'])\n",
    "plt.plot(history.history['val_accuracy'])\n",
    "plt.title('model accuracy')\n",
    "plt.ylabel('accuracy')\n",
    "plt.xlabel('epoch')\n",
    "plt.legend(['train', 'val'], loc='upper left')\n",
    "plt.show()"
   ]
  },
  {
   "cell_type": "code",
   "execution_count": null,
   "metadata": {},
   "outputs": [
    {
     "name": "stdout",
     "output_type": "stream",
     "text": [
      "Epoch 27/100\n"
     ]
    },
    {
     "name": "stdout",
     "output_type": "stream",
     "text": [
      "Epoch 28/100\n"
     ]
    },
    {
     "name": "stdout",
     "output_type": "stream",
     "text": [
      "Epoch 29/100\n"
     ]
    },
    {
     "name": "stdout",
     "output_type": "stream",
     "text": [
      "Epoch 30/100\n"
     ]
    },
    {
     "name": "stdout",
     "output_type": "stream",
     "text": [
      "Epoch 31/100\n"
     ]
    },
    {
     "name": "stdout",
     "output_type": "stream",
     "text": [
      "Epoch 32/100\n"
     ]
    },
    {
     "name": "stdout",
     "output_type": "stream",
     "text": [
      "Epoch 33/100\n"
     ]
    },
    {
     "name": "stdout",
     "output_type": "stream",
     "text": [
      "Epoch 34/100\n"
     ]
    },
    {
     "name": "stdout",
     "output_type": "stream",
     "text": [
      "Epoch 35/100\n"
     ]
    },
    {
     "name": "stdout",
     "output_type": "stream",
     "text": [
      "Epoch 36/100\n"
     ]
    },
    {
     "name": "stdout",
     "output_type": "stream",
     "text": [
      "Epoch 37/100\n"
     ]
    },
    {
     "name": "stdout",
     "output_type": "stream",
     "text": [
      "Epoch 38/100\n"
     ]
    },
    {
     "data": {
      "image/png": "[encoded data removed]",
      "text/plain": [
       "<Figure size 432x288 with 1 Axes>"
      ]
     },
     "metadata": {
      "needs_background": "light"
     },
     "output_type": "display_data"
    }
   ],
   "source": [
    "plt.plot(history.history['loss'])\n",
    "plt.plot(history.history['val_loss'])\n",
    "plt.title('model loss')\n",
    "plt.ylabel('loss')\n",
    "plt.xlabel('epoch')\n",
    "plt.legend(['train', 'test'], loc='upper left')\n",
    "plt.show()"
   ]
  }
 ],
 "metadata": {
  "interpreter": {
   "hash": "916dbcbb3f70747c44a77c7bcd40155683ae19c65e1c03b4aa3499c5328201f1"
  },
  "kernelspec": {
   "display_name": "Python 3.8.10 64-bit",
   "name": "python3"
  },
  "language_info": {
   "name": "python",
   "version": ""
  },
  "metadata": {
   "interpreter": {
    "hash": "5416e886b2da67312ca4f5cf753d3133e2603bbf2f07750dd1ae6cf6c6d20287"
   }
  },
  "orig_nbformat": 2
 },
 "nbformat": 4,
 "nbformat_minor": 2
}