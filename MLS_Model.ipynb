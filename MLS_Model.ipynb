{
 "cells": [
  {
   "cell_type": "code",
   "execution_count": 2,
   "source": [
    "import pandas as pd\n",
    "import numpy as np\n",
    "import matplotlib.pyplot as plt\n",
    "from sklearn.model_selection import train_test_split\n",
    "from sklearn.preprocessing import StandardScaler\n",
    "from sklearn.preprocessing import MinMaxScaler\n",
    "from sklearn.tree import DecisionTreeClassifier\n",
    "from sklearn.ensemble import RandomForestClassifier\n",
    "from sklearn.ensemble import GradientBoostingClassifier\n",
    "from sklearn.svm import SVC\n",
    "from sklearn.neural_network import MLPClassifier\n",
    "import pickle"
   ],
   "outputs": [],
   "metadata": {}
  },
  {
   "cell_type": "markdown",
   "source": [
    "## Download the dataset"
   ],
   "metadata": {}
  },
  {
   "cell_type": "code",
   "execution_count": 3,
   "source": [
    "df = pd.read_csv('data/MLS_Features_split_data.csv')\n",
    "df.head()"
   ],
   "outputs": [
    {
     "output_type": "execute_result",
     "data": {
      "text/plain": [
       "                       FileName  nobs        mean      skew  kurtosis  median  \\\n",
       "0  12626_10229_000011.wav_4.wav    15  169.333333  1.401162  0.498132   130.0   \n",
       "1    7925_6390_000089.wav_4.wav    15  819.666667  2.794093  6.805488   240.0   \n",
       "2  12114_10229_000087.wav_0.wav    15  278.333333 -0.537424 -0.600595   235.0   \n",
       "3  13063_13511_000043.wav_5.wav    10  666.500000  2.011294  2.801103   457.5   \n",
       "4  13063_13511_000032.wav_4.wav    15  727.000000  3.406457  9.772392   455.0   \n",
       "\n",
       "    mode          std    low    peak     q25     q75    iqr  Gender  \n",
       "0  130.0    88.371690   95.0   380.0  120.00  187.50   67.5       1  \n",
       "1  215.0  1476.551689  165.0  5955.0  200.00  292.50   92.5       0  \n",
       "2  225.0   143.162689    0.0   440.0  225.00  425.00  200.0       0  \n",
       "3  220.0   585.585391  220.0  2275.0  408.75  548.75  140.0       1  \n",
       "4  445.0   900.045925  380.0  4075.0  427.50  562.50  135.0       1  "
      ],
      "text/html": [
       "<div>\n",
       "<style scoped>\n",
       "    .dataframe tbody tr th:only-of-type {\n",
       "        vertical-align: middle;\n",
       "    }\n",
       "\n",
       "    .dataframe tbody tr th {\n",
       "        vertical-align: top;\n",
       "    }\n",
       "\n",
       "    .dataframe thead th {\n",
       "        text-align: right;\n",
       "    }\n",
       "</style>\n",
       "<table border=\"1\" class=\"dataframe\">\n",
       "  <thead>\n",
       "    <tr style=\"text-align: right;\">\n",
       "      <th></th>\n",
       "      <th>FileName</th>\n",
       "      <th>nobs</th>\n",
       "      <th>mean</th>\n",
       "      <th>skew</th>\n",
       "      <th>kurtosis</th>\n",
       "      <th>median</th>\n",
       "      <th>mode</th>\n",
       "      <th>std</th>\n",
       "      <th>low</th>\n",
       "      <th>peak</th>\n",
       "      <th>q25</th>\n",
       "      <th>q75</th>\n",
       "      <th>iqr</th>\n",
       "      <th>Gender</th>\n",
       "    </tr>\n",
       "  </thead>\n",
       "  <tbody>\n",
       "    <tr>\n",
       "      <th>0</th>\n",
       "      <td>12626_10229_000011.wav_4.wav</td>\n",
       "      <td>15</td>\n",
       "      <td>169.333333</td>\n",
       "      <td>1.401162</td>\n",
       "      <td>0.498132</td>\n",
       "      <td>130.0</td>\n",
       "      <td>130.0</td>\n",
       "      <td>88.371690</td>\n",
       "      <td>95.0</td>\n",
       "      <td>380.0</td>\n",
       "      <td>120.00</td>\n",
       "      <td>187.50</td>\n",
       "      <td>67.5</td>\n",
       "      <td>1</td>\n",
       "    </tr>\n",
       "    <tr>\n",
       "      <th>1</th>\n",
       "      <td>7925_6390_000089.wav_4.wav</td>\n",
       "      <td>15</td>\n",
       "      <td>819.666667</td>\n",
       "      <td>2.794093</td>\n",
       "      <td>6.805488</td>\n",
       "      <td>240.0</td>\n",
       "      <td>215.0</td>\n",
       "      <td>1476.551689</td>\n",
       "      <td>165.0</td>\n",
       "      <td>5955.0</td>\n",
       "      <td>200.00</td>\n",
       "      <td>292.50</td>\n",
       "      <td>92.5</td>\n",
       "      <td>0</td>\n",
       "    </tr>\n",
       "    <tr>\n",
       "      <th>2</th>\n",
       "      <td>12114_10229_000087.wav_0.wav</td>\n",
       "      <td>15</td>\n",
       "      <td>278.333333</td>\n",
       "      <td>-0.537424</td>\n",
       "      <td>-0.600595</td>\n",
       "      <td>235.0</td>\n",
       "      <td>225.0</td>\n",
       "      <td>143.162689</td>\n",
       "      <td>0.0</td>\n",
       "      <td>440.0</td>\n",
       "      <td>225.00</td>\n",
       "      <td>425.00</td>\n",
       "      <td>200.0</td>\n",
       "      <td>0</td>\n",
       "    </tr>\n",
       "    <tr>\n",
       "      <th>3</th>\n",
       "      <td>13063_13511_000043.wav_5.wav</td>\n",
       "      <td>10</td>\n",
       "      <td>666.500000</td>\n",
       "      <td>2.011294</td>\n",
       "      <td>2.801103</td>\n",
       "      <td>457.5</td>\n",
       "      <td>220.0</td>\n",
       "      <td>585.585391</td>\n",
       "      <td>220.0</td>\n",
       "      <td>2275.0</td>\n",
       "      <td>408.75</td>\n",
       "      <td>548.75</td>\n",
       "      <td>140.0</td>\n",
       "      <td>1</td>\n",
       "    </tr>\n",
       "    <tr>\n",
       "      <th>4</th>\n",
       "      <td>13063_13511_000032.wav_4.wav</td>\n",
       "      <td>15</td>\n",
       "      <td>727.000000</td>\n",
       "      <td>3.406457</td>\n",
       "      <td>9.772392</td>\n",
       "      <td>455.0</td>\n",
       "      <td>445.0</td>\n",
       "      <td>900.045925</td>\n",
       "      <td>380.0</td>\n",
       "      <td>4075.0</td>\n",
       "      <td>427.50</td>\n",
       "      <td>562.50</td>\n",
       "      <td>135.0</td>\n",
       "      <td>1</td>\n",
       "    </tr>\n",
       "  </tbody>\n",
       "</table>\n",
       "</div>"
      ]
     },
     "metadata": {},
     "execution_count": 3
    }
   ],
   "metadata": {}
  },
  {
   "cell_type": "markdown",
   "source": [
    "## Split the dataset into training and test data\n",
    "Let's use 20% of the database for testing.\n",
    "\n",
    "We also need to make sure the classes(Genders) are equally distributed between the classes."
   ],
   "metadata": {}
  },
  {
   "cell_type": "code",
   "execution_count": 4,
   "source": [
    "mydata_train, mydata_test = train_test_split(df, random_state=0, test_size=0.2)\n",
    "\n",
    "print(f'Feminine voices in the training data: {len(mydata_train.Gender)- sum(mydata_train.Gender)}')\n",
    "print(f'Masculine voices in the training data: {sum(mydata_train.Gender)}')\n",
    "print(f'Feminine voices in the test data: {len(mydata_test.Gender)- sum(mydata_test.Gender)}')\n",
    "print(f'Masculine voices in the test data: {sum(mydata_test.Gender)}')\n"
   ],
   "outputs": [
    {
     "output_type": "stream",
     "name": "stdout",
     "text": [
      "Feminine voices in the training data: 1926\n",
      "Masculine voices in the training data: 2004\n",
      "Feminine voices in the test data: 483\n",
      "Masculine voices in the test data: 500\n"
     ]
    }
   ],
   "metadata": {}
  },
  {
   "cell_type": "code",
   "execution_count": null,
   "source": [],
   "outputs": [],
   "metadata": {}
  },
  {
   "cell_type": "code",
   "execution_count": 5,
   "source": [
    "mydata_train.head()"
   ],
   "outputs": [
    {
     "output_type": "execute_result",
     "data": {
      "text/plain": [
       "                          FileName  nobs       mean      skew   kurtosis  \\\n",
       "1475    7925_6390_000063.wav_2.wav    20 -22.132288 -3.336945  11.704693   \n",
       "241     7925_6390_000081.wav_2.wav    20 -23.968729 -3.547423  12.416862   \n",
       "2817  11247_10229_000025.wav_0.wav    20 -16.237059 -3.485746  12.266031   \n",
       "1022  12670_13511_000012.wav_5.wav    20 -16.374593 -3.599595  12.755130   \n",
       "3474    3050_2941_000026.wav_2.wav    20 -16.693966 -3.251413  11.239869   \n",
       "\n",
       "         median       mode        std        low        peak        q25  \\\n",
       "1475  -5.523300 -424.36795  97.518873 -424.36795  119.496100 -20.626551   \n",
       "241  -11.988429 -422.60130  95.306418 -422.60130   85.578820 -16.447547   \n",
       "2817  -6.167370 -387.30386  89.014702 -387.30386  102.718285 -10.506386   \n",
       "1022  -3.482006 -435.08008  99.595945 -435.08008  110.347770  -6.900924   \n",
       "3474  -3.157269 -366.48532  85.504402 -366.48532  107.322190  -7.683341   \n",
       "\n",
       "           q75        iqr  Gender  \n",
       "1475  0.061093  20.687644       0  \n",
       "241  -3.751930  12.695617       0  \n",
       "2817  2.841049  13.347435       0  \n",
       "1022  2.512270   9.413195       0  \n",
       "3474  5.215944  12.899285       0  "
      ],
      "text/html": [
       "<div>\n",
       "<style scoped>\n",
       "    .dataframe tbody tr th:only-of-type {\n",
       "        vertical-align: middle;\n",
       "    }\n",
       "\n",
       "    .dataframe tbody tr th {\n",
       "        vertical-align: top;\n",
       "    }\n",
       "\n",
       "    .dataframe thead th {\n",
       "        text-align: right;\n",
       "    }\n",
       "</style>\n",
       "<table border=\"1\" class=\"dataframe\">\n",
       "  <thead>\n",
       "    <tr style=\"text-align: right;\">\n",
       "      <th></th>\n",
       "      <th>FileName</th>\n",
       "      <th>nobs</th>\n",
       "      <th>mean</th>\n",
       "      <th>skew</th>\n",
       "      <th>kurtosis</th>\n",
       "      <th>median</th>\n",
       "      <th>mode</th>\n",
       "      <th>std</th>\n",
       "      <th>low</th>\n",
       "      <th>peak</th>\n",
       "      <th>q25</th>\n",
       "      <th>q75</th>\n",
       "      <th>iqr</th>\n",
       "      <th>Gender</th>\n",
       "    </tr>\n",
       "  </thead>\n",
       "  <tbody>\n",
       "    <tr>\n",
       "      <th>1475</th>\n",
       "      <td>7925_6390_000063.wav_2.wav</td>\n",
       "      <td>20</td>\n",
       "      <td>-22.132288</td>\n",
       "      <td>-3.336945</td>\n",
       "      <td>11.704693</td>\n",
       "      <td>-5.523300</td>\n",
       "      <td>-424.36795</td>\n",
       "      <td>97.518873</td>\n",
       "      <td>-424.36795</td>\n",
       "      <td>119.496100</td>\n",
       "      <td>-20.626551</td>\n",
       "      <td>0.061093</td>\n",
       "      <td>20.687644</td>\n",
       "      <td>0</td>\n",
       "    </tr>\n",
       "    <tr>\n",
       "      <th>241</th>\n",
       "      <td>7925_6390_000081.wav_2.wav</td>\n",
       "      <td>20</td>\n",
       "      <td>-23.968729</td>\n",
       "      <td>-3.547423</td>\n",
       "      <td>12.416862</td>\n",
       "      <td>-11.988429</td>\n",
       "      <td>-422.60130</td>\n",
       "      <td>95.306418</td>\n",
       "      <td>-422.60130</td>\n",
       "      <td>85.578820</td>\n",
       "      <td>-16.447547</td>\n",
       "      <td>-3.751930</td>\n",
       "      <td>12.695617</td>\n",
       "      <td>0</td>\n",
       "    </tr>\n",
       "    <tr>\n",
       "      <th>2817</th>\n",
       "      <td>11247_10229_000025.wav_0.wav</td>\n",
       "      <td>20</td>\n",
       "      <td>-16.237059</td>\n",
       "      <td>-3.485746</td>\n",
       "      <td>12.266031</td>\n",
       "      <td>-6.167370</td>\n",
       "      <td>-387.30386</td>\n",
       "      <td>89.014702</td>\n",
       "      <td>-387.30386</td>\n",
       "      <td>102.718285</td>\n",
       "      <td>-10.506386</td>\n",
       "      <td>2.841049</td>\n",
       "      <td>13.347435</td>\n",
       "      <td>0</td>\n",
       "    </tr>\n",
       "    <tr>\n",
       "      <th>1022</th>\n",
       "      <td>12670_13511_000012.wav_5.wav</td>\n",
       "      <td>20</td>\n",
       "      <td>-16.374593</td>\n",
       "      <td>-3.599595</td>\n",
       "      <td>12.755130</td>\n",
       "      <td>-3.482006</td>\n",
       "      <td>-435.08008</td>\n",
       "      <td>99.595945</td>\n",
       "      <td>-435.08008</td>\n",
       "      <td>110.347770</td>\n",
       "      <td>-6.900924</td>\n",
       "      <td>2.512270</td>\n",
       "      <td>9.413195</td>\n",
       "      <td>0</td>\n",
       "    </tr>\n",
       "    <tr>\n",
       "      <th>3474</th>\n",
       "      <td>3050_2941_000026.wav_2.wav</td>\n",
       "      <td>20</td>\n",
       "      <td>-16.693966</td>\n",
       "      <td>-3.251413</td>\n",
       "      <td>11.239869</td>\n",
       "      <td>-3.157269</td>\n",
       "      <td>-366.48532</td>\n",
       "      <td>85.504402</td>\n",
       "      <td>-366.48532</td>\n",
       "      <td>107.322190</td>\n",
       "      <td>-7.683341</td>\n",
       "      <td>5.215944</td>\n",
       "      <td>12.899285</td>\n",
       "      <td>0</td>\n",
       "    </tr>\n",
       "  </tbody>\n",
       "</table>\n",
       "</div>"
      ]
     },
     "metadata": {},
     "execution_count": 5
    }
   ],
   "metadata": {}
  },
  {
   "cell_type": "code",
   "execution_count": 6,
   "source": [
    "data_x_train = mydata_train[['nobs', 'mean', 'skew', 'kurtosis', 'median', 'mode', 'std', 'low', 'peak', 'q25', 'q75', 'iqr']].copy()\n",
    "y_train = mydata_train[['Gender']].copy().values.ravel()\n",
    "data_x_test = mydata_test[['nobs', 'mean', 'skew', 'kurtosis', 'median', 'mode', 'std', 'low', 'peak', 'q25', 'q75', 'iqr']].copy()\n",
    "y_test = mydata_test[['Gender']].copy().values.ravel()"
   ],
   "outputs": [],
   "metadata": {}
  },
  {
   "cell_type": "code",
   "execution_count": 7,
   "source": [
    "scaler = StandardScaler()\n",
    "X_train = pd.DataFrame(scaler.fit_transform(data_x_train), columns=data_x_train.columns)\n",
    "X_test = pd.DataFrame(scaler.fit_transform(data_x_test), columns=data_x_test.columns)"
   ],
   "outputs": [],
   "metadata": {}
  },
  {
   "cell_type": "code",
   "execution_count": 8,
   "source": [
    "#Train decision tree model\n",
    "tree = DecisionTreeClassifier(random_state=0).fit(X_train, y_train)\n",
    "filename = 'models/MLS_DecisionTree.sav'\n",
    "pickle.dump(tree, open(filename, 'wb'))\n",
    "print(\"\\nDecision Tree\")\n",
    "print(\"Accuracy on training set: {:.3f}\".format(tree.score(X_train, y_train)))\n",
    "print(\"Accuracy on test set: {:.3f}\".format(tree.score(X_test, y_test)))\n",
    "\n",
    "#Train random forest model\n",
    "forest = RandomForestClassifier(n_estimators=5, random_state=0).fit(X_train, y_train)\n",
    "filename = 'models/MLS_RandomForest.sav'\n",
    "pickle.dump(forest, open(filename, 'wb'))\n",
    "print(\"\\nRandom Forests\")\n",
    "print(\"Accuracy on training set: {:.3f}\".format(forest.score(X_train, y_train)))\n",
    "print(\"Accuracy on test set: {:.3f}\".format(forest.score(X_test, y_test)))\n",
    "\n",
    "#Train gradient boosting model\n",
    "gbrt = GradientBoostingClassifier(random_state=0).fit(X_train, y_train)\n",
    "filename = 'models/MLS_GradientBoosting.sav'\n",
    "pickle.dump(gbrt, open(filename, 'wb'))\n",
    "print(\"\\nGradient Boosting\")\n",
    "print(\"Accuracy on training set: {:.3f}\".format(gbrt.score(X_train, y_train)))\n",
    "print(\"Accuracy on test set: {:.3f}\".format(gbrt.score(X_test, y_test)))\n",
    "\n",
    "#Train support vector machine model\n",
    "svm = SVC().fit(X_train, y_train)\n",
    "filename = 'models/MLS_SVM.sav'\n",
    "pickle.dump(svm, open(filename, 'wb'))\n",
    "print(\"\\nSupport Vector Machine\")\n",
    "print(\"Accuracy on training set: {:.3f}\".format(svm.score(X_train, y_train)))\n",
    "print(\"Accuracy on test set: {:.3f}\".format(svm.score(X_test, y_test)))\n",
    "\n",
    "#Train neural network model\n",
    "mlp = MLPClassifier(random_state=0).fit(X_train, y_train)\n",
    "filename = 'models/MLS_MLP.sav'\n",
    "pickle.dump(mlp, open(filename, 'wb'))\n",
    "print(\"\\nMultilayer Perceptron\")\n",
    "print(\"Accuracy on training set: {:.3f}\".format(mlp.score(X_train, y_train)))\n",
    "print(\"Accuracy on test set: {:.3f}\".format(mlp.score(X_test, y_test)))"
   ],
   "outputs": [
    {
     "output_type": "stream",
     "name": "stdout",
     "text": [
      "\n",
      "Decision Tree\n",
      "Accuracy on training set: 1.000\n",
      "Accuracy on test set: 0.892\n",
      "\n",
      "Random Forests\n",
      "Accuracy on training set: 0.987\n",
      "Accuracy on test set: 0.890\n",
      "\n",
      "Gradient Boosting\n",
      "Accuracy on training set: 0.928\n",
      "Accuracy on test set: 0.915\n",
      "\n",
      "Support Vector Machine\n",
      "Accuracy on training set: 0.894\n",
      "Accuracy on test set: 0.900\n",
      "\n",
      "Multilayer Perceptron\n",
      "Accuracy on training set: 0.920\n",
      "Accuracy on test set: 0.917\n"
     ]
    },
    {
     "output_type": "stream",
     "name": "stderr",
     "text": [
      "/home/brunohonorio/.local/lib/python3.8/site-packages/sklearn/neural_network/_multilayer_perceptron.py:582: ConvergenceWarning: Stochastic Optimizer: Maximum iterations (200) reached and the optimization hasn't converged yet.\n",
      "  warnings.warn(\n"
     ]
    }
   ],
   "metadata": {}
  },
  {
   "cell_type": "code",
   "execution_count": 9,
   "source": [
    "def plot_feature_importances_mydata(model, c):\n",
    "    n_features = len(X_train.columns)\n",
    "    plt.figure(1,figsize=(18,10))\n",
    "    plt.bar(range(n_features), model.feature_importances_, align='center', color=c)\n",
    "    plt.xticks(np.arange(n_features), X_train.columns)\n",
    "    plt.ylabel(\"Variable importance\")\n",
    "    plt.xlabel(\"Independent Variable\")\n",
    "    plt.title(model.__class__.__name__)\n",
    "    plt.show()"
   ],
   "outputs": [],
   "metadata": {}
  },
  {
   "cell_type": "code",
   "execution_count": 11,
   "source": [
    "plot_feature_importances_mydata(gbrt,'blue')"
   ],
   "outputs": [
    {
     "output_type": "display_data",
     "data": {
      "text/plain": [
       "<Figure size 1296x720 with 1 Axes>"
      ],
      "image/png": "[encoded data removed]"
     },
     "metadata": {
      "needs_background": "light"
     }
    }
   ],
   "metadata": {}
  },
  {
   "cell_type": "code",
   "execution_count": null,
   "source": [
    "import tensorflow as tf\n",
    "from tensorflow import keras\n",
    "\n",
    "NeuralNetwork = tf.keras.Sequential([\n",
    "    tf.keras.layers.Dense(8, activation='relu', input_shape=(12,)),\n",
    "    tf.keras.layers.Dense(128, activation='relu'),\n",
    "    tf.keras.layers.Dense(10, activation='softmax')\n",
    "])\n",
    "\n",
    "NeuralNetwork.compile(optimizer='adam',\n",
    "              loss='sparse_categorical_crossentropy',\n",
    "              metrics=['accuracy'])\n",
    "history = NeuralNetwork.fit(X_train, y_train,validation_split=0.2, epochs=100, verbose=4)\n",
    "\n",
    "test_loss, test_acc = NeuralNetwork.evaluate(X_test,  y_test, verbose=0)\n",
    "\n",
    "\n",
    "print('\\nTest accuracy:', test_acc)"
   ],
   "outputs": [],
   "metadata": {}
  },
  {
   "cell_type": "code",
   "execution_count": 11,
   "source": [
    "plt.plot(history.history['accuracy'])\n",
    "plt.plot(history.history['val_accuracy'])\n",
    "plt.title('model accuracy')\n",
    "plt.ylabel('accuracy')\n",
    "plt.xlabel('epoch')\n",
    "plt.legend(['train', 'val'], loc='upper left')\n",
    "plt.show()"
   ],
   "outputs": [
    {
     "output_type": "display_data",
     "data": {
      "text/plain": [
       "<Figure size 432x288 with 1 Axes>"
      ],
      "image/png": "[encoded data removed]"
     },
     "metadata": {
      "needs_background": "light"
     }
    }
   ],
   "metadata": {}
  },
  {
   "cell_type": "code",
   "execution_count": 12,
   "source": [
    "plt.plot(history.history['loss'])\n",
    "plt.plot(history.history['val_loss'])\n",
    "plt.title('model loss')\n",
    "plt.ylabel('loss')\n",
    "plt.xlabel('epoch')\n",
    "plt.legend(['train', 'test'], loc='upper left')\n",
    "plt.show()"
   ],
   "outputs": [
    {
     "output_type": "display_data",
     "data": {
      "text/plain": [
       "<Figure size 432x288 with 1 Axes>"
      ],
      "image/png": "[encoded data removed]"
     },
     "metadata": {
      "needs_background": "light"
     }
    }
   ],
   "metadata": {}
  },
  {
   "cell_type": "code",
   "execution_count": null,
   "source": [],
   "outputs": [],
   "metadata": {}
  }
 ],
 "metadata": {
  "interpreter": {
   "hash": "5416e886b2da67312ca4f5cf753d3133e2603bbf2f07750dd1ae6cf6c6d20287"
  },
  "kernelspec": {
   "name": "python3",
   "display_name": "Python 3.8.10 64-bit ('venv': venv)"
  },
  "language_info": {
   "codemirror_mode": {
    "name": "ipython",
    "version": 3
   },
   "file_extension": ".py",
   "mimetype": "text/x-python",
   "name": "python",
   "nbconvert_exporter": "python",
   "pygments_lexer": "ipython3",
   "version": "3.8.10"
  },
  "metadata": {
   "interpreter": {
    "hash": "5416e886b2da67312ca4f5cf753d3133e2603bbf2f07750dd1ae6cf6c6d20287"
   }
  },
  "orig_nbformat": 2
 },
 "nbformat": 4,
 "nbformat_minor": 2
}