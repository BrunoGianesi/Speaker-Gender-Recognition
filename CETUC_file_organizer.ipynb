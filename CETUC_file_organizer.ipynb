{
 "metadata": {
  "language_info": {
   "codemirror_mode": {
    "name": "ipython",
    "version": 3
   },
   "file_extension": ".py",
   "mimetype": "text/x-python",
   "name": "python",
   "nbconvert_exporter": "python",
   "pygments_lexer": "ipython3",
   "version": "3.9.1"
  },
  "orig_nbformat": 2,
  "kernelspec": {
   "name": "venv",
   "display_name": "venv",
   "language": "python"
  },
  "metadata": {
   "interpreter": {
    "hash": "86fe660c14581cc91ac61b0fb10b74193d8a886e17307eacd884d45310f05535"
   }
  }
 },
 "nbformat": 4,
 "nbformat_minor": 2,
 "cells": [
  {
   "cell_type": "code",
   "execution_count": null,
   "metadata": {},
   "outputs": [],
   "source": [
    "import os\n",
    "import shutil"
   ]
  },
  {
   "source": [
    "## Create dataset only with the audio files"
   ],
   "cell_type": "markdown",
   "metadata": {}
  },
  {
   "cell_type": "code",
   "execution_count": null,
   "metadata": {
    "tags": [
     "outputPrepend"
    ]
   },
   "outputs": [],
   "source": [
    "current_path = os.getcwd()\n",
    "source = os.path.join(current_path, \"CETUC\", \"alcaim\")\n",
    "destination = os.path.join(current_path, \"CETUC\", \"Full\")\n",
    "# protect so you dont run this accidentally\n",
    "are_you_sure = False\n",
    "if are_you_sure:\n",
    "    folders = os.listdir(source)\n",
    "    for folder in folders:\n",
    "        path = os.path.join(source, folder)\n",
    "        if os.path.isdir(path):\n",
    "            files = os.listdir(path)\n",
    "            for file in files:\n",
    "                file_path = os.path.join(path, file)    \n",
    "                if file.endswith('.wav'):\n",
    "                    shutil.copy(file_path,destination)\n",
    "                    print(file)"
   ]
  }
 ]
}