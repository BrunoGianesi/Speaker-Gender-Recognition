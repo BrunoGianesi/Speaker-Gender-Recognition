{
 "cells": [
  {
   "cell_type": "markdown",
   "source": [
    "# Imports"
   ],
   "metadata": {}
  },
  {
   "cell_type": "code",
   "execution_count": 1,
   "source": [
    "#!/usr/bin/python\n",
    "# -*- coding: utf-8 -*-\n",
    "\n",
    "import os\n",
    "import librosa\n",
    "import asyncio\n",
    "import numpy as np\n",
    "import pandas as pd\n",
    "import scipy.stats as stats\n",
    "import time\n",
    "import nest_asyncio\n",
    "from speechpy import feature"
   ],
   "outputs": [],
   "metadata": {}
  },
  {
   "cell_type": "markdown",
   "source": [
    "# Frequency Features"
   ],
   "metadata": {}
  },
  {
   "cell_type": "markdown",
   "source": [
    "## Extract Features"
   ],
   "metadata": {}
  },
  {
   "cell_type": "code",
   "execution_count": null,
   "source": [
    "async def sleep_sent(count):\n",
    "    print(f'Time: {time.time() - start_time:.2f} Count Sent: {count}')\n",
    "    await asyncio.sleep(0.1)"
   ],
   "outputs": [],
   "metadata": {}
  },
  {
   "cell_type": "code",
   "execution_count": null,
   "source": [
    "async def get_frequencies(file):\n",
    "\n",
    "    file_path = os.path.join(current_path,\"CETUC\", \"Full\", file)\n",
    "    if file[0] == 'F':\n",
    "        gender = 0\n",
    "    if file[0] == 'M': \n",
    "        gender = 1\n",
    "    audio_data, sample_rate = await librosa.load(file_path, sr=16000)\n",
    "\n",
    "    step = int(3200) #3200 sampling points every 1/5 sec\n",
    "    window_frequencies = []\n",
    "\n",
    "    for i in range(0,len(audio_data),step):\n",
    "        ft = np.fft.fft(audio_data[i:i+step]) #fft returns the list N complex numbers\n",
    "        freqs = librosa.fft_frequencies(sr=16000, n_fft=len(ft))\n",
    "        freqs = np.fft.fftfreq(len(ft)) #fftq tells you the frequencies associated with the coefficients\n",
    "        imax = np.argmax(np.abs(ft))\n",
    "        freq = freqs[imax]\n",
    "        freq_in_hz = abs(freq *sample_rate)\n",
    "        window_frequencies.append(freq_in_hz)\n",
    "\n",
    "    \n",
    "    return window_frequencies, gender, file"
   ],
   "outputs": [],
   "metadata": {}
  },
  {
   "cell_type": "code",
   "execution_count": null,
   "source": [
    "async def get_features(count, file):\n",
    "    async with sem:\n",
    "        frequencies, gender, file_name = await get_frequencies(file)\n",
    "\n",
    "        nobs, minmax, mean, variance, skew, kurtosis =  stats.describe(frequencies)\n",
    "        median   = np.median(frequencies)\n",
    "        mode     = stats.mode(frequencies).mode[0]\n",
    "        std      = np.std(frequencies)\n",
    "        low,peak = minmax\n",
    "        q75,q25  = np.percentile(frequencies, [75 ,25])\n",
    "        iqr      = q75 - q25\n",
    "\n",
    "        features_list.append([file_name, nobs, mean, skew, kurtosis, median, mode, std, low, peak, q25, q75, iqr, gender])\n",
    "\n",
    "        print(f\"\\r{count}/{len(audio_files)}\", end='')\n",
    "\n",
    "        return nobs, mean, skew, kurtosis, median, mode, std, low, peak, q25, q75, iqr"
   ],
   "outputs": [],
   "metadata": {}
  },
  {
   "cell_type": "code",
   "execution_count": null,
   "source": [
    "# #Calculo de tempo de disparo\n",
    "start_time = time.time()\n",
    "\n",
    "#inicio do Loop\n",
    "loop = asyncio.get_event_loop()\n",
    "\n",
    "#Controle de requisições por vez\n",
    "sem = asyncio.Semaphore(6000)\n",
    "\n",
    "#Array de tasks\n",
    "sents = []\n",
    "\n",
    "nest_asyncio.apply()\n",
    "\n",
    "#Coleta as recomendações para envio\n",
    "gender_list = []\n",
    "file_list = []\n",
    "features_list = []\n",
    "\n",
    "\n",
    "current_path = os.getcwd()\n",
    "file_path = os.path.join(current_path,\"CETUC\", \"Full\")\n",
    "audio_files = os.listdir(file_path)\n",
    "\n",
    "for k, file in enumerate(audio_files):\n",
    "    sent = asyncio.ensure_future(get_features(count=k+1, file=file))\n",
    "    #sent = asyncio.create_task(get_features(count=k+1, files=audio_files))\n",
    "    \n",
    "    sents.append(sent)\n",
    " \n",
    "done, _ = loop.run_until_complete(asyncio.wait(sents))"
   ],
   "outputs": [],
   "metadata": {}
  },
  {
   "cell_type": "markdown",
   "source": [
    "## Save to dataframe and to .csv"
   ],
   "metadata": {}
  },
  {
   "cell_type": "code",
   "execution_count": null,
   "source": [
    "dataframe_features = pd.DataFrame(features_list, columns = ['FileName', 'nobs', 'mean', 'skew', 'kurtosis', 'median', 'mode', 'std', 'low', 'peak', 'q25', 'q75', 'iqr', 'Gender'])\n",
    "dataframe_features.to_csv('data/CETUC_Features_data.csv', index=False)"
   ],
   "outputs": [],
   "metadata": {}
  },
  {
   "cell_type": "markdown",
   "source": [
    "# Log Mel "
   ],
   "metadata": {}
  },
  {
   "cell_type": "markdown",
   "source": [],
   "metadata": {}
  },
  {
   "cell_type": "code",
   "execution_count": 10,
   "source": [
    "async def LMFE(count, file):\n",
    "    async with sem:\n",
    "        file_path = os.path.join(current_path,\"CETUC\", \"Full\", file)\n",
    "        if file[0] == 'F':\n",
    "            gender = 0\n",
    "        if file[0] == 'M': \n",
    "            gender = 1\n",
    "        audio_data, sample_rate = librosa.load(file_path, sr=16000)\n",
    "        \n",
    "        logenergy = feature.lmfe(audio_data, sampling_frequency=sample_rate,\n",
    "                                    frame_length=0.020, frame_stride=0.01,\n",
    "                                    num_filters=40, fft_length=512,\n",
    "                                    low_frequency=0, high_frequency=None)\n",
    "\n",
    "        print(len(logenergy))\n",
    "\n",
    "        features_list.append([file, logenergy, gender])\n",
    "                                    \n",
    "        print(f\"\\r{count}/{len(audio_files)}\", end='')\n",
    "\n",
    "        return logenergy"
   ],
   "outputs": [],
   "metadata": {}
  },
  {
   "cell_type": "code",
   "execution_count": 11,
   "source": [
    "# #Calculo de tempo de disparo\n",
    "start_time = time.time()\n",
    "\n",
    "#inicio do Loop\n",
    "loop = asyncio.get_event_loop()\n",
    "\n",
    "#Controle de requisições por vez\n",
    "sem = asyncio.Semaphore(3000)\n",
    "\n",
    "#Array de tasks\n",
    "sents = []\n",
    "\n",
    "nest_asyncio.apply()\n",
    "\n",
    "#Coleta as recomendações para envio\n",
    "gender_list = []\n",
    "file_list = []\n",
    "features_list = []\n",
    "\n",
    "\n",
    "current_path = os.getcwd()\n",
    "file_path = os.path.join(current_path,\"CETUC\", \"Full\")\n",
    "audio_files = os.listdir(file_path)\n",
    "\n",
    "for k, file in enumerate(audio_files[:1]):\n",
    "    sent = asyncio.ensure_future(LMFE(count=k+1, file=file))\n",
    "    #sent = asyncio.create_task(LMFE(count=k+1, file=audio_files))\n",
    "    \n",
    "    sents.append(sent)\n",
    " \n",
    "done, _ = loop.run_until_complete(asyncio.wait(sents))"
   ],
   "outputs": [
    {
     "output_type": "stream",
     "name": "stdout",
     "text": [
      "471\n",
      "1/100998"
     ]
    }
   ],
   "metadata": {}
  },
  {
   "cell_type": "code",
   "execution_count": null,
   "source": [
    "dataframe_features = pd.DataFrame(features_list, columns = ['FileName', 'LMFE', 'Gender'])\n",
    "dataframe_features.to_csv('data/CETUC_LMFE_data.csv', index=False)"
   ],
   "outputs": [],
   "metadata": {}
  },
  {
   "cell_type": "code",
   "execution_count": null,
   "source": [
    "current_path = os.getcwd()\n",
    "file_path = os.path.join(current_path,\"CETUC\", \"Full\")\n",
    "audio_files = os.listdir(file_path)\n",
    "len(audio_files[50000:])"
   ],
   "outputs": [],
   "metadata": {}
  }
 ],
 "metadata": {
  "orig_nbformat": 4,
  "language_info": {
   "name": "python",
   "version": "3.8.10",
   "mimetype": "text/x-python",
   "codemirror_mode": {
    "name": "ipython",
    "version": 3
   },
   "pygments_lexer": "ipython3",
   "nbconvert_exporter": "python",
   "file_extension": ".py"
  },
  "kernelspec": {
   "name": "python3",
   "display_name": "Python 3.8.10 64-bit ('venv': venv)"
  },
  "interpreter": {
   "hash": "5416e886b2da67312ca4f5cf753d3133e2603bbf2f07750dd1ae6cf6c6d20287"
  }
 },
 "nbformat": 4,
 "nbformat_minor": 2
}