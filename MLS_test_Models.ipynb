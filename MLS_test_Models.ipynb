{
 "cells": [
  {
   "cell_type": "markdown",
   "source": [
    "# Imports"
   ],
   "metadata": {}
  },
  {
   "cell_type": "code",
   "execution_count": 20,
   "source": [
    "import pickle\n",
    "import pandas as pd\n",
    "from sklearn.preprocessing import StandardScaler\n",
    "from sklearn.metrics import confusion_matrix"
   ],
   "outputs": [],
   "metadata": {}
  },
  {
   "cell_type": "markdown",
   "source": [
    "# Test Models on MLS"
   ],
   "metadata": {}
  },
  {
   "cell_type": "markdown",
   "source": [
    "## Load test data"
   ],
   "metadata": {}
  },
  {
   "cell_type": "code",
   "execution_count": 21,
   "source": [
    "features = 'MFCCs'\n",
    "dataset = 'CETUC'\n",
    "\n",
    "test_MLS = pd.read_csv(f'data/MLS_split_{features}_data.csv')\n",
    "\n",
    "if features == 'Features':\n",
    "    X_test = test_MLS[['nobs', 'mean', 'skew', 'kurtosis', 'median', 'mode', 'std', 'low', 'peak', 'q25', 'q75', 'iqr']].copy()\n",
    "    Y_test = test_MLS[['Gender']].copy()#.values.ravel()\n",
    "elif features == 'MFCCs':\n",
    "    X_test = test_MLS[['MFCC_1', 'MFCC_2', 'MFCC_3', 'MFCC_4', 'MFCC_5', 'MFCC_6', 'MFCC_7', 'MFCC_8', 'MFCC_9', 'MFCC_10',\n",
    "                        'MFCC_11', 'MFCC_12', 'MFCC_13', 'MFCC_14', 'MFCC_15', 'MFCC_16', 'MFCC_17', 'MFCC_18', 'MFCC_19', 'MFCC_20']].copy()\n",
    "    Y_test = test_MLS[['Gender']].copy().values.ravel()"
   ],
   "outputs": [],
   "metadata": {}
  },
  {
   "cell_type": "code",
   "execution_count": 22,
   "source": [
    "# scaler = StandardScaler()\n",
    "scaler = pickle.load(open(f'models/{dataset}_{features}_scaler.pkl', 'rb'))\n",
    "X_test = pd.DataFrame(scaler.transform(X_test), columns=X_test.columns)"
   ],
   "outputs": [],
   "metadata": {}
  },
  {
   "cell_type": "markdown",
   "source": [
    "## Load Models"
   ],
   "metadata": {}
  },
  {
   "cell_type": "code",
   "execution_count": 23,
   "source": [
    "\n",
    "\n",
    "filename = f'models/{dataset}_{features}_DecisionTree.sav'\n",
    "tree = pickle.load(open(filename, 'rb'))\n",
    "print(\"\\nDecision Tree\")\n",
    "print(\"Accuracy on test set: {:.3f}\".format(tree.score(X_test, Y_test)))\n",
    "print(f\"Confusion Matrix:\\n {confusion_matrix(Y_test, tree.predict(X_test), labels=[1, 0])}\")\n",
    "\n",
    "filename = f'models/{dataset}_{features}_RandomForest.sav'\n",
    "forest = pickle.load(open(filename, 'rb'))\n",
    "print(\"\\nRandom Forests\")\n",
    "print(\"Accuracy on test set: {:.3f}\".format(forest.score(X_test, Y_test)))\n",
    "print(f\"Confusion Matrix:\\n {confusion_matrix(Y_test, forest.predict(X_test), labels=[1, 0])}\")\n",
    "\n",
    "filename = f'models/{dataset}_{features}_GradientBoosting.sav'\n",
    "gbrt = pickle.load(open(filename, 'rb'))\n",
    "print(\"\\nGradient Boosting\")\n",
    "print(\"Accuracy on test set: {:.3f}\".format(gbrt.score(X_test, Y_test)))\n",
    "print(f\"Confusion Matrix:\\n {confusion_matrix(Y_test, gbrt.predict(X_test), labels=[1, 0])}\")"
   ],
   "outputs": [
    {
     "output_type": "stream",
     "name": "stdout",
     "text": [
      "\n",
      "Decision Tree\n",
      "Accuracy on test set: 0.709\n",
      "Confusion Matrix:\n",
      " [[1553  951]\n",
      " [ 476 1932]]\n",
      "\n",
      "Random Forests\n",
      "Accuracy on test set: 0.735\n",
      "Confusion Matrix:\n",
      " [[1436 1068]\n",
      " [ 235 2173]]\n",
      "\n",
      "Gradient Boosting\n",
      "Accuracy on test set: 0.802\n",
      "Confusion Matrix:\n",
      " [[1595  909]\n",
      " [  65 2343]]\n"
     ]
    }
   ],
   "metadata": {}
  },
  {
   "cell_type": "code",
   "execution_count": 24,
   "source": [
    "filename = f'models/{dataset}_{features}_LogisticRegression.sav'\n",
    "lgr = pickle.load(open(filename, 'rb'))\n",
    "print(\"\\nLogisticRegression\")\n",
    "print(\"Accuracy on test set: {:.3f}\".format(lgr.score(X_test, Y_test)))\n",
    "print(f\"Confusion Matrix:\\n {confusion_matrix(Y_test, lgr.predict(X_test), labels=[1, 0])}\")\n",
    "\n",
    "filename = f'models/{dataset}_{features}_SVM.sav'\n",
    "svm = pickle.load(open(filename, 'rb'))\n",
    "print(\"\\nSupport Vector Machine\")\n",
    "print(\"Accuracy on test set: {:.3f}\".format(svm.score(X_test, Y_test)))\n",
    "print(f\"Confusion Matrix:\\n {confusion_matrix(Y_test, svm.predict(X_test), labels=[1, 0])}\")\n",
    "\n",
    "filename = f'models/{dataset}_{features}_MLP.sav'\n",
    "mlp = pickle.load(open(filename, 'rb'))\n",
    "print(\"\\nMultilayer Perceptron\")\n",
    "print(\"Accuracy on test set: {:.3f}\".format(mlp.score(X_test, Y_test)))\n",
    "print(f\"Confusion Matrix:\\n {confusion_matrix(Y_test, mlp.predict(X_test), labels=[1, 0])}\")\n"
   ],
   "outputs": [
    {
     "output_type": "stream",
     "name": "stdout",
     "text": [
      "\n",
      "LogisticRegression\n",
      "Accuracy on test set: 0.783\n",
      "Confusion Matrix:\n",
      " [[1490 1014]\n",
      " [  51 2357]]\n",
      "\n",
      "Support Vector Machine\n",
      "Accuracy on test set: 0.776\n",
      "Confusion Matrix:\n",
      " [[1471 1033]\n",
      " [  69 2339]]\n",
      "\n",
      "Multilayer Perceptron\n",
      "Accuracy on test set: 0.755\n",
      "Confusion Matrix:\n",
      " [[1324 1180]\n",
      " [  21 2387]]\n"
     ]
    }
   ],
   "metadata": {}
  },
  {
   "cell_type": "code",
   "execution_count": null,
   "source": [],
   "outputs": [],
   "metadata": {}
  }
 ],
 "metadata": {
  "interpreter": {
   "hash": "5416e886b2da67312ca4f5cf753d3133e2603bbf2f07750dd1ae6cf6c6d20287"
  },
  "kernelspec": {
   "name": "python3",
   "display_name": "Python 3.8.10 64-bit ('venv': venv)"
  },
  "language_info": {
   "name": "python",
   "version": "3.8.10",
   "mimetype": "text/x-python",
   "codemirror_mode": {
    "name": "ipython",
    "version": 3
   },
   "pygments_lexer": "ipython3",
   "nbconvert_exporter": "python",
   "file_extension": ".py"
  },
  "metadata": {
   "interpreter": {
    "hash": "5416e886b2da67312ca4f5cf753d3133e2603bbf2f07750dd1ae6cf6c6d20287"
   }
  },
  "orig_nbformat": 2
 },
 "nbformat": 4,
 "nbformat_minor": 2
}