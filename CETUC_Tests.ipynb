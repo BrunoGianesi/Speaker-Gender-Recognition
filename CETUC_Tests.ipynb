{
 "cells": [
  {
   "cell_type": "code",
   "execution_count": 2,
   "metadata": {},
   "outputs": [],
   "source": [
    "#!/usr/bin/python\n",
    "# -*- coding: utf-8 -*-\n",
    "\n",
    "import os\n",
    "import librosa\n",
    "from pyspark.sql import *\n",
    "import matplotlib.pyplot as plt\n",
    "import numpy as np\n",
    "import json\n",
    "import pandas as pd\n",
    "from scipy.io import wavfile\n",
    "import scipy.stats as stats"
   ]
  },
  {
   "cell_type": "code",
   "execution_count": 24,
   "metadata": {},
   "outputs": [
    {
     "data": {
      "image/png": "[encoded data removed]",
      "text/plain": [
       "<Figure size 432x288 with 1 Axes>"
      ]
     },
     "metadata": {
      "needs_background": "light"
     },
     "output_type": "display_data"
    }
   ],
   "source": [
    "current_path = os.getcwd()\n",
    "file_path = os.path.join(current_path,\"CETUC\", \"Full\", \"F000-0000.wav\")\n",
    "audio_data, sample_rate = librosa.load(file_path, sr=16000)\n",
    "step = int(sample_rate)\n",
    "window_frequencies = []\n",
    "top_freq = []\n",
    "\n",
    "ft = np.fft.fft(audio_data)\n",
    "magnitude = np.abs(ft)\n",
    "frequency = np.linspace(0, sample_rate, len(magnitude))\n",
    "\n",
    "plt.figure()\n",
    "plt.plot(frequency[:int(len(frequency)/2)], magnitude[:int(len(frequency)/2)])\n",
    "plt.xlabel(\"Frequency\")\n",
    "plt.ylabel(\"Magnitude\")\n",
    "plt.show()"
   ]
  },
  {
   "cell_type": "code",
   "execution_count": 39,
   "metadata": {},
   "outputs": [
    {
     "name": "stdout",
     "output_type": "stream",
     "text": [
      "[[0. 0. 0. ... 0. 0. 0.]\n",
      " [0. 0. 0. ... 0. 0. 0.]\n",
      " [0. 0. 0. ... 0. 0. 0.]\n",
      " ...\n",
      " [0. 0. 0. ... 0. 0. 0.]\n",
      " [0. 0. 0. ... 0. 0. 0.]\n",
      " [0. 0. 0. ... 0. 0. 0.]]\n"
     ]
    }
   ],
   "source": [
    "pitches, magnitudes = librosa.piptrack(y=audio_data, sr=sample_rate)\n",
    "\n",
    "print(pitches)"
   ]
  },
  {
   "cell_type": "code",
   "execution_count": 4,
   "metadata": {},
   "outputs": [
    {
     "data": {
      "text/html": [
       "<div>\n",
       "<style scoped>\n",
       "    .dataframe tbody tr th:only-of-type {\n",
       "        vertical-align: middle;\n",
       "    }\n",
       "\n",
       "    .dataframe tbody tr th {\n",
       "        vertical-align: top;\n",
       "    }\n",
       "\n",
       "    .dataframe thead th {\n",
       "        text-align: right;\n",
       "    }\n",
       "</style>\n",
       "<table border=\"1\" class=\"dataframe\">\n",
       "  <thead>\n",
       "    <tr style=\"text-align: right;\">\n",
       "      <th></th>\n",
       "      <th>FileName</th>\n",
       "      <th>MFCCs</th>\n",
       "      <th>Gender</th>\n",
       "    </tr>\n",
       "  </thead>\n",
       "  <tbody>\n",
       "    <tr>\n",
       "      <th>0</th>\n",
       "      <td>F003-0616.wav</td>\n",
       "      <td>[-451.6433, 120.348, -2.872225, 47.23785, -0.9...</td>\n",
       "      <td>0</td>\n",
       "    </tr>\n",
       "    <tr>\n",
       "      <th>1</th>\n",
       "      <td>F000-0823.wav</td>\n",
       "      <td>[-309.70892, 96.34725, 10.261569, 34.542908, 6...</td>\n",
       "      <td>0</td>\n",
       "    </tr>\n",
       "    <tr>\n",
       "      <th>2</th>\n",
       "      <td>M009-0399.wav</td>\n",
       "      <td>[-351.83615, 133.79265, 5.291138, 34.379498, -...</td>\n",
       "      <td>1</td>\n",
       "    </tr>\n",
       "    <tr>\n",
       "      <th>3</th>\n",
       "      <td>F033-0492.wav</td>\n",
       "      <td>[-320.95276, 113.08917, 3.0742784, 52.79208, -...</td>\n",
       "      <td>0</td>\n",
       "    </tr>\n",
       "    <tr>\n",
       "      <th>4</th>\n",
       "      <td>M029-0430.wav</td>\n",
       "      <td>[-369.07828, 117.03207, -19.2489, 41.3894, 14....</td>\n",
       "      <td>1</td>\n",
       "    </tr>\n",
       "  </tbody>\n",
       "</table>\n",
       "</div>"
      ],
      "text/plain": [
       "        FileName                                              MFCCs  Gender\n",
       "0  F003-0616.wav  [-451.6433, 120.348, -2.872225, 47.23785, -0.9...       0\n",
       "1  F000-0823.wav  [-309.70892, 96.34725, 10.261569, 34.542908, 6...       0\n",
       "2  M009-0399.wav  [-351.83615, 133.79265, 5.291138, 34.379498, -...       1\n",
       "3  F033-0492.wav  [-320.95276, 113.08917, 3.0742784, 52.79208, -...       0\n",
       "4  M029-0430.wav  [-369.07828, 117.03207, -19.2489, 41.3894, 14....       1"
      ]
     },
     "execution_count": 4,
     "metadata": {},
     "output_type": "execute_result"
    }
   ],
   "source": [
    "df = pd.read_csv('data/CETUC_MFCCs_data.csv')\n",
    "df.head()"
   ]
  },
  {
   "cell_type": "code",
   "execution_count": 5,
   "metadata": {},
   "outputs": [],
   "source": [
    "def get_features(frequencies):\n",
    "\n",
    "  nobs, minmax, mean, variance, skew, kurtosis =  stats.describe(frequencies)\n",
    "  median   = np.median(frequencies)\n",
    "  mode     = stats.mode(frequencies).mode[0]\n",
    "  std      = np.std(frequencies)\n",
    "  low,peak = minmax\n",
    "  q75,q25  = np.percentile(frequencies, [75 ,25])\n",
    "  iqr      = q75 - q25\n",
    "  return nobs, mean, skew, kurtosis, median, mode, std, low, peak, q25, q75, iqr"
   ]
  },
  {
   "cell_type": "code",
   "execution_count": 18,
   "metadata": {},
   "outputs": [
    {
     "data": {
      "text/plain": [
       "[-451.6433,\n",
       " 120.348,\n",
       " -2.872225,\n",
       " 47.23785,\n",
       " -0.977582,\n",
       " 13.857303,\n",
       " -4.6302943,\n",
       " 3.9663014,\n",
       " 1.8603282,\n",
       " -1.2127173,\n",
       " 1.9951056,\n",
       " -1.1936945,\n",
       " -4.1709275,\n",
       " -6.6610575,\n",
       " -0.2382222,\n",
       " -9.994849,\n",
       " 0.035242043,\n",
       " -7.937756,\n",
       " -6.492932,\n",
       " -9.149591]"
      ]
     },
     "execution_count": 18,
     "metadata": {},
     "output_type": "execute_result"
    }
   ],
   "source": [
    "import json\n",
    "json.loads(df['MFCCs'][0])"
   ]
  },
  {
   "cell_type": "code",
   "execution_count": 20,
   "metadata": {},
   "outputs": [
    {
     "name": "stdout",
     "output_type": "stream",
     "text": [
      "99.999% complete"
     ]
    }
   ],
   "source": [
    "features_list = []\n",
    "for i in range(len(df)):\n",
    "    nobs, mean, skew, kurtosis, median, mode, std, low, peak, q25, q75, iqr = get_features(json.loads(df['MFCCs'][i]))\n",
    "    data = [df['FileName'][i], nobs, mean, skew, kurtosis, median, mode, std, low, peak, q25, q75, iqr, df['Gender'][i]]\n",
    "    features_list.append(data)\n",
    "    print(f\"\\r{i/len(df)*100:.3f}% complete\",end='')\n",
    "df_final = pd.DataFrame(features_list, columns = ['FileName', 'nobs', 'mean', 'skew', 'kurtosis', 'median', 'mode', 'std', 'low', 'peak', 'q25', 'q75', 'iqr', 'Gender'])\n",
    "df_final.to_csv('data/CETUC_MFCCs_statistics_data.csv', index=False)\n"
   ]
  },
  {
   "cell_type": "code",
   "execution_count": null,
   "metadata": {},
   "outputs": [],
   "source": []
  }
 ],
 "metadata": {
  "interpreter": {
   "hash": "5416e886b2da67312ca4f5cf753d3133e2603bbf2f07750dd1ae6cf6c6d20287"
  },
  "kernelspec": {
   "display_name": "Python 3.8.10 64-bit ('venv': venv)",
   "name": "python3"
  },
  "language_info": {
   "codemirror_mode": {
    "name": "ipython",
    "version": 3
   },
   "file_extension": ".py",
   "mimetype": "text/x-python",
   "name": "python",
   "nbconvert_exporter": "python",
   "pygments_lexer": "ipython3",
   "version": "3.8.10"
  },
  "orig_nbformat": 4
 },
 "nbformat": 4,
 "nbformat_minor": 2
}